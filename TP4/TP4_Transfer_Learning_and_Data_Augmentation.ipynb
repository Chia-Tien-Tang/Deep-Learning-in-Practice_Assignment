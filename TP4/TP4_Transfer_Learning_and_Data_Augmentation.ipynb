{
  "cells": [
    {
      "cell_type": "markdown",
      "metadata": {
        "colab_type": "text",
        "id": "view-in-github"
      },
      "source": [
        "<a href=\"https://colab.research.google.com/github/Chia-Tien-Tang/Deep-Learning-in-Practice_Assignment/blob/main/TP4/TP4_Transfer_Learning_and_Data_Augmentation.ipynb\" target=\"_parent\"><img src=\"https://colab.research.google.com/assets/colab-badge.svg\" alt=\"Open In Colab\"/></a>"
      ]
    },
    {
      "cell_type": "markdown",
      "metadata": {
        "id": "4jVkOWmgFT1p"
      },
      "source": [
        "# **Practical session on Transfer Learning**\n",
        "This Pratical session proposes to study several techniques for improving challenging context, in which few data and resources are available."
      ]
    },
    {
      "cell_type": "markdown",
      "metadata": {
        "id": "QLKnIngy_2hg"
      },
      "source": [
        "# Introduction\n",
        "\n",
        "**Context :**\n",
        "\n",
        "Assume we are in a context where few \"gold\" labeled data are available for training, say\n",
        "\n",
        "$$\\mathcal{X}_{\\text{train}} = \\{(x_n,y_n)\\}_{n\\leq N_{\\text{train}}}$$\n",
        "\n",
        "where $N_{\\text{train}}$ is small.\n",
        "\n",
        "A large test set $\\mathcal{X}_{\\text{test}}$ as well as a large amount of unlabeled data, $\\mathcal{X}$, is available. We also assume that we have a limited computational budget (e.g., no GPUs).\n",
        "\n",
        "**Instructions to follow :**\n",
        "\n",
        "For each question, write a commented *Code* or a complete answer as a *Markdown*. When the objective of a question is to report a CNN accuracy, please use the following format to report it, at the end of the question :\n",
        "\n",
        "| Model | Number of  epochs  | Train accuracy | Test accuracy |\n",
        "|------|------|------|------|\n",
        "|   XXX  | XXX | XXX | XXX |\n",
        "\n",
        "If applicable, please add the field corresponding to the  __Accuracy on Full Data__ as well as a link to the __Reference paper__ you used to report those numbers. (You do not need to train a CNN on the full CIFAR10 dataset!)\n",
        "\n",
        "In your final report, please *keep the logs of each training procedure* you used. We will only run this jupyter if we have some doubts on your implementation.\n",
        "\n",
        "The total file sizes should be reasonable (feasible with 2MB only!). You will be asked to hand in the notebook, together with any necessary files required to run it if any.\n",
        "\n",
        "You can use https://colab.research.google.com/ to run your experiments."
      ]
    },
    {
      "cell_type": "markdown",
      "metadata": {
        "id": "YmTCQPSh_2hg"
      },
      "source": [
        "## Training set creation\n",
        "__Question 1 (1 points) :__ Propose a dataloader to obtain a training loader that will only use the first 100 samples of the CIFAR-10 training set.\n",
        "\n",
        "Additional information :  \n",
        "\n",
        "*   CIFAR10 dataset : https://en.wikipedia.org/wiki/CIFAR-10\n",
        "*   You can directly use the dataloader framework from Pytorch.\n",
        "*   Alternatively you can modify the file : https://github.com/pytorch/vision/blob/master/torchvision/datasets/cifar.py"
      ]
    },
    {
      "cell_type": "code",
      "execution_count": 1,
      "metadata": {
        "id": "0splocDS2zYB"
      },
      "outputs": [],
      "source": [
        "import torch\n",
        "from torchvision import datasets, transforms\n",
        "from torch.utils.data import DataLoader, Subset"
      ]
    },
    {
      "cell_type": "code",
      "execution_count": 2,
      "metadata": {
        "colab": {
          "base_uri": "https://localhost:8080/"
        },
        "id": "uZkC5IxR_2hh",
        "outputId": "b321e6d3-b456-40c3-89f6-ee6e70784371"
      },
      "outputs": [
        {
          "name": "stdout",
          "output_type": "stream",
          "text": [
            "Downloading https://www.cs.toronto.edu/~kriz/cifar-10-python.tar.gz to ./data/cifar-10-python.tar.gz\n"
          ]
        },
        {
          "name": "stderr",
          "output_type": "stream",
          "text": [
            "100%|██████████| 170498071/170498071 [00:06<00:00, 28304740.52it/s]\n"
          ]
        },
        {
          "name": "stdout",
          "output_type": "stream",
          "text": [
            "Extracting ./data/cifar-10-python.tar.gz to ./data\n"
          ]
        }
      ],
      "source": [
        "BATCH_SIZE = 10\n",
        "\n",
        "transform_train = transforms.Compose([\n",
        "    # transforms.Resize((224, 224)),\n",
        "    # transforms.RandomCrop(32, padding=4),\n",
        "    # transforms.RandomHorizontalFlip(),\n",
        "    transforms.ToTensor(),\n",
        "    transforms.Normalize((0.4914, 0.4822, 0.4465), (0.2023, 0.1994, 0.2010)),\n",
        "])\n",
        "\n",
        "train_set = datasets.CIFAR10(\n",
        "    root='./data', train=True, download=True,\n",
        "    transform=transform_train\n",
        "    )\n",
        "\n",
        "# Create a subset containing only the first 100 samples\n",
        "subset_indices = list(range(100))\n",
        "subset_cifar_train = Subset(train_set, subset_indices)\n",
        "\n",
        "train_loader = DataLoader(\n",
        "    subset_cifar_train, batch_size=BATCH_SIZE, shuffle=True, num_workers=2)"
      ]
    },
    {
      "cell_type": "markdown",
      "metadata": {
        "id": "fUno1nmu_2hh"
      },
      "source": [
        "* This is our dataset $\\mathcal{X}_{\\text{train}}$, it will be used until the end of this project.\n",
        "\n",
        "* The remaining samples correspond to $\\mathcal{X}$.\n",
        "\n",
        "* The testing set $\\mathcal{X}_{\\text{test}}$ corresponds to the whole testing set of CIFAR-10."
      ]
    },
    {
      "cell_type": "markdown",
      "metadata": {
        "id": "Vr0d4o5L_2hi"
      },
      "source": [
        "## Testing procedure\n",
        "__Question 2 (0.5 points):__ Explain why the evaluation of the training procedure is difficult. Propose several solutions."
      ]
    },
    {
      "cell_type": "markdown",
      "metadata": {
        "id": "ppiTrnpd_2hi"
      },
      "source": [
        "The evalution of the training procedure is difficult as we limited ourselves with the training set $\\mathcal{X}_{\\text{train}}$ of 100 samples, instead of fully utilizing 50000 available samples. As a result, we have small data to train a model, which would likely to result in the development of an overfitting model. There are several solutions that could mediate small data problem. They are data augmentation, multi-tasking, and transfer learning. Data augmentation solution applies transformations to the samples in order to reduce biases in the model. Multi-tasking uses different samples with features that are related to the task of interest. Lastly, transfer learning requires a model to be trained on a bigger dataset prior to training on a smaller dataset."
      ]
    },
    {
      "cell_type": "markdown",
      "metadata": {
        "id": "OEaIwILB_2hi"
      },
      "source": [
        "# The Baseline"
      ]
    },
    {
      "cell_type": "markdown",
      "metadata": {
        "id": "M-PQZ2Vl_2hi"
      },
      "source": [
        "In this section, the goal is to train a CNN on $\\mathcal{X}_{\\text{train}}$ and compare its performance with reported numbers from the litterature. You will have to re-use and/or design a standard classification pipeline. You should optimize your pipeline to obtain the best performances (image size, data augmentation by flip, ...).\n",
        "\n",
        "The key ingredients for training a CNN are the batch size, as well as the learning rate scheduler (i.e. how to decrease the learning rate as a function of the number of epochs). A possible scheduler is to start the learning rate at 0.1 and decreasing it every 30 epochs by 10. In case of divergence, reduce the learning rate. A potential batch size could be 10, yet this can be cross-validated.\n",
        "\n",
        "You can get some baselines accuracies in this paper (obviously, it is a different context for those researchers who had access to GPUs!) : http://openaccess.thecvf.com/content_cvpr_2018/papers/Keshari_Learning_Structure_and_CVPR_2018_paper.pdf."
      ]
    },
    {
      "cell_type": "markdown",
      "metadata": {
        "id": "ARHWPXrY_2hi"
      },
      "source": [
        "## ResNet architectures"
      ]
    },
    {
      "cell_type": "markdown",
      "metadata": {
        "id": "voMbGoNw_2hj"
      },
      "source": [
        "__Question 3 (2 points) :__ Write a classification pipeline for $\\mathcal{X}_{\\text{train}}$, train from scratch and evaluate a *ResNet-18* architecture specific to CIFAR10 (details about the ImageNet model can be found here: https://arxiv.org/abs/1512.03385). Please report the accuracy obtained on the whole dataset as well as the reference paper/GitHub link.\n",
        "\n",
        "*Hint :* You can re-use the following code : https://github.com/kuangliu/pytorch-cifar. During a training of 10 epochs, a batch size of 10 and a learning rate of 0.01, one obtains 40% accuracy on $\\mathcal{X}_{\\text{train}}$ (\\~2 minutes) and 20% accuracy on $\\mathcal{X}_{\\text{test}}$ (\\~5 minutes)."
      ]
    },
    {
      "cell_type": "code",
      "execution_count": 3,
      "metadata": {
        "id": "oW3oEQGQy4yz"
      },
      "outputs": [],
      "source": [
        "import torch\n",
        "import torch.nn as nn\n",
        "import torch.optim as optim\n",
        "import torch.nn.functional as F\n",
        "import torch.backends.cudnn as cudnn\n",
        "\n",
        "import torchvision\n",
        "import torchvision.transforms as transforms\n",
        "\n",
        "import os\n",
        "import argparse"
      ]
    },
    {
      "cell_type": "code",
      "execution_count": 4,
      "metadata": {
        "colab": {
          "base_uri": "https://localhost:8080/"
        },
        "id": "LACxUsTN1EUf",
        "outputId": "c3905944-d7e7-487b-db03-797c5d67ad82"
      },
      "outputs": [
        {
          "name": "stdout",
          "output_type": "stream",
          "text": [
            "Files already downloaded and verified\n"
          ]
        }
      ],
      "source": [
        "#Load whole testing set\n",
        "BATCH_SIZE = 10\n",
        "\n",
        "transform_test = transforms.Compose([\n",
        "    transforms.ToTensor(),\n",
        "    transforms.Normalize((0.4914, 0.4822, 0.4465), (0.2023, 0.1994, 0.2010)),\n",
        "    ])\n",
        "\n",
        "test_set = torchvision.datasets.CIFAR10(\n",
        "    root='./data', train=False, download=True,\n",
        "    transform=transform_test\n",
        "    )\n",
        "test_loader = torch.utils.data.DataLoader(\n",
        "    test_set, batch_size=BATCH_SIZE, shuffle=False, num_workers=2)"
      ]
    },
    {
      "cell_type": "code",
      "execution_count": 5,
      "metadata": {
        "id": "t3bqlht8zPZe"
      },
      "outputs": [],
      "source": [
        "class BasicBlock(nn.Module):\n",
        "    expansion = 1\n",
        "\n",
        "    def __init__(self, in_planes, planes, stride=1):\n",
        "        super(BasicBlock, self).__init__()\n",
        "        self.conv1 = nn.Conv2d(\n",
        "            in_planes, planes, kernel_size=3, stride=stride, padding=1, bias=False)\n",
        "        self.bn1 = nn.BatchNorm2d(planes)\n",
        "        self.conv2 = nn.Conv2d(planes, planes, kernel_size=3,\n",
        "                               stride=1, padding=1, bias=False)\n",
        "        self.bn2 = nn.BatchNorm2d(planes)\n",
        "\n",
        "        self.shortcut = nn.Sequential()\n",
        "        if stride != 1 or in_planes != self.expansion*planes:\n",
        "            self.shortcut = nn.Sequential(\n",
        "                nn.Conv2d(in_planes, self.expansion*planes,\n",
        "                          kernel_size=1, stride=stride, bias=False),\n",
        "                nn.BatchNorm2d(self.expansion*planes)\n",
        "            )\n",
        "\n",
        "    def forward(self, x):\n",
        "        out = F.relu(self.bn1(self.conv1(x)))\n",
        "        out = self.bn2(self.conv2(out))\n",
        "        out += self.shortcut(x)\n",
        "        out = F.relu(out)\n",
        "        return out\n",
        "\n",
        "class ResNet(nn.Module):\n",
        "    def __init__(self, block, num_blocks, num_classes=10):\n",
        "        super(ResNet, self).__init__()\n",
        "        self.in_planes = 64\n",
        "\n",
        "        self.conv1 = nn.Conv2d(3, 64, kernel_size=3,\n",
        "                               stride=1, padding=1, bias=False)\n",
        "        self.bn1 = nn.BatchNorm2d(64)\n",
        "        self.layer1 = self._make_layer(block, 64, num_blocks[0], stride=1)\n",
        "        self.layer2 = self._make_layer(block, 128, num_blocks[1], stride=2)\n",
        "        self.layer3 = self._make_layer(block, 256, num_blocks[2], stride=2)\n",
        "        self.layer4 = self._make_layer(block, 512, num_blocks[3], stride=2)\n",
        "        self.linear = nn.Linear(512*block.expansion, num_classes)\n",
        "\n",
        "    def _make_layer(self, block, planes, num_blocks, stride):\n",
        "        strides = [stride] + [1]*(num_blocks-1)\n",
        "        layers = []\n",
        "        for stride in strides:\n",
        "            layers.append(block(self.in_planes, planes, stride))\n",
        "            self.in_planes = planes * block.expansion\n",
        "        return nn.Sequential(*layers)\n",
        "\n",
        "    def forward(self, x):\n",
        "        out = F.relu(self.bn1(self.conv1(x)))\n",
        "        out = self.layer1(out)\n",
        "        out = self.layer2(out)\n",
        "        out = self.layer3(out)\n",
        "        out = self.layer4(out)\n",
        "        out = F.avg_pool2d(out, 4)\n",
        "        out = out.view(out.size(0), -1)\n",
        "        out = self.linear(out)\n",
        "        return out\n",
        "\n",
        "def ResNet18():\n",
        "    return ResNet(BasicBlock, [2, 2, 2, 2])"
      ]
    },
    {
      "cell_type": "code",
      "execution_count": null,
      "metadata": {
        "id": "SUqpynuU1WkE"
      },
      "outputs": [],
      "source": []
    },
    {
      "cell_type": "code",
      "execution_count": 6,
      "metadata": {
        "id": "RVHhKmWN_2hj"
      },
      "outputs": [],
      "source": [
        "best_acc = 0\n",
        "\n",
        "def train(epoch, train_loader):\n",
        "    model.train()\n",
        "    train_loss = 0\n",
        "    correct = 0\n",
        "    total = 0\n",
        "    for batch_idx, (inputs, targets) in enumerate(train_loader):\n",
        "        inputs, targets = inputs.to(device), targets.to(device)\n",
        "        optimizer.zero_grad()\n",
        "        outputs = model(inputs)\n",
        "        loss = criterion(outputs, targets)\n",
        "        loss.backward()\n",
        "        optimizer.step()\n",
        "\n",
        "        train_loss += loss.item()\n",
        "        _, predicted = outputs.max(1)\n",
        "        total += targets.size(0)\n",
        "        correct += predicted.eq(targets).sum().item()\n",
        "\n",
        "\n",
        "    acc = 100.*correct/total\n",
        "    return train_loss, acc\n",
        "\n",
        "\n",
        "\n",
        "\n",
        "\n",
        "def test(epoch, test_loader):\n",
        "    global best_acc\n",
        "    model.eval()\n",
        "    test_loss = 0\n",
        "    correct = 0\n",
        "    total = 0\n",
        "    with torch.no_grad():\n",
        "        for batch_idx, (inputs, targets) in enumerate(test_loader):\n",
        "            inputs, targets = inputs.to(device), targets.to(device)\n",
        "            outputs = model(inputs)\n",
        "            loss = criterion(outputs, targets)\n",
        "\n",
        "            test_loss += loss.item()\n",
        "            _, predicted = outputs.max(1)\n",
        "            total += targets.size(0)\n",
        "            correct += predicted.eq(targets).sum().item()\n",
        "\n",
        "    acc = 100.*correct/total\n",
        "\n",
        "    if acc > best_acc:\n",
        "      best_acc = acc\n",
        "\n",
        "    return test_loss, acc"
      ]
    },
    {
      "cell_type": "code",
      "execution_count": null,
      "metadata": {
        "id": "jIQSN-mtd58D"
      },
      "outputs": [],
      "source": [
        "device = 'cuda' if torch.cuda.is_available() else 'cpu'\n",
        "model = ResNet18()\n",
        "model = model.to(device)\n",
        "\n",
        "lr = 0.01\n",
        "epochs = 10\n",
        "criterion = nn.CrossEntropyLoss()\n",
        "optimizer = optim.SGD(model.parameters(), lr=lr,\n",
        "                      momentum=0.9, weight_decay=5e-4)\n",
        "scheduler = torch.optim.lr_scheduler.CosineAnnealingLR(optimizer, T_max=200)"
      ]
    },
    {
      "cell_type": "code",
      "execution_count": null,
      "metadata": {
        "colab": {
          "base_uri": "https://localhost:8080/"
        },
        "id": "3CJBQ7xHd4cw",
        "outputId": "8ce2faab-ca51-4b97-8ce1-6be1159a7bf5"
      },
      "outputs": [
        {
          "name": "stdout",
          "output_type": "stream",
          "text": [
            "\n",
            "Epoch: 1\n",
            "Train Loss: 26.138 | Acc: 14.000%\n",
            "Test Loss: 2331.698 | Acc: 10.290%\n",
            "\n",
            "Epoch: 2\n",
            "Train Loss: 29.076 | Acc: 22.000%\n",
            "Test Loss: 8875.716 | Acc: 13.460%\n",
            "\n",
            "Epoch: 3\n",
            "Train Loss: 29.301 | Acc: 21.000%\n",
            "Test Loss: 11774.737 | Acc: 10.900%\n",
            "\n",
            "Epoch: 4\n",
            "Train Loss: 25.596 | Acc: 19.000%\n",
            "Test Loss: 10221.285 | Acc: 15.000%\n",
            "\n",
            "Epoch: 5\n",
            "Train Loss: 19.938 | Acc: 27.000%\n",
            "Test Loss: 3248.553 | Acc: 18.190%\n",
            "\n",
            "Epoch: 6\n",
            "Train Loss: 16.730 | Acc: 43.000%\n",
            "Test Loss: 6007.935 | Acc: 16.570%\n",
            "\n",
            "Epoch: 7\n",
            "Train Loss: 16.382 | Acc: 44.000%\n",
            "Test Loss: 3320.210 | Acc: 18.640%\n",
            "\n",
            "Epoch: 8\n",
            "Train Loss: 13.608 | Acc: 58.000%\n",
            "Test Loss: 3966.783 | Acc: 18.630%\n",
            "\n",
            "Epoch: 9\n",
            "Train Loss: 12.099 | Acc: 54.000%\n",
            "Test Loss: 3382.747 | Acc: 22.280%\n",
            "\n",
            "Epoch: 10\n",
            "Train Loss: 9.763 | Acc: 68.000%\n",
            "Test Loss: 5000.642 | Acc: 17.160%\n"
          ]
        }
      ],
      "source": [
        "best_acc = 0\n",
        "\n",
        "for epoch in range(epochs):\n",
        "    train_loss, train_acc = train(epoch, train_loader)\n",
        "    print('Train Loss: %.3f | Acc: %.3f%%' % (train_loss, train_acc))\n",
        "    test_loss, test_acc = test(epoch, test_loader)\n",
        "    print('Test Loss: %.3f | Acc: %.3f%%' % (test_loss, test_acc))\n",
        "    scheduler.step()"
      ]
    },
    {
      "cell_type": "markdown",
      "metadata": {
        "id": "-C3mHqCk_2hj"
      },
      "source": [
        "# Transfer learning"
      ]
    },
    {
      "cell_type": "markdown",
      "metadata": {
        "id": "8Tn9pW14_2hj"
      },
      "source": [
        "We propose to use pre-trained models on a classification and generative task, in order to improve the results of our setting."
      ]
    },
    {
      "cell_type": "markdown",
      "metadata": {
        "id": "z8g_3ZDi_2hj"
      },
      "source": [
        "## ImageNet features"
      ]
    },
    {
      "cell_type": "markdown",
      "metadata": {
        "id": "PfYEhdFb_2hj"
      },
      "source": [
        "Now, we will use some pre-trained models on ImageNet and see how well they compare on CIFAR. A list is available on : https://pytorch.org/vision/stable/models.html.\n",
        "\n",
        "__Question 4 (1 points):__ Pick a model from the list above, adapt it for CIFAR10 and retrain its final layer (or a block of layers, depending on the resources to which you have access to). Report its accuracy."
      ]
    },
    {
      "cell_type": "code",
      "execution_count": 7,
      "metadata": {
        "id": "TVx9q9hDJIz6"
      },
      "outputs": [],
      "source": [
        "import torch\n",
        "import torch.nn as nn\n",
        "import torch.optim as optim\n",
        "from sklearn.model_selection import KFold\n",
        "from torchvision.models import resnet50\n",
        "from torchvision import datasets, transforms, models\n",
        "from torchvision.models import resnet50, ResNet50_Weights, VGG19_Weights"
      ]
    },
    {
      "cell_type": "markdown",
      "metadata": {
        "id": "VkeqkPC_AEU3"
      },
      "source": [
        "## Resnet50"
      ]
    },
    {
      "cell_type": "markdown",
      "metadata": {
        "id": "13RXzvNeCmXd"
      },
      "source": [
        "### fit data on resnet50"
      ]
    },
    {
      "cell_type": "code",
      "execution_count": 35,
      "metadata": {
        "colab": {
          "base_uri": "https://localhost:8080/"
        },
        "id": "DoB4tx4OG1A6",
        "outputId": "f221e292-f027-4b97-d10d-547c31d778bc"
      },
      "outputs": [
        {
          "name": "stdout",
          "output_type": "stream",
          "text": [
            "Files already downloaded and verified\n",
            "Files already downloaded and verified\n"
          ]
        }
      ],
      "source": [
        "num_classes = 10\n",
        "num_epochs = 10\n",
        "batch_size = 10\n",
        "\n",
        "# Preprocess the data to fit pretrained model\n",
        "weights = ResNet50_Weights.DEFAULT\n",
        "preprocess = weights.transforms()\n",
        "\n",
        "train_set = datasets.CIFAR10(\n",
        "    root='./data', train=True, download=True,\n",
        "    transform=preprocess\n",
        "    )\n",
        "test_set = datasets.CIFAR10(\n",
        "    root='./data', train=False, download=True,\n",
        "    transform=preprocess\n",
        "    )\n",
        "\n",
        "# Create a subset containing only the first 100 samples\n",
        "subset_indices = list(range(100))\n",
        "dataset = Subset(train_set, subset_indices)"
      ]
    },
    {
      "cell_type": "markdown",
      "metadata": {
        "id": "x5GKXooFC0XR"
      },
      "source": [
        "### define new architecture"
      ]
    },
    {
      "cell_type": "code",
      "execution_count": 36,
      "metadata": {
        "colab": {
          "base_uri": "https://localhost:8080/"
        },
        "id": "8njPsXS8CzUw",
        "outputId": "bc58aec6-2950-4b8c-c4ea-f72d2782c2b7"
      },
      "outputs": [
        {
          "data": {
            "text/plain": [
              "ResNet(\n",
              "  (conv1): Conv2d(3, 64, kernel_size=(7, 7), stride=(2, 2), padding=(3, 3), bias=False)\n",
              "  (bn1): BatchNorm2d(64, eps=1e-05, momentum=0.1, affine=True, track_running_stats=True)\n",
              "  (relu): ReLU(inplace=True)\n",
              "  (maxpool): MaxPool2d(kernel_size=3, stride=2, padding=1, dilation=1, ceil_mode=False)\n",
              "  (layer1): Sequential(\n",
              "    (0): Bottleneck(\n",
              "      (conv1): Conv2d(64, 64, kernel_size=(1, 1), stride=(1, 1), bias=False)\n",
              "      (bn1): BatchNorm2d(64, eps=1e-05, momentum=0.1, affine=True, track_running_stats=True)\n",
              "      (conv2): Conv2d(64, 64, kernel_size=(3, 3), stride=(1, 1), padding=(1, 1), bias=False)\n",
              "      (bn2): BatchNorm2d(64, eps=1e-05, momentum=0.1, affine=True, track_running_stats=True)\n",
              "      (conv3): Conv2d(64, 256, kernel_size=(1, 1), stride=(1, 1), bias=False)\n",
              "      (bn3): BatchNorm2d(256, eps=1e-05, momentum=0.1, affine=True, track_running_stats=True)\n",
              "      (relu): ReLU(inplace=True)\n",
              "      (downsample): Sequential(\n",
              "        (0): Conv2d(64, 256, kernel_size=(1, 1), stride=(1, 1), bias=False)\n",
              "        (1): BatchNorm2d(256, eps=1e-05, momentum=0.1, affine=True, track_running_stats=True)\n",
              "      )\n",
              "    )\n",
              "    (1): Bottleneck(\n",
              "      (conv1): Conv2d(256, 64, kernel_size=(1, 1), stride=(1, 1), bias=False)\n",
              "      (bn1): BatchNorm2d(64, eps=1e-05, momentum=0.1, affine=True, track_running_stats=True)\n",
              "      (conv2): Conv2d(64, 64, kernel_size=(3, 3), stride=(1, 1), padding=(1, 1), bias=False)\n",
              "      (bn2): BatchNorm2d(64, eps=1e-05, momentum=0.1, affine=True, track_running_stats=True)\n",
              "      (conv3): Conv2d(64, 256, kernel_size=(1, 1), stride=(1, 1), bias=False)\n",
              "      (bn3): BatchNorm2d(256, eps=1e-05, momentum=0.1, affine=True, track_running_stats=True)\n",
              "      (relu): ReLU(inplace=True)\n",
              "    )\n",
              "    (2): Bottleneck(\n",
              "      (conv1): Conv2d(256, 64, kernel_size=(1, 1), stride=(1, 1), bias=False)\n",
              "      (bn1): BatchNorm2d(64, eps=1e-05, momentum=0.1, affine=True, track_running_stats=True)\n",
              "      (conv2): Conv2d(64, 64, kernel_size=(3, 3), stride=(1, 1), padding=(1, 1), bias=False)\n",
              "      (bn2): BatchNorm2d(64, eps=1e-05, momentum=0.1, affine=True, track_running_stats=True)\n",
              "      (conv3): Conv2d(64, 256, kernel_size=(1, 1), stride=(1, 1), bias=False)\n",
              "      (bn3): BatchNorm2d(256, eps=1e-05, momentum=0.1, affine=True, track_running_stats=True)\n",
              "      (relu): ReLU(inplace=True)\n",
              "    )\n",
              "  )\n",
              "  (layer2): Sequential(\n",
              "    (0): Bottleneck(\n",
              "      (conv1): Conv2d(256, 128, kernel_size=(1, 1), stride=(1, 1), bias=False)\n",
              "      (bn1): BatchNorm2d(128, eps=1e-05, momentum=0.1, affine=True, track_running_stats=True)\n",
              "      (conv2): Conv2d(128, 128, kernel_size=(3, 3), stride=(2, 2), padding=(1, 1), bias=False)\n",
              "      (bn2): BatchNorm2d(128, eps=1e-05, momentum=0.1, affine=True, track_running_stats=True)\n",
              "      (conv3): Conv2d(128, 512, kernel_size=(1, 1), stride=(1, 1), bias=False)\n",
              "      (bn3): BatchNorm2d(512, eps=1e-05, momentum=0.1, affine=True, track_running_stats=True)\n",
              "      (relu): ReLU(inplace=True)\n",
              "      (downsample): Sequential(\n",
              "        (0): Conv2d(256, 512, kernel_size=(1, 1), stride=(2, 2), bias=False)\n",
              "        (1): BatchNorm2d(512, eps=1e-05, momentum=0.1, affine=True, track_running_stats=True)\n",
              "      )\n",
              "    )\n",
              "    (1): Bottleneck(\n",
              "      (conv1): Conv2d(512, 128, kernel_size=(1, 1), stride=(1, 1), bias=False)\n",
              "      (bn1): BatchNorm2d(128, eps=1e-05, momentum=0.1, affine=True, track_running_stats=True)\n",
              "      (conv2): Conv2d(128, 128, kernel_size=(3, 3), stride=(1, 1), padding=(1, 1), bias=False)\n",
              "      (bn2): BatchNorm2d(128, eps=1e-05, momentum=0.1, affine=True, track_running_stats=True)\n",
              "      (conv3): Conv2d(128, 512, kernel_size=(1, 1), stride=(1, 1), bias=False)\n",
              "      (bn3): BatchNorm2d(512, eps=1e-05, momentum=0.1, affine=True, track_running_stats=True)\n",
              "      (relu): ReLU(inplace=True)\n",
              "    )\n",
              "    (2): Bottleneck(\n",
              "      (conv1): Conv2d(512, 128, kernel_size=(1, 1), stride=(1, 1), bias=False)\n",
              "      (bn1): BatchNorm2d(128, eps=1e-05, momentum=0.1, affine=True, track_running_stats=True)\n",
              "      (conv2): Conv2d(128, 128, kernel_size=(3, 3), stride=(1, 1), padding=(1, 1), bias=False)\n",
              "      (bn2): BatchNorm2d(128, eps=1e-05, momentum=0.1, affine=True, track_running_stats=True)\n",
              "      (conv3): Conv2d(128, 512, kernel_size=(1, 1), stride=(1, 1), bias=False)\n",
              "      (bn3): BatchNorm2d(512, eps=1e-05, momentum=0.1, affine=True, track_running_stats=True)\n",
              "      (relu): ReLU(inplace=True)\n",
              "    )\n",
              "    (3): Bottleneck(\n",
              "      (conv1): Conv2d(512, 128, kernel_size=(1, 1), stride=(1, 1), bias=False)\n",
              "      (bn1): BatchNorm2d(128, eps=1e-05, momentum=0.1, affine=True, track_running_stats=True)\n",
              "      (conv2): Conv2d(128, 128, kernel_size=(3, 3), stride=(1, 1), padding=(1, 1), bias=False)\n",
              "      (bn2): BatchNorm2d(128, eps=1e-05, momentum=0.1, affine=True, track_running_stats=True)\n",
              "      (conv3): Conv2d(128, 512, kernel_size=(1, 1), stride=(1, 1), bias=False)\n",
              "      (bn3): BatchNorm2d(512, eps=1e-05, momentum=0.1, affine=True, track_running_stats=True)\n",
              "      (relu): ReLU(inplace=True)\n",
              "    )\n",
              "  )\n",
              "  (layer3): Sequential(\n",
              "    (0): Bottleneck(\n",
              "      (conv1): Conv2d(512, 256, kernel_size=(1, 1), stride=(1, 1), bias=False)\n",
              "      (bn1): BatchNorm2d(256, eps=1e-05, momentum=0.1, affine=True, track_running_stats=True)\n",
              "      (conv2): Conv2d(256, 256, kernel_size=(3, 3), stride=(2, 2), padding=(1, 1), bias=False)\n",
              "      (bn2): BatchNorm2d(256, eps=1e-05, momentum=0.1, affine=True, track_running_stats=True)\n",
              "      (conv3): Conv2d(256, 1024, kernel_size=(1, 1), stride=(1, 1), bias=False)\n",
              "      (bn3): BatchNorm2d(1024, eps=1e-05, momentum=0.1, affine=True, track_running_stats=True)\n",
              "      (relu): ReLU(inplace=True)\n",
              "      (downsample): Sequential(\n",
              "        (0): Conv2d(512, 1024, kernel_size=(1, 1), stride=(2, 2), bias=False)\n",
              "        (1): BatchNorm2d(1024, eps=1e-05, momentum=0.1, affine=True, track_running_stats=True)\n",
              "      )\n",
              "    )\n",
              "    (1): Bottleneck(\n",
              "      (conv1): Conv2d(1024, 256, kernel_size=(1, 1), stride=(1, 1), bias=False)\n",
              "      (bn1): BatchNorm2d(256, eps=1e-05, momentum=0.1, affine=True, track_running_stats=True)\n",
              "      (conv2): Conv2d(256, 256, kernel_size=(3, 3), stride=(1, 1), padding=(1, 1), bias=False)\n",
              "      (bn2): BatchNorm2d(256, eps=1e-05, momentum=0.1, affine=True, track_running_stats=True)\n",
              "      (conv3): Conv2d(256, 1024, kernel_size=(1, 1), stride=(1, 1), bias=False)\n",
              "      (bn3): BatchNorm2d(1024, eps=1e-05, momentum=0.1, affine=True, track_running_stats=True)\n",
              "      (relu): ReLU(inplace=True)\n",
              "    )\n",
              "    (2): Bottleneck(\n",
              "      (conv1): Conv2d(1024, 256, kernel_size=(1, 1), stride=(1, 1), bias=False)\n",
              "      (bn1): BatchNorm2d(256, eps=1e-05, momentum=0.1, affine=True, track_running_stats=True)\n",
              "      (conv2): Conv2d(256, 256, kernel_size=(3, 3), stride=(1, 1), padding=(1, 1), bias=False)\n",
              "      (bn2): BatchNorm2d(256, eps=1e-05, momentum=0.1, affine=True, track_running_stats=True)\n",
              "      (conv3): Conv2d(256, 1024, kernel_size=(1, 1), stride=(1, 1), bias=False)\n",
              "      (bn3): BatchNorm2d(1024, eps=1e-05, momentum=0.1, affine=True, track_running_stats=True)\n",
              "      (relu): ReLU(inplace=True)\n",
              "    )\n",
              "    (3): Bottleneck(\n",
              "      (conv1): Conv2d(1024, 256, kernel_size=(1, 1), stride=(1, 1), bias=False)\n",
              "      (bn1): BatchNorm2d(256, eps=1e-05, momentum=0.1, affine=True, track_running_stats=True)\n",
              "      (conv2): Conv2d(256, 256, kernel_size=(3, 3), stride=(1, 1), padding=(1, 1), bias=False)\n",
              "      (bn2): BatchNorm2d(256, eps=1e-05, momentum=0.1, affine=True, track_running_stats=True)\n",
              "      (conv3): Conv2d(256, 1024, kernel_size=(1, 1), stride=(1, 1), bias=False)\n",
              "      (bn3): BatchNorm2d(1024, eps=1e-05, momentum=0.1, affine=True, track_running_stats=True)\n",
              "      (relu): ReLU(inplace=True)\n",
              "    )\n",
              "    (4): Bottleneck(\n",
              "      (conv1): Conv2d(1024, 256, kernel_size=(1, 1), stride=(1, 1), bias=False)\n",
              "      (bn1): BatchNorm2d(256, eps=1e-05, momentum=0.1, affine=True, track_running_stats=True)\n",
              "      (conv2): Conv2d(256, 256, kernel_size=(3, 3), stride=(1, 1), padding=(1, 1), bias=False)\n",
              "      (bn2): BatchNorm2d(256, eps=1e-05, momentum=0.1, affine=True, track_running_stats=True)\n",
              "      (conv3): Conv2d(256, 1024, kernel_size=(1, 1), stride=(1, 1), bias=False)\n",
              "      (bn3): BatchNorm2d(1024, eps=1e-05, momentum=0.1, affine=True, track_running_stats=True)\n",
              "      (relu): ReLU(inplace=True)\n",
              "    )\n",
              "    (5): Bottleneck(\n",
              "      (conv1): Conv2d(1024, 256, kernel_size=(1, 1), stride=(1, 1), bias=False)\n",
              "      (bn1): BatchNorm2d(256, eps=1e-05, momentum=0.1, affine=True, track_running_stats=True)\n",
              "      (conv2): Conv2d(256, 256, kernel_size=(3, 3), stride=(1, 1), padding=(1, 1), bias=False)\n",
              "      (bn2): BatchNorm2d(256, eps=1e-05, momentum=0.1, affine=True, track_running_stats=True)\n",
              "      (conv3): Conv2d(256, 1024, kernel_size=(1, 1), stride=(1, 1), bias=False)\n",
              "      (bn3): BatchNorm2d(1024, eps=1e-05, momentum=0.1, affine=True, track_running_stats=True)\n",
              "      (relu): ReLU(inplace=True)\n",
              "    )\n",
              "  )\n",
              "  (layer4): Sequential(\n",
              "    (0): Bottleneck(\n",
              "      (conv1): Conv2d(1024, 512, kernel_size=(1, 1), stride=(1, 1), bias=False)\n",
              "      (bn1): BatchNorm2d(512, eps=1e-05, momentum=0.1, affine=True, track_running_stats=True)\n",
              "      (conv2): Conv2d(512, 512, kernel_size=(3, 3), stride=(2, 2), padding=(1, 1), bias=False)\n",
              "      (bn2): BatchNorm2d(512, eps=1e-05, momentum=0.1, affine=True, track_running_stats=True)\n",
              "      (conv3): Conv2d(512, 2048, kernel_size=(1, 1), stride=(1, 1), bias=False)\n",
              "      (bn3): BatchNorm2d(2048, eps=1e-05, momentum=0.1, affine=True, track_running_stats=True)\n",
              "      (relu): ReLU(inplace=True)\n",
              "      (downsample): Sequential(\n",
              "        (0): Conv2d(1024, 2048, kernel_size=(1, 1), stride=(2, 2), bias=False)\n",
              "        (1): BatchNorm2d(2048, eps=1e-05, momentum=0.1, affine=True, track_running_stats=True)\n",
              "      )\n",
              "    )\n",
              "    (1): Bottleneck(\n",
              "      (conv1): Conv2d(2048, 512, kernel_size=(1, 1), stride=(1, 1), bias=False)\n",
              "      (bn1): BatchNorm2d(512, eps=1e-05, momentum=0.1, affine=True, track_running_stats=True)\n",
              "      (conv2): Conv2d(512, 512, kernel_size=(3, 3), stride=(1, 1), padding=(1, 1), bias=False)\n",
              "      (bn2): BatchNorm2d(512, eps=1e-05, momentum=0.1, affine=True, track_running_stats=True)\n",
              "      (conv3): Conv2d(512, 2048, kernel_size=(1, 1), stride=(1, 1), bias=False)\n",
              "      (bn3): BatchNorm2d(2048, eps=1e-05, momentum=0.1, affine=True, track_running_stats=True)\n",
              "      (relu): ReLU(inplace=True)\n",
              "    )\n",
              "    (2): Bottleneck(\n",
              "      (conv1): Conv2d(2048, 512, kernel_size=(1, 1), stride=(1, 1), bias=False)\n",
              "      (bn1): BatchNorm2d(512, eps=1e-05, momentum=0.1, affine=True, track_running_stats=True)\n",
              "      (conv2): Conv2d(512, 512, kernel_size=(3, 3), stride=(1, 1), padding=(1, 1), bias=False)\n",
              "      (bn2): BatchNorm2d(512, eps=1e-05, momentum=0.1, affine=True, track_running_stats=True)\n",
              "      (conv3): Conv2d(512, 2048, kernel_size=(1, 1), stride=(1, 1), bias=False)\n",
              "      (bn3): BatchNorm2d(2048, eps=1e-05, momentum=0.1, affine=True, track_running_stats=True)\n",
              "      (relu): ReLU(inplace=True)\n",
              "    )\n",
              "  )\n",
              "  (avgpool): AdaptiveAvgPool2d(output_size=(1, 1))\n",
              "  (fc): Linear(in_features=2048, out_features=10, bias=True)\n",
              ")"
            ]
          },
          "execution_count": 36,
          "metadata": {},
          "output_type": "execute_result"
        }
      ],
      "source": [
        "# Define new architecture\n",
        "model = resnet50(weights=ResNet50_Weights.DEFAULT)\n",
        "for param in model.parameters():\n",
        "    param.requires_grad = False\n",
        "\n",
        "num_features = model.fc.in_features\n",
        "model.fc = nn.Linear(num_features, num_classes)\n",
        "model\n",
        "\n",
        "# num_features = model.fc.out_features\n",
        "# new_layer = nn.Linear(num_features, num_classes)\n",
        "# new_layer.requires_grad = True\n",
        "# model.add_module('fc2', new_layer)\n",
        "\n",
        "\n",
        "#Iterate over the model's parameters and print whether they require gradients\n",
        "# for name, param in model.named_parameters():\n",
        "#   if name == 'fc.weight' or name == 'fc.bias':\n",
        "#     param.requires_grad = True\n",
        "\n",
        "#   print(f\"Layer: {name}, Requires Gradient: {param.requires_grad}\")"
      ]
    },
    {
      "cell_type": "markdown",
      "metadata": {
        "id": "vCCNhoZ7ATJ-"
      },
      "source": [
        "### define loss and optimizer"
      ]
    },
    {
      "cell_type": "code",
      "execution_count": 37,
      "metadata": {
        "id": "Vs5iZud4ASMK"
      },
      "outputs": [],
      "source": [
        "# Define the loss function and optimizer\n",
        "lr = 0.001\n",
        "epochs = 100\n",
        "criterion = nn.CrossEntropyLoss()\n",
        "optimizer = optim.SGD(model.fc.parameters(), lr=lr,\n",
        "                      momentum=0.9, weight_decay=5e-4, nesterov=False)\n",
        "scheduler = torch.optim.lr_scheduler.CosineAnnealingLR(optimizer, T_max=200)\n",
        "\n",
        "device = 'cuda' if torch.cuda.is_available() else 'cpu'\n",
        "model = model.to(device)"
      ]
    },
    {
      "cell_type": "markdown",
      "metadata": {
        "id": "IHvLSip6AIlc"
      },
      "source": [
        "## *Vgg19*"
      ]
    },
    {
      "cell_type": "markdown",
      "metadata": {
        "id": "4YLwMq-FDD4o"
      },
      "source": [
        "### fit data on vgg19"
      ]
    },
    {
      "cell_type": "code",
      "execution_count": 47,
      "metadata": {
        "colab": {
          "base_uri": "https://localhost:8080/"
        },
        "id": "x716mPCgCheC",
        "outputId": "fdd682f5-5ffa-42ed-d708-f52e4f84008c"
      },
      "outputs": [
        {
          "name": "stdout",
          "output_type": "stream",
          "text": [
            "Files already downloaded and verified\n",
            "Files already downloaded and verified\n"
          ]
        }
      ],
      "source": [
        "weights = VGG19_Weights.DEFAULT\n",
        "preprocess = weights.transforms()\n",
        "\n",
        "\n",
        "train_set = datasets.CIFAR10(\n",
        "    root='./data', train=True, download=True,\n",
        "    transform=preprocess\n",
        "    )\n",
        "test_set = datasets.CIFAR10(\n",
        "    root='./data', train=False, download=True,\n",
        "    transform=preprocess\n",
        "    )\n",
        "\n",
        "#Sample only 100 from train set\n",
        "subset_indices = list(range(100))\n",
        "subset_cifar_train = Subset(train_set, subset_indices)\n",
        "\n",
        "train_loader = DataLoader(\n",
        "    subset_cifar_train, batch_size=BATCH_SIZE, shuffle=True, num_workers=2)\n",
        "test_loader = torch.utils.data.DataLoader(\n",
        "    test_set, batch_size=BATCH_SIZE, shuffle=False, num_workers=2)"
      ]
    },
    {
      "cell_type": "markdown",
      "metadata": {
        "id": "9R6FYo_vDILr"
      },
      "source": [
        "### define new architecture"
      ]
    },
    {
      "cell_type": "code",
      "execution_count": 48,
      "metadata": {
        "colab": {
          "base_uri": "https://localhost:8080/"
        },
        "id": "YnJTZCvi_47L",
        "outputId": "7bd21649-f1c1-486f-c608-8a7d6080569b"
      },
      "outputs": [
        {
          "data": {
            "text/plain": [
              "VGG(\n",
              "  (features): Sequential(\n",
              "    (0): Conv2d(3, 64, kernel_size=(3, 3), stride=(1, 1), padding=(1, 1))\n",
              "    (1): ReLU(inplace=True)\n",
              "    (2): Conv2d(64, 64, kernel_size=(3, 3), stride=(1, 1), padding=(1, 1))\n",
              "    (3): ReLU(inplace=True)\n",
              "    (4): MaxPool2d(kernel_size=2, stride=2, padding=0, dilation=1, ceil_mode=False)\n",
              "    (5): Conv2d(64, 128, kernel_size=(3, 3), stride=(1, 1), padding=(1, 1))\n",
              "    (6): ReLU(inplace=True)\n",
              "    (7): Conv2d(128, 128, kernel_size=(3, 3), stride=(1, 1), padding=(1, 1))\n",
              "    (8): ReLU(inplace=True)\n",
              "    (9): MaxPool2d(kernel_size=2, stride=2, padding=0, dilation=1, ceil_mode=False)\n",
              "    (10): Conv2d(128, 256, kernel_size=(3, 3), stride=(1, 1), padding=(1, 1))\n",
              "    (11): ReLU(inplace=True)\n",
              "    (12): Conv2d(256, 256, kernel_size=(3, 3), stride=(1, 1), padding=(1, 1))\n",
              "    (13): ReLU(inplace=True)\n",
              "    (14): Conv2d(256, 256, kernel_size=(3, 3), stride=(1, 1), padding=(1, 1))\n",
              "    (15): ReLU(inplace=True)\n",
              "    (16): Conv2d(256, 256, kernel_size=(3, 3), stride=(1, 1), padding=(1, 1))\n",
              "    (17): ReLU(inplace=True)\n",
              "    (18): MaxPool2d(kernel_size=2, stride=2, padding=0, dilation=1, ceil_mode=False)\n",
              "    (19): Conv2d(256, 512, kernel_size=(3, 3), stride=(1, 1), padding=(1, 1))\n",
              "    (20): ReLU(inplace=True)\n",
              "    (21): Conv2d(512, 512, kernel_size=(3, 3), stride=(1, 1), padding=(1, 1))\n",
              "    (22): ReLU(inplace=True)\n",
              "    (23): Conv2d(512, 512, kernel_size=(3, 3), stride=(1, 1), padding=(1, 1))\n",
              "    (24): ReLU(inplace=True)\n",
              "    (25): Conv2d(512, 512, kernel_size=(3, 3), stride=(1, 1), padding=(1, 1))\n",
              "    (26): ReLU(inplace=True)\n",
              "    (27): MaxPool2d(kernel_size=2, stride=2, padding=0, dilation=1, ceil_mode=False)\n",
              "    (28): Conv2d(512, 512, kernel_size=(3, 3), stride=(1, 1), padding=(1, 1))\n",
              "    (29): ReLU(inplace=True)\n",
              "    (30): Conv2d(512, 512, kernel_size=(3, 3), stride=(1, 1), padding=(1, 1))\n",
              "    (31): ReLU(inplace=True)\n",
              "    (32): Conv2d(512, 512, kernel_size=(3, 3), stride=(1, 1), padding=(1, 1))\n",
              "    (33): ReLU(inplace=True)\n",
              "    (34): Conv2d(512, 512, kernel_size=(3, 3), stride=(1, 1), padding=(1, 1))\n",
              "    (35): ReLU(inplace=True)\n",
              "    (36): MaxPool2d(kernel_size=2, stride=2, padding=0, dilation=1, ceil_mode=False)\n",
              "  )\n",
              "  (avgpool): AdaptiveAvgPool2d(output_size=(7, 7))\n",
              "  (classifier): Sequential(\n",
              "    (0): Linear(in_features=25088, out_features=4096, bias=True)\n",
              "    (1): ReLU(inplace=True)\n",
              "    (2): Dropout(p=0.5, inplace=False)\n",
              "    (3): Linear(in_features=4096, out_features=4096, bias=True)\n",
              "    (4): ReLU(inplace=True)\n",
              "    (5): Dropout(p=0.5, inplace=False)\n",
              "    (6): Sequential(\n",
              "      (0): Linear(in_features=4096, out_features=10, bias=True)\n",
              "      (1): Softmax(dim=1)\n",
              "    )\n",
              "  )\n",
              ")"
            ]
          },
          "execution_count": 48,
          "metadata": {},
          "output_type": "execute_result"
        }
      ],
      "source": [
        "num_classes = 10\n",
        "\n",
        "# pre-trained VGG19 model\n",
        "model = models.vgg19(weights='IMAGENET1K_V1')\n",
        "\n",
        "for param in model.parameters():\n",
        "    param.requires_grad = False\n",
        "\n",
        "# Modify the fully connected layer (classifier) to fit the number of classes\n",
        "\n",
        "\n",
        "num_features = model.classifier[6].in_features\n",
        "\n",
        "model.classifier[6] = nn.Sequential(\n",
        "    nn.Linear(num_features, num_classes),\n",
        "    nn.Softmax(dim=1)\n",
        ")\n",
        "\n",
        "# for param in model.features[21:].parameters():\n",
        "#     param.requires_grad = True\n",
        "\n",
        "for param in model.classifier.parameters():\n",
        "    param.requires_grad = True\n",
        "\n",
        "model"
      ]
    },
    {
      "cell_type": "markdown",
      "metadata": {
        "id": "MpWKZsFnDNar"
      },
      "source": [
        "### define loss and optimizer"
      ]
    },
    {
      "cell_type": "code",
      "execution_count": 49,
      "metadata": {
        "collapsed": true,
        "id": "i_lh4xje_2hk"
      },
      "outputs": [],
      "source": [
        "lr = 0.001\n",
        "epochs = 100\n",
        "criterion = nn.CrossEntropyLoss()\n",
        "optimizer = optim.SGD(model.parameters(), lr=lr,\n",
        "                      momentum=0.9, weight_decay=5e-4, nesterov=False)\n",
        "scheduler = torch.optim.lr_scheduler.CosineAnnealingLR(optimizer, T_max=200)\n",
        "\n",
        "device = 'cuda' if torch.cuda.is_available() else 'cpu'\n",
        "model = model.to(device)"
      ]
    },
    {
      "cell_type": "markdown",
      "metadata": {
        "id": "XgVrPbiTAZdd"
      },
      "source": [
        "## Training: Cross validation"
      ]
    },
    {
      "cell_type": "markdown",
      "metadata": {
        "id": "HVVk7228Bgl5"
      },
      "source": [
        "### Training"
      ]
    },
    {
      "cell_type": "code",
      "execution_count": 17,
      "metadata": {
        "id": "gPMm6XB72Mdt"
      },
      "outputs": [],
      "source": [
        "import numpy as np"
      ]
    },
    {
      "cell_type": "code",
      "execution_count": 50,
      "metadata": {
        "colab": {
          "base_uri": "https://localhost:8080/"
        },
        "id": "_G0YNBrMJXlg",
        "outputId": "b8919370-e43b-44e2-f72b-9799222814d7"
      },
      "outputs": [
        {
          "name": "stdout",
          "output_type": "stream",
          "text": [
            "Fold 1/5\n",
            "Epoch 1/10, Validation Loss: 4.5787, Accuracy: 15.00%\n",
            "Epoch 2/10, Validation Loss: 4.5606, Accuracy: 15.00%\n",
            "Epoch 3/10, Validation Loss: 4.5376, Accuracy: 15.00%\n",
            "Epoch 4/10, Validation Loss: 4.5347, Accuracy: 15.00%\n",
            "Epoch 5/10, Validation Loss: 4.4757, Accuracy: 15.00%\n",
            "Epoch 6/10, Validation Loss: 4.3952, Accuracy: 15.00%\n",
            "Epoch 7/10, Validation Loss: 4.3154, Accuracy: 30.00%\n",
            "Epoch 8/10, Validation Loss: 4.2006, Accuracy: 45.00%\n",
            "Epoch 9/10, Validation Loss: 4.1631, Accuracy: 50.00%\n",
            "Epoch 10/10, Validation Loss: 4.1756, Accuracy: 40.00%\n",
            "Fold 2/5\n",
            "Epoch 1/10, Validation Loss: 3.5971, Accuracy: 75.00%\n",
            "Epoch 2/10, Validation Loss: 3.6263, Accuracy: 80.00%\n",
            "Epoch 3/10, Validation Loss: 3.6769, Accuracy: 75.00%\n",
            "Epoch 4/10, Validation Loss: 3.6506, Accuracy: 75.00%\n",
            "Epoch 5/10, Validation Loss: 3.5812, Accuracy: 75.00%\n",
            "Epoch 6/10, Validation Loss: 3.5732, Accuracy: 75.00%\n",
            "Epoch 7/10, Validation Loss: 3.5793, Accuracy: 75.00%\n",
            "Epoch 8/10, Validation Loss: 3.5780, Accuracy: 80.00%\n",
            "Epoch 9/10, Validation Loss: 3.5638, Accuracy: 80.00%\n",
            "Epoch 10/10, Validation Loss: 3.5798, Accuracy: 80.00%\n",
            "Fold 3/5\n",
            "Epoch 1/10, Validation Loss: 3.2563, Accuracy: 95.00%\n",
            "Epoch 2/10, Validation Loss: 3.2375, Accuracy: 95.00%\n",
            "Epoch 3/10, Validation Loss: 3.2332, Accuracy: 95.00%\n",
            "Epoch 4/10, Validation Loss: 3.2339, Accuracy: 95.00%\n",
            "Epoch 5/10, Validation Loss: 3.2340, Accuracy: 95.00%\n",
            "Epoch 6/10, Validation Loss: 3.2315, Accuracy: 95.00%\n",
            "Epoch 7/10, Validation Loss: 3.2291, Accuracy: 95.00%\n",
            "Epoch 8/10, Validation Loss: 3.2182, Accuracy: 95.00%\n",
            "Epoch 9/10, Validation Loss: 3.2042, Accuracy: 95.00%\n",
            "Epoch 10/10, Validation Loss: 3.1823, Accuracy: 95.00%\n",
            "Fold 4/5\n",
            "Epoch 1/10, Validation Loss: 3.0366, Accuracy: 95.00%\n",
            "Epoch 2/10, Validation Loss: 3.0387, Accuracy: 95.00%\n",
            "Epoch 3/10, Validation Loss: 3.0390, Accuracy: 95.00%\n",
            "Epoch 4/10, Validation Loss: 3.0382, Accuracy: 95.00%\n",
            "Epoch 5/10, Validation Loss: 3.0380, Accuracy: 95.00%\n",
            "Epoch 6/10, Validation Loss: 3.0371, Accuracy: 95.00%\n",
            "Epoch 7/10, Validation Loss: 3.0356, Accuracy: 95.00%\n",
            "Epoch 8/10, Validation Loss: 3.0348, Accuracy: 95.00%\n",
            "Epoch 9/10, Validation Loss: 3.0340, Accuracy: 95.00%\n",
            "Epoch 10/10, Validation Loss: 3.0342, Accuracy: 95.00%\n",
            "Fold 5/5\n",
            "Epoch 1/10, Validation Loss: 3.4147, Accuracy: 75.00%\n",
            "Epoch 2/10, Validation Loss: 3.4142, Accuracy: 75.00%\n",
            "Epoch 3/10, Validation Loss: 3.4135, Accuracy: 75.00%\n",
            "Epoch 4/10, Validation Loss: 3.4137, Accuracy: 75.00%\n",
            "Epoch 5/10, Validation Loss: 3.4136, Accuracy: 75.00%\n",
            "Epoch 6/10, Validation Loss: 3.4144, Accuracy: 75.00%\n",
            "Epoch 7/10, Validation Loss: 3.4154, Accuracy: 75.00%\n",
            "Epoch 8/10, Validation Loss: 3.4159, Accuracy: 75.00%\n",
            "Epoch 9/10, Validation Loss: 3.4166, Accuracy: 75.00%\n",
            "Epoch 10/10, Validation Loss: 3.4162, Accuracy: 75.00%\n"
          ]
        }
      ],
      "source": [
        "# Define the number of folds for cross-validation\n",
        "num_folds = 3\n",
        "kf = KFold(n_splits=num_folds, shuffle=True)\n",
        "\n",
        "train_accs = []\n",
        "train_losses = []\n",
        "val_accs = []\n",
        "val_losses = []\n",
        "\n",
        "for fold, (train_indices, val_indices) in enumerate(kf.split(dataset)):\n",
        "    print(f\"Fold {fold+1}/{num_folds}\")\n",
        "\n",
        "    # Split the dataset\n",
        "    train_set = torch.utils.data.Subset(dataset, train_indices)\n",
        "    val_set = torch.utils.data.Subset(dataset, val_indices)\n",
        "    # training and validation sets\n",
        "    train_loader = torch.utils.data.DataLoader(train_set, batch_size=batch_size, shuffle=True)\n",
        "    val_loader = torch.utils.data.DataLoader(val_set, batch_size=batch_size, shuffle=False)\n",
        "\n",
        "    for epoch in range(num_epochs):\n",
        "        # Training\n",
        "        train_loss, train_acc = train(epoch, train_loader)\n",
        "        train_losses.append(train_loss)\n",
        "        train_accs.append(train_acc)\n",
        "        # Validation\n",
        "        val_loss, val_acc = test(epoch, val_loader)\n",
        "        val_losses.append(val_loss)\n",
        "        val_accs.append(val_acc)\n",
        "\n",
        "        print(f\"Epoch {epoch+1}/{num_epochs}, Validation Loss: {val_loss:.4f}, Accuracy: {val_acc:.2f}%\")\n",
        "\n",
        "        scheduler.step()"
      ]
    },
    {
      "cell_type": "markdown",
      "metadata": {
        "id": "1SwwaJ1sBKGi"
      },
      "source": [
        "### Plot"
      ]
    },
    {
      "cell_type": "code",
      "execution_count": 53,
      "metadata": {
        "colab": {
          "base_uri": "https://localhost:8080/",
          "height": 992
        },
        "id": "ZRT475GkTRtk",
        "outputId": "73253526-cfbc-4da2-93be-b21fef2c668b"
      },
      "outputs": [
        {
          "data": {
            "image/png": "[encoded data removed]",
            "text/plain": [
              "<Figure size 1000x500 with 1 Axes>"
            ]
          },
          "metadata": {},
          "output_type": "display_data"
        },
        {
          "data": {
            "image/png": "[encoded data removed]",
            "text/plain": [
              "<Figure size 1000x500 with 1 Axes>"
            ]
          },
          "metadata": {},
          "output_type": "display_data"
        },
        {
          "name": "stdout",
          "output_type": "stream",
          "text": [
            "Best train accuracy: 90.0\n",
            "Best validation accuracy: 95.0\n"
          ]
        }
      ],
      "source": [
        "import matplotlib.pyplot as plt\n",
        "\n",
        "def plot_curves(train_accs, test_accs, train_losses, test_losses):\n",
        "    epochs = range(1, len(train_accs) + 1)\n",
        "\n",
        "    # Plot accuracy curves\n",
        "    plt.figure(figsize=(10, 5))\n",
        "    plt.plot(epochs, train_accs, 'b', label='Training Accuracy')\n",
        "    plt.plot(epochs, test_accs, 'r', label='Validation Accuracy')\n",
        "    plt.title('Accuracy Curves')\n",
        "    plt.xlabel('Epochs')\n",
        "    plt.ylabel('Accuracy')\n",
        "    plt.ylim(0, 100)\n",
        "    plt.legend()\n",
        "    plt.grid(True)\n",
        "    plt.show()\n",
        "\n",
        "    # Plot loss curves\n",
        "    plt.figure(figsize=(10, 5))\n",
        "    plt.plot(epochs, train_losses, 'b', label='Training Loss')\n",
        "    plt.plot(epochs, test_losses, 'r', label='Validation Loss')\n",
        "    plt.title('Loss Curves')\n",
        "    plt.xlabel('Epochs')\n",
        "    plt.ylabel('Loss')\n",
        "    plt.ylim(0, 30)\n",
        "    plt.legend()\n",
        "    plt.grid(True)\n",
        "    plt.show()\n",
        "\n",
        "\n",
        "plot_curves(train_accs, val_accs, train_losses, val_losses)\n",
        "print(f'Best train accuracy: {max(train_accs)}')\n",
        "print(f'Best validation accuracy: {max(val_accs)}')"
      ]
    },
    {
      "cell_type": "markdown",
      "metadata": {
        "id": "3_Crd9tsAjju"
      },
      "source": [
        "### Testing"
      ]
    },
    {
      "cell_type": "code",
      "execution_count": 51,
      "metadata": {
        "colab": {
          "base_uri": "https://localhost:8080/"
        },
        "id": "IJHXf0E56k2Q",
        "outputId": "f8b92da4-bebf-426f-b33d-63445472c036"
      },
      "outputs": [
        {
          "name": "stdout",
          "output_type": "stream",
          "text": [
            "Test Loss: 1950.038 | Acc: 55.580%\n"
          ]
        }
      ],
      "source": [
        "test_loss, test_acc = test(epoch, test_loader)\n",
        "print('Test Loss: %.3f | Acc: %.3f%%' % (test_loss, test_acc))"
      ]
    },
    {
      "cell_type": "markdown",
      "metadata": {
        "id": "SvkuMzLs_2hk"
      },
      "source": [
        "# Incorporating *a priori*\n",
        "Geometrical *a priori* are appealing for image classification tasks, though one might have to handle several boundary effects.\n",
        "\n",
        "__Question 5 (0.5 points) :__ Explain the issues when dealing with translations, rotations, scaling effects, color changes on $32\\times32$ images. Propose several ideas to tackle them."
      ]
    },
    {
      "cell_type": "markdown",
      "metadata": {
        "id": "TIaY60o1_2hk"
      },
      "source": [
        "1. Translation: Moving an object within the image can change its position relative to the frame, potentially causing it to be partially or completely outside the image boundaries.\n",
        "2. Rotation: Rotating an object can cause it to be partially or completely outside the image boundaries or result in cropping parts of the object.\n",
        "3. Scaling: Resizing an image can cause distortion or loss of important details, especially when scaling down significantly.\n",
        "4. Color changes: Changes in lighting conditions or color transformations can alter the appearance of objects in the image, making them harder to recognize.\n",
        "To tackle these issues, several ideas can be proposed:\n",
        "\n",
        "To tackle these issues, there are some ideas:\n",
        "1. Data Augmentation: Generate additional training data by applying random transformations such as translations, rotations, scaling, and color changes to the original images. This helps the model become more robust to variations in the input data.\n",
        "2. Padding: Add padding to the images before applying transformations to ensure that no important information is lost due to boundary effects. This can be done by filling the extra space with zeros or using reflection padding.\n",
        "3. Normalization: Normalize the pixel values of the images to a standard scale, such as [0, 1] or [-1, 1], to reduce the impact of variations in lighting conditions and color changes.\n",
        "4. Data Balancing: Ensure that the augmented dataset maintains the same class distribution as the original dataset to prevent bias towards certain classes during training.\n",
        "5. Adaptive Resizing: Resize the images dynamically based on their aspect ratio and content to minimize distortion and loss of important details.\n",
        "6. Feature Extraction: Use deep learning models that are inherently robust to variations in the input data, such as convolutional neural networks (CNNs), which can learn hierarchical representations of the input images and capture spatial dependencies effectively."
      ]
    },
    {
      "cell_type": "markdown",
      "metadata": {
        "id": "ds6e6teG_2hk"
      },
      "source": [
        "## Data augmentations"
      ]
    },
    {
      "cell_type": "markdown",
      "metadata": {
        "id": "-Ek5wlOo_2hk"
      },
      "source": [
        "__Question 6 (4 points):__ Propose a set of geometric transformation beyond translation, and incorporate them in your training pipeline. Train the model of the __Question 3__ with them and report the accuracies."
      ]
    },
    {
      "cell_type": "code",
      "execution_count": null,
      "metadata": {
        "colab": {
          "base_uri": "https://localhost:8080/"
        },
        "id": "FqCjrXGk_2hk",
        "outputId": "357fcffe-da72-4862-d79a-6a86dd7547fa"
      },
      "outputs": [
        {
          "name": "stdout",
          "output_type": "stream",
          "text": [
            "Files already downloaded and verified\n",
            "Files already downloaded and verified\n"
          ]
        }
      ],
      "source": [
        "# Define transformations\n",
        "\n",
        "weights = ResNet50_Weights.DEFAULT\n",
        "preprocess = weights.transforms()\n",
        "\n",
        "#chatgpt\n",
        "train_transform = transforms.Compose([\n",
        "    transforms.RandomRotation(degrees=10),  # Random rotation up to 10 degrees\n",
        "    transforms.RandomResizedCrop(32),       # Random resized crop\n",
        "    transforms.RandomHorizontalFlip(),      # Random horizontal flip\n",
        "    transforms.ToTensor(),\n",
        "    transforms.Normalize((0.4914, 0.4822, 0.4465), (0.2023, 0.1994, 0.2010)),\n",
        "    preprocess,\n",
        "])\n",
        "\n",
        "test_transform = transforms.Compose([\n",
        "    transforms.ToTensor(),\n",
        "    transforms.Normalize((0.4914, 0.4822, 0.4465), (0.2023, 0.1994, 0.2010)),\n",
        "    preprocess,\n",
        "\n",
        "])\n",
        "\n",
        "#proposed\n",
        "train_transform = transforms.Compose([\n",
        "    transforms.RandomHorizontalFlip(p=0.5),\n",
        "    transforms.RandomCrop(32, padding=4),\n",
        "    transforms.ToTensor(),\n",
        "    transforms.Normalize([0, 0, 0], [1, 1, 1])\n",
        "])\n",
        "\n",
        "test_transform = transforms.Compose([\n",
        "    transforms.ToTensor(),\n",
        "    transforms.Normalize([0, 0, 0], [1, 1, 1])\n",
        "])\n",
        "\n",
        "\n",
        "train_transform = transforms.Compose([\n",
        "    transforms.RandomRotation(45),\n",
        "    transforms.RandomHorizontalFlip(),\n",
        "    transforms.RandomVerticalFlip(),\n",
        "    transforms.RandomResizedCrop(224, scale=(0.8, 1.0)),\n",
        "    transforms.ColorJitter(brightness=0.3, contrast=0.3, saturation=0.3, hue=0.3),\n",
        "    transforms.RandomAffine(degrees=0, translate=(0.3, 0.3), shear=0.3, scale=(0.7, 1.3)),\n",
        "    transforms.ToTensor(),\n",
        "    transforms.Normalize(mean=[0.485, 0.456, 0.406], std=[0.229, 0.224, 0.225])\n",
        "])\n",
        "\n",
        "test_transform = transforms.Compose([\n",
        "\n",
        "    transforms.ToTensor(),\n",
        "    transforms.Normalize(mean=[0.485, 0.456, 0.406], std=[0.229, 0.224, 0.225])\n",
        "])\n",
        "\n",
        "\n",
        "train_set = datasets.CIFAR10(\n",
        "    root='./data', train=True, download=True,\n",
        "    transform=train_transform\n",
        "    )\n",
        "test_set = datasets.CIFAR10(\n",
        "    root='./data', train=False, download=True,\n",
        "    transform=test_transform\n",
        "    )\n",
        "\n",
        "# Create a subset containing only the first 100 samples\n",
        "subset_indices = list(range(100))\n",
        "dataset = Subset(train_set, subset_indices)\n",
        "test_loader = torch.utils.data.DataLoader(test_set, batch_size=10, shuffle=False)"
      ]
    },
    {
      "cell_type": "code",
      "execution_count": null,
      "metadata": {
        "id": "yK59moWZEb07"
      },
      "outputs": [],
      "source": [
        "# Define new architecture\n",
        "model = resnet50(weights=ResNet50_Weights)\n",
        "for param in model.parameters():\n",
        "    param.requires_grad = False\n",
        "num_features = model.fc.in_features\n",
        "model.fc = nn.Linear(num_features, num_classes)"
      ]
    },
    {
      "cell_type": "code",
      "execution_count": null,
      "metadata": {
        "colab": {
          "base_uri": "https://localhost:8080/"
        },
        "id": "l1GBqoEQWHvm",
        "outputId": "3a1949ad-b4e4-4451-f910-d1ca15e30269"
      },
      "outputs": [
        {
          "name": "stdout",
          "output_type": "stream",
          "text": [
            "Fold 1/5\n"
          ]
        },
        {
          "name": "stderr",
          "output_type": "stream",
          "text": [
            "/usr/local/lib/python3.10/dist-packages/torchvision/transforms/functional.py:1603: UserWarning: The default value of the antialias parameter of all the resizing transforms (Resize(), RandomResizedCrop(), etc.) will change from None to True in v0.17, in order to be consistent across the PIL and Tensor backends. To suppress this warning, directly pass antialias=True (recommended, future default), antialias=None (current default, which means False for Tensors and True for PIL), or antialias=False (only works on Tensors - PIL will still use antialiasing). This also applies if you are using the inference transforms from the models weights: update the call to weights.transforms(antialias=True).\n",
            "  warnings.warn(\n"
          ]
        },
        {
          "name": "stdout",
          "output_type": "stream",
          "text": [
            "Epoch 1/10, Validation Loss: 4.9945, Accuracy: 5.00%\n",
            "Epoch 2/10, Validation Loss: 5.2624, Accuracy: 5.00%\n",
            "Epoch 3/10, Validation Loss: 4.9955, Accuracy: 20.00%\n",
            "Epoch 4/10, Validation Loss: 4.8544, Accuracy: 5.00%\n",
            "Epoch 5/10, Validation Loss: 4.8726, Accuracy: 5.00%\n",
            "Epoch 6/10, Validation Loss: 4.8160, Accuracy: 15.00%\n",
            "Epoch 7/10, Validation Loss: 4.7589, Accuracy: 15.00%\n",
            "Epoch 8/10, Validation Loss: 4.6458, Accuracy: 15.00%\n",
            "Epoch 9/10, Validation Loss: 4.8587, Accuracy: 10.00%\n",
            "Epoch 10/10, Validation Loss: 4.6468, Accuracy: 20.00%\n",
            "Fold 2/5\n",
            "Epoch 1/10, Validation Loss: 3.6684, Accuracy: 35.00%\n",
            "Epoch 2/10, Validation Loss: 3.9679, Accuracy: 35.00%\n",
            "Epoch 3/10, Validation Loss: 3.2972, Accuracy: 60.00%\n",
            "Epoch 4/10, Validation Loss: 3.4007, Accuracy: 40.00%\n",
            "Epoch 5/10, Validation Loss: 3.6671, Accuracy: 40.00%\n",
            "Epoch 6/10, Validation Loss: 3.5387, Accuracy: 35.00%\n",
            "Epoch 7/10, Validation Loss: 3.4005, Accuracy: 40.00%\n",
            "Epoch 8/10, Validation Loss: 3.4263, Accuracy: 40.00%\n",
            "Epoch 9/10, Validation Loss: 3.6920, Accuracy: 40.00%\n",
            "Epoch 10/10, Validation Loss: 3.5383, Accuracy: 30.00%\n",
            "Fold 3/5\n",
            "Epoch 1/10, Validation Loss: 2.6035, Accuracy: 60.00%\n",
            "Epoch 2/10, Validation Loss: 2.8001, Accuracy: 55.00%\n",
            "Epoch 3/10, Validation Loss: 2.3489, Accuracy: 65.00%\n",
            "Epoch 4/10, Validation Loss: 2.9996, Accuracy: 45.00%\n",
            "Epoch 5/10, Validation Loss: 2.7693, Accuracy: 45.00%\n",
            "Epoch 6/10, Validation Loss: 2.6207, Accuracy: 60.00%\n",
            "Epoch 7/10, Validation Loss: 2.4710, Accuracy: 75.00%\n",
            "Epoch 8/10, Validation Loss: 2.6587, Accuracy: 55.00%\n",
            "Epoch 9/10, Validation Loss: 2.9250, Accuracy: 55.00%\n",
            "Epoch 10/10, Validation Loss: 2.7915, Accuracy: 55.00%\n",
            "Fold 4/5\n",
            "Epoch 1/10, Validation Loss: 2.2574, Accuracy: 75.00%\n",
            "Epoch 2/10, Validation Loss: 2.2942, Accuracy: 75.00%\n",
            "Epoch 3/10, Validation Loss: 2.8107, Accuracy: 55.00%\n",
            "Epoch 4/10, Validation Loss: 2.1657, Accuracy: 70.00%\n",
            "Epoch 5/10, Validation Loss: 2.1912, Accuracy: 70.00%\n",
            "Epoch 6/10, Validation Loss: 2.4557, Accuracy: 55.00%\n",
            "Epoch 7/10, Validation Loss: 2.4329, Accuracy: 65.00%\n",
            "Epoch 8/10, Validation Loss: 2.3526, Accuracy: 70.00%\n",
            "Epoch 9/10, Validation Loss: 2.6030, Accuracy: 60.00%\n",
            "Epoch 10/10, Validation Loss: 2.4767, Accuracy: 60.00%\n",
            "Fold 5/5\n",
            "Epoch 1/10, Validation Loss: 2.1028, Accuracy: 65.00%\n",
            "Epoch 2/10, Validation Loss: 2.0832, Accuracy: 80.00%\n",
            "Epoch 3/10, Validation Loss: 2.1159, Accuracy: 75.00%\n",
            "Epoch 4/10, Validation Loss: 2.4408, Accuracy: 65.00%\n",
            "Epoch 5/10, Validation Loss: 1.8891, Accuracy: 80.00%\n",
            "Epoch 6/10, Validation Loss: 2.2495, Accuracy: 65.00%\n",
            "Epoch 7/10, Validation Loss: 2.0567, Accuracy: 70.00%\n",
            "Epoch 8/10, Validation Loss: 1.7509, Accuracy: 85.00%\n",
            "Epoch 9/10, Validation Loss: 2.0055, Accuracy: 70.00%\n",
            "Epoch 10/10, Validation Loss: 2.4094, Accuracy: 70.00%\n"
          ]
        }
      ],
      "source": [
        "lr = 0.001\n",
        "epochs = 100\n",
        "criterion = nn.CrossEntropyLoss()\n",
        "optimizer = optim.SGD(model.parameters(), lr=lr,\n",
        "                      momentum=0.9, weight_decay=5e-4, nesterov=False)\n",
        "scheduler = torch.optim.lr_scheduler.CosineAnnealingLR(optimizer, T_max=200)\n",
        "model = model.to(device)\n",
        "\n",
        "#######################START TRAINING############################\n",
        "num_folds = 5\n",
        "kf = KFold(n_splits=num_folds, shuffle=True)\n",
        "\n",
        "train_accs = []\n",
        "train_losses = []\n",
        "val_accs = []\n",
        "val_losses = []\n",
        "\n",
        "for fold, (train_indices, val_indices) in enumerate(kf.split(dataset)):\n",
        "    print(f\"Fold {fold+1}/{num_folds}\")\n",
        "\n",
        "    # Split the dataset\n",
        "    train_set = torch.utils.data.Subset(dataset, train_indices)\n",
        "    val_set = torch.utils.data.Subset(dataset, val_indices)\n",
        "    # training and validation sets\n",
        "    train_loader = torch.utils.data.DataLoader(train_set, batch_size=batch_size, shuffle=True)\n",
        "    val_loader = torch.utils.data.DataLoader(val_set, batch_size=batch_size, shuffle=False)\n",
        "\n",
        "    for epoch in range(num_epochs):\n",
        "        # Training\n",
        "        train_loss, train_acc = train(epoch, train_loader)\n",
        "        train_losses.append(train_loss)\n",
        "        train_accs.append(train_acc)\n",
        "        # Validation\n",
        "        val_loss, val_acc = test(epoch, val_loader)\n",
        "        val_losses.append(val_loss)\n",
        "        val_accs.append(val_acc)\n",
        "\n",
        "        print(f\"Epoch {epoch+1}/{num_epochs}, Validation Loss: {val_loss:.4f}, Accuracy: {val_acc:.2f}%\")\n",
        "\n",
        "        scheduler.step()"
      ]
    },
    {
      "cell_type": "code",
      "execution_count": null,
      "metadata": {
        "colab": {
          "base_uri": "https://localhost:8080/",
          "height": 992
        },
        "id": "YhDakTfDaDHZ",
        "outputId": "15692f1f-52ee-4094-fecb-3b94ff8216d8"
      },
      "outputs": [
        {
          "data": {
            "image/png": "[encoded data removed]",
            "text/plain": [
              "<Figure size 1000x500 with 1 Axes>"
            ]
          },
          "metadata": {},
          "output_type": "display_data"
        },
        {
          "data": {
            "image/png": "[encoded data removed]",
            "text/plain": [
              "<Figure size 1000x500 with 1 Axes>"
            ]
          },
          "metadata": {},
          "output_type": "display_data"
        },
        {
          "name": "stdout",
          "output_type": "stream",
          "text": [
            "Best train accuracy: 70.0\n",
            "Best test accuracy: 85.0\n"
          ]
        }
      ],
      "source": [
        "plot_curves(train_accs, val_accs, train_losses, val_losses)\n",
        "print(f'Best train accuracy: {max(train_accs)}')\n",
        "print(f'Best test accuracy: {max(val_accs)}')"
      ]
    },
    {
      "cell_type": "markdown",
      "metadata": {
        "id": "i4sexskZKCYV"
      },
      "source": [
        "### Testing"
      ]
    },
    {
      "cell_type": "code",
      "execution_count": null,
      "metadata": {
        "colab": {
          "base_uri": "https://localhost:8080/"
        },
        "id": "OoF1I2SHKCYk",
        "outputId": "1a637307-2482-4fa8-ec8c-f6c6ec70977d"
      },
      "outputs": [
        {
          "name": "stderr",
          "output_type": "stream",
          "text": [
            "/usr/local/lib/python3.10/dist-packages/torchvision/transforms/functional.py:1603: UserWarning: The default value of the antialias parameter of all the resizing transforms (Resize(), RandomResizedCrop(), etc.) will change from None to True in v0.17, in order to be consistent across the PIL and Tensor backends. To suppress this warning, directly pass antialias=True (recommended, future default), antialias=None (current default, which means False for Tensors and True for PIL), or antialias=False (only works on Tensors - PIL will still use antialiasing). This also applies if you are using the inference transforms from the models weights: update the call to weights.transforms(antialias=True).\n",
            "  warnings.warn(\n"
          ]
        },
        {
          "name": "stdout",
          "output_type": "stream",
          "text": [
            "Test Loss: 1589.059 | Acc: 45.180%\n"
          ]
        }
      ],
      "source": [
        "test_loss, test_acc = test(epoch, test_loader)\n",
        "print('Test Loss: %.3f | Acc: %.3f%%' % (test_loss, test_acc))"
      ]
    },
    {
      "cell_type": "markdown",
      "metadata": {
        "id": "HRUA5I8N_2hk"
      },
      "source": [
        "# Conclusions"
      ]
    },
    {
      "cell_type": "markdown",
      "metadata": {
        "id": "RmyiWAPJ_2hl"
      },
      "source": [
        "__Question 7 (3 points) :__ Write a short report explaining the pros and the cons of each method that you implemented. 25% of the grade of this project will correspond to this question, thus, it should be done carefully. In particular, please add a plot that will summarize all your numerical results."
      ]
    },
    {
      "cell_type": "markdown",
      "metadata": {
        "id": "zJ-v4Nev_2hl"
      },
      "source": []
    },
    {
      "cell_type": "markdown",
      "metadata": {
        "id": "sAGp7ddN_2hl"
      },
      "source": [
        "# Weak supervision"
      ]
    },
    {
      "cell_type": "markdown",
      "metadata": {
        "id": "wHQRLbC3_2hl"
      },
      "source": [
        "__Bonus \\[open\\] question (up to 3 points) :__ Pick a weakly supervised method that will potentially use $\\mathcal{X}\\cup\\mathcal{X}_{\\text{train}}$ to train a representation (a subset of $\\mathcal{X}$ is also fine). Evaluate it and report the accuracies. You should be careful in the choice of your method, in order to avoid heavy computational effort."
      ]
    },
    {
      "cell_type": "markdown",
      "metadata": {
        "id": "rbjhfIvN_2hl"
      },
      "source": []
    }
  ],
  "metadata": {
    "accelerator": "GPU",
    "colab": {
      "gpuType": "T4",
      "include_colab_link": true,
      "machine_shape": "hm",
      "provenance": []
    },
    "kernelspec": {
      "display_name": "Python 3",
      "name": "python3"
    },
    "kfiletag": "nwQfLDVayqAm",
    "language_info": {
      "codemirror_mode": {
        "name": "ipython",
        "version": 3
      },
      "file_extension": ".py",
      "mimetype": "text/x-python",
      "name": "python",
      "nbconvert_exporter": "python",
      "pygments_lexer": "ipython3",
      "version": "3.10.6"
    }
  },
  "nbformat": 4,
  "nbformat_minor": 0
}
