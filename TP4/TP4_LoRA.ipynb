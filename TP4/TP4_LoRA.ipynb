{
  "cells": [
    {
      "cell_type": "markdown",
      "metadata": {
        "cell_ktag": "rn5CLfwuJLj1",
        "id": "sqVTFy8JesE9"
      },
      "source": [
        "# Implementing a Low Rank Adapter (LoRA) (8 points)\n",
        "\n",
        "Objective of this exercice:\n",
        "\n",
        "Given a neural network (NN) classifier pre-trained on the subset of MNIST containing digits 0...4,\n",
        "you will fine-tune this NN, by optimizing all weights, and compare the test accuracy of this baseline model versus fine-tuning a LoRA.\n",
        "\n",
        "The neural network that we will define is artificially big because LoRA is usually applied to Large Language Models of billions of parameters\n",
        "\n",
        "**What is a LoRA ?**\n",
        "\n",
        "LoRA (Low-Rank Adaptation of Large Language Models) is a popular and lightweight training technique that significantly reduces the number of trainable parameters. It works by inserting a smaller number of new weights into the model and only these are trained. This makes training with LoRA much faster, memory-efficient, and produces smaller model weights (a few hundred MBs), which are easier to store and share.\n",
        "\n",
        "<div style=\"display: flex; justify-content: space-between;\">\n",
        "    <img src='https://www.lri.fr/~gcharpia/deeppractice/2024/TP4/imgs/lora_fig.png' style=\"width: 30%;\">\n",
        "    <img src='https://www.lri.fr/~gcharpia/deeppractice/2024/TP4/imgs/lora_text.png' style=\"width: 70%;\">\n",
        "</div>\n",
        "\n",
        "\n",
        "\n",
        "References:\n",
        "\n",
        "https://arxiv.org/pdf/2106.09685.pdf\n",
        "\n",
        "https://lightning.ai/pages/community/tutorial/lora-llm/\n",
        "\n",
        "https://huggingface.co/docs/diffusers/main/en/training/lora\n"
      ],
      "id": "sqVTFy8JesE9"
    },
    {
      "cell_type": "code",
      "execution_count": 16,
      "metadata": {
        "cell_ktag": "rn5CLfwuJLj1",
        "colab": {
          "base_uri": "https://localhost:8080/"
        },
        "id": "JFX-mIXbesFE",
        "outputId": "6fde1f82-a936-4ddf-952b-845aa479366c"
      },
      "outputs": [
        {
          "output_type": "stream",
          "name": "stdout",
          "text": [
            "Tesla T4\n",
            "Memory Usage:\n",
            "Allocated: 0.0 GB\n",
            "Cached:    0.0 GB\n"
          ]
        }
      ],
      "source": [
        "import torch\n",
        "import torch.nn as nn\n",
        "import torchvision.datasets as datasets\n",
        "from torch.utils.data import DataLoader, random_split, Subset\n",
        "import torch.nn.utils.parametrize as parametrize\n",
        "import torchvision.transforms as transforms\n",
        "\n",
        "import numpy as np\n",
        "import matplotlib.pyplot as plt\n",
        "\n",
        "from tqdm import tqdm\n",
        "\n",
        "# Make torch deterministic\n",
        "_ = torch.manual_seed(0)\n",
        "\n",
        "\n",
        "# Decide which device we want to run on\n",
        "ngpu=1\n",
        "device = torch.device(\"cuda:0\" if (torch.cuda.is_available() and ngpu > 0) else \"cpu\")\n",
        "\n",
        "if device.type == 'cuda':\n",
        "    print(torch.cuda.get_device_name(0))\n",
        "    print('Memory Usage:')\n",
        "    print('Allocated:', round(torch.cuda.memory_allocated(0)/1024**3,1), 'GB')\n",
        "    print('Cached:   ', round(torch.cuda.memory_reserved(0)/1024**3,1), 'GB')"
      ],
      "id": "JFX-mIXbesFE"
    },
    {
      "cell_type": "code",
      "execution_count": 17,
      "metadata": {
        "cell_ktag": "rn5CLfwuJLj1",
        "id": "LE9XzeAOesFF"
      },
      "outputs": [],
      "source": [
        "#Normalizing MNIST\n",
        "#These values are the mean and std deviation of the MNIST dataset.\n",
        "transform = transforms.Compose([transforms.ToTensor(), transforms.Normalize((0.1307,), (0.3081,))])\n",
        "\n",
        "# load MNIST\n",
        "mnist_train = datasets.MNIST(root='./data', train=True, download=True, transform=transform)\n",
        "mnist_test = datasets.MNIST(root='./data', train=False, download=True, transform=transform)\n",
        "\n",
        "# keep images of desired labels\n",
        "class_names = [0, 1, 2, 3, 4]\n",
        "\n",
        "# create a mask to filter indices for each label\n",
        "train_mask = torch.tensor([label in class_names for label in mnist_train.targets])\n",
        "test_mask = torch.tensor([label in class_names for label in mnist_test.targets])\n",
        "\n",
        "# Create Subset datasets for train, validation, and test\n",
        "train_dataset = Subset(mnist_train, torch.where(train_mask)[0])\n",
        "test_dataset = Subset(mnist_test, torch.where(test_mask)[0])\n",
        "\n",
        "# split train into train & validation\n",
        "train_size = int(0.7 * len(train_dataset))\n",
        "val_size = len(train_dataset) - train_size\n",
        "train_dataset, val_dataset = random_split(train_dataset, [train_size, val_size])\n",
        "\n",
        "batch_size=128\n",
        "\n",
        "train_loader = DataLoader(train_dataset, batch_size=batch_size, shuffle=True)\n",
        "val_loader = DataLoader(val_dataset, batch_size=batch_size, shuffle=False)\n",
        "test_loader = DataLoader(test_dataset, batch_size=batch_size, shuffle=False)\n"
      ],
      "id": "LE9XzeAOesFF"
    },
    {
      "cell_type": "code",
      "execution_count": 18,
      "metadata": {
        "cell_ktag": "rn5CLfwuJLj1",
        "colab": {
          "base_uri": "https://localhost:8080/"
        },
        "id": "4BhGKvpeesFG",
        "outputId": "957c0beb-2586-4435-9e35-dc5416c25902"
      },
      "outputs": [
        {
          "output_type": "execute_result",
          "data": {
            "text/plain": [
              "(21417, 9179, 5139)"
            ]
          },
          "metadata": {},
          "execution_count": 18
        }
      ],
      "source": [
        "len(train_dataset),len(val_dataset),len(test_dataset)"
      ],
      "id": "4BhGKvpeesFG"
    },
    {
      "cell_type": "markdown",
      "metadata": {
        "cell_ktag": "rn5CLfwuJLj1",
        "id": "Lh1f59GxesFG"
      },
      "source": [
        "# Architecture of the classifier"
      ],
      "id": "Lh1f59GxesFG"
    },
    {
      "cell_type": "code",
      "execution_count": 19,
      "metadata": {
        "cell_ktag": "rn5CLfwuJLj1",
        "id": "1SY6rBwkesFH"
      },
      "outputs": [],
      "source": [
        "#note that last layer has 5 neurons for digits 0...4\n",
        "#and the same layer will be used for 5...9\n",
        "\n",
        "class classifier(nn.Module):\n",
        "    def __init__(self, hidden_size_1=1000, hidden_size_2=2000):\n",
        "        super(classifier,self).__init__()\n",
        "\n",
        "        self.linear1 = nn.Linear(28*28, hidden_size_1)\n",
        "        self.linear2 = nn.Linear(hidden_size_1, hidden_size_2)\n",
        "        self.linear3 = nn.Linear(hidden_size_2, 5)\n",
        "        self.relu = nn.ReLU()\n",
        "\n",
        "\n",
        "        self.dropout = nn.Dropout(0.5)\n",
        "\n",
        "\n",
        "\n",
        "    def forward(self, img):\n",
        "        x = img.view(-1, 28*28)\n",
        "        x = self.relu(self.linear1(x))\n",
        "        x = self.dropout(x)\n",
        "        x = self.relu(self.linear2(x))\n",
        "        x = self.dropout(x)\n",
        "        x = self.linear3(x)\n",
        "        return x\n",
        "\n",
        "net = classifier().to(device)"
      ],
      "id": "1SY6rBwkesFH"
    },
    {
      "cell_type": "markdown",
      "metadata": {
        "cell_ktag": "rn5CLfwuJLj1",
        "id": "vXJ2Ko-EesFI"
      },
      "source": [
        "# Code for training loop & validation"
      ],
      "id": "vXJ2Ko-EesFI"
    },
    {
      "cell_type": "code",
      "execution_count": 20,
      "metadata": {
        "cell_ktag": "rn5CLfwuJLj1",
        "id": "MNzhLCU1esFI"
      },
      "outputs": [],
      "source": [
        "#We set a lower learning rate when we will fine-tune on the subset of MNIST containing digits 5...9\n",
        "#so that fine-tuning don't change pre-training weights too much.\n",
        "\n",
        "#Since the NN is big, we add weight decay to regularize it otherwise it will overfit too much too fast\n",
        "def adjust_optimizer(name, parameters):\n",
        "    lr = 0.001\n",
        "    if name == \"subset2\":\n",
        "        lr = 0.00001\n",
        "    return torch.optim.Adam(parameters, lr=lr, weight_decay=0.0001)\n",
        "\n",
        "#to do label prediction during training we use argmax on the last layer, which output a vector of 5 components\n",
        "#so y_hat will be between 0 and 4, we thus have to \"translate\" y_true so that it's in the right range\n",
        "\n",
        "# the name variable will be used later on to recognize on which dataset we are\n",
        "# and do the corresponding label translation, and set the good hyperparameters\n",
        "def process_labels(name, labels):\n",
        "    if 'subset2' in name:\n",
        "        labels = labels - 5\n",
        "    return labels\n",
        "\n",
        "\n",
        "def run_epoch(loader, name, net, optimizer, cross_el, total_iterations_limit=None):\n",
        "    net.train() if optimizer else net.eval()\n",
        "\n",
        "    loss_sum = 0\n",
        "    num_iterations = 0\n",
        "\n",
        "    data_iterator = tqdm(loader, desc=f'Training' if optimizer else f'Validation')\n",
        "    if total_iterations_limit is not None:\n",
        "        data_iterator.total = total_iterations_limit\n",
        "\n",
        "    for data in data_iterator:\n",
        "        num_iterations += 1\n",
        "        x, y = data\n",
        "        x, y = x.to(device), y.to(device)\n",
        "        x = x.view(-1, 28*28)\n",
        "        optimizer.zero_grad() if optimizer else None\n",
        "        output = net(x)\n",
        "        loss = cross_el(output, process_labels(name, y))\n",
        "        loss_sum += loss.item()\n",
        "        avg_loss = loss_sum / num_iterations\n",
        "        data_iterator.set_postfix(loss=avg_loss)\n",
        "        if optimizer:\n",
        "            loss.backward()\n",
        "            optimizer.step()\n",
        "\n",
        "    return loss_sum / len(data_iterator)\n",
        "\n",
        "def train(train_loader, val_loader, name, net, epochs=5, total_iterations_limit=None):\n",
        "    cross_el = nn.CrossEntropyLoss()\n",
        "    optimizer = adjust_optimizer(name, net.parameters())\n",
        "\n",
        "    total_iterations = 0\n",
        "    train_loss_lst, val_loss_lst = [], []\n",
        "\n",
        "    for epoch in range(epochs):\n",
        "        train_loss = run_epoch(train_loader, name, net, optimizer, cross_el, total_iterations_limit)\n",
        "        print(f\"Epoch [{epoch+1}/{epochs}] Train Loss: {train_loss}\")\n",
        "        train_loss_lst.append(train_loss)\n",
        "\n",
        "        val_loss = run_epoch(val_loader, name, net, None, cross_el, total_iterations_limit)\n",
        "        print(f\"Epoch [{epoch+1}/{epochs}] Validation Loss: {val_loss}\")\n",
        "        val_loss_lst.append(val_loss)\n",
        "\n",
        "    return train_loss_lst, val_loss_lst"
      ],
      "id": "MNzhLCU1esFI"
    },
    {
      "cell_type": "code",
      "execution_count": 21,
      "metadata": {
        "cell_ktag": "rn5CLfwuJLj1",
        "id": "NBkSSMIwesFJ"
      },
      "outputs": [],
      "source": [
        "def plot_losses(train_loss_lst, val_loss_lst):\n",
        "    plt.plot(train_loss_lst,label=\"train\")\n",
        "    plt.plot(val_loss_lst,label=\"val\")\n",
        "    plt.legend()"
      ],
      "id": "NBkSSMIwesFJ"
    },
    {
      "cell_type": "markdown",
      "metadata": {
        "cell_ktag": "rn5CLfwuJLj1",
        "id": "SjUij5hResFJ"
      },
      "source": [
        "# If you have GPU access, or simply want to train your own model, run this code"
      ],
      "id": "SjUij5hResFJ"
    },
    {
      "cell_type": "code",
      "execution_count": 22,
      "metadata": {
        "cell_ktag": "rn5CLfwuJLj1",
        "colab": {
          "base_uri": "https://localhost:8080/"
        },
        "id": "VJAwfUcbesFJ",
        "outputId": "1da2073b-c954-4af4-8a77-c072aa1c23ba"
      },
      "outputs": [
        {
          "output_type": "stream",
          "name": "stderr",
          "text": [
            "Training: 100%|██████████| 168/168 [00:06<00:00, 24.80it/s, loss=0.15]\n"
          ]
        },
        {
          "output_type": "stream",
          "name": "stdout",
          "text": [
            "Epoch [1/30] Train Loss: 0.14974932339308517\n"
          ]
        },
        {
          "output_type": "stream",
          "name": "stderr",
          "text": [
            "Validation: 100%|██████████| 72/72 [00:02<00:00, 31.95it/s, loss=0.0825]\n"
          ]
        },
        {
          "output_type": "stream",
          "name": "stdout",
          "text": [
            "Epoch [1/30] Validation Loss: 0.08251338893185473\n"
          ]
        },
        {
          "output_type": "stream",
          "name": "stderr",
          "text": [
            "Training: 100%|██████████| 168/168 [00:05<00:00, 28.51it/s, loss=0.0727]\n"
          ]
        },
        {
          "output_type": "stream",
          "name": "stdout",
          "text": [
            "Epoch [2/30] Train Loss: 0.0727058290171304\n"
          ]
        },
        {
          "output_type": "stream",
          "name": "stderr",
          "text": [
            "Validation: 100%|██████████| 72/72 [00:02<00:00, 26.50it/s, loss=0.0739]\n"
          ]
        },
        {
          "output_type": "stream",
          "name": "stdout",
          "text": [
            "Epoch [2/30] Validation Loss: 0.07392260182597157\n"
          ]
        },
        {
          "output_type": "stream",
          "name": "stderr",
          "text": [
            "Training: 100%|██████████| 168/168 [00:05<00:00, 33.35it/s, loss=0.0526]\n"
          ]
        },
        {
          "output_type": "stream",
          "name": "stdout",
          "text": [
            "Epoch [3/30] Train Loss: 0.05263905182004064\n"
          ]
        },
        {
          "output_type": "stream",
          "name": "stderr",
          "text": [
            "Validation: 100%|██████████| 72/72 [00:02<00:00, 34.86it/s, loss=0.045]\n"
          ]
        },
        {
          "output_type": "stream",
          "name": "stdout",
          "text": [
            "Epoch [3/30] Validation Loss: 0.044970981440403394\n"
          ]
        },
        {
          "output_type": "stream",
          "name": "stderr",
          "text": [
            "Training: 100%|██████████| 168/168 [00:06<00:00, 26.00it/s, loss=0.051]\n"
          ]
        },
        {
          "output_type": "stream",
          "name": "stdout",
          "text": [
            "Epoch [4/30] Train Loss: 0.051019202169430046\n"
          ]
        },
        {
          "output_type": "stream",
          "name": "stderr",
          "text": [
            "Validation: 100%|██████████| 72/72 [00:02<00:00, 31.50it/s, loss=0.0399]\n"
          ]
        },
        {
          "output_type": "stream",
          "name": "stdout",
          "text": [
            "Epoch [4/30] Validation Loss: 0.039921130816057686\n"
          ]
        },
        {
          "output_type": "stream",
          "name": "stderr",
          "text": [
            "Training: 100%|██████████| 168/168 [00:05<00:00, 30.31it/s, loss=0.0439]\n"
          ]
        },
        {
          "output_type": "stream",
          "name": "stdout",
          "text": [
            "Epoch [5/30] Train Loss: 0.04388246592550006\n"
          ]
        },
        {
          "output_type": "stream",
          "name": "stderr",
          "text": [
            "Validation: 100%|██████████| 72/72 [00:02<00:00, 25.64it/s, loss=0.057]\n"
          ]
        },
        {
          "output_type": "stream",
          "name": "stdout",
          "text": [
            "Epoch [5/30] Validation Loss: 0.05699470036132778\n"
          ]
        },
        {
          "output_type": "stream",
          "name": "stderr",
          "text": [
            "Training: 100%|██████████| 168/168 [00:05<00:00, 29.67it/s, loss=0.0388]\n"
          ]
        },
        {
          "output_type": "stream",
          "name": "stdout",
          "text": [
            "Epoch [6/30] Train Loss: 0.0388344281292077\n"
          ]
        },
        {
          "output_type": "stream",
          "name": "stderr",
          "text": [
            "Validation: 100%|██████████| 72/72 [00:02<00:00, 32.46it/s, loss=0.0555]\n"
          ]
        },
        {
          "output_type": "stream",
          "name": "stdout",
          "text": [
            "Epoch [6/30] Validation Loss: 0.0555133964581829\n"
          ]
        },
        {
          "output_type": "stream",
          "name": "stderr",
          "text": [
            "Training: 100%|██████████| 168/168 [00:06<00:00, 26.61it/s, loss=0.0382]\n"
          ]
        },
        {
          "output_type": "stream",
          "name": "stdout",
          "text": [
            "Epoch [7/30] Train Loss: 0.03818635740650019\n"
          ]
        },
        {
          "output_type": "stream",
          "name": "stderr",
          "text": [
            "Validation: 100%|██████████| 72/72 [00:02<00:00, 32.60it/s, loss=0.0471]\n"
          ]
        },
        {
          "output_type": "stream",
          "name": "stdout",
          "text": [
            "Epoch [7/30] Validation Loss: 0.04714426022757026\n"
          ]
        },
        {
          "output_type": "stream",
          "name": "stderr",
          "text": [
            "Training: 100%|██████████| 168/168 [00:06<00:00, 27.40it/s, loss=0.0322]\n"
          ]
        },
        {
          "output_type": "stream",
          "name": "stdout",
          "text": [
            "Epoch [8/30] Train Loss: 0.032195798712477665\n"
          ]
        },
        {
          "output_type": "stream",
          "name": "stderr",
          "text": [
            "Validation: 100%|██████████| 72/72 [00:02<00:00, 29.96it/s, loss=0.0435]\n"
          ]
        },
        {
          "output_type": "stream",
          "name": "stdout",
          "text": [
            "Epoch [8/30] Validation Loss: 0.04350943462062181\n"
          ]
        },
        {
          "output_type": "stream",
          "name": "stderr",
          "text": [
            "Training: 100%|██████████| 168/168 [00:05<00:00, 28.67it/s, loss=0.0325]\n"
          ]
        },
        {
          "output_type": "stream",
          "name": "stdout",
          "text": [
            "Epoch [9/30] Train Loss: 0.032548023160156196\n"
          ]
        },
        {
          "output_type": "stream",
          "name": "stderr",
          "text": [
            "Validation: 100%|██████████| 72/72 [00:02<00:00, 32.69it/s, loss=0.0363]\n"
          ]
        },
        {
          "output_type": "stream",
          "name": "stdout",
          "text": [
            "Epoch [9/30] Validation Loss: 0.03634637334946294\n"
          ]
        },
        {
          "output_type": "stream",
          "name": "stderr",
          "text": [
            "Training: 100%|██████████| 168/168 [00:06<00:00, 27.13it/s, loss=0.0323]\n"
          ]
        },
        {
          "output_type": "stream",
          "name": "stdout",
          "text": [
            "Epoch [10/30] Train Loss: 0.032335361063208744\n"
          ]
        },
        {
          "output_type": "stream",
          "name": "stderr",
          "text": [
            "Validation: 100%|██████████| 72/72 [00:03<00:00, 22.82it/s, loss=0.0439]\n"
          ]
        },
        {
          "output_type": "stream",
          "name": "stdout",
          "text": [
            "Epoch [10/30] Validation Loss: 0.04394077951696494\n"
          ]
        },
        {
          "output_type": "stream",
          "name": "stderr",
          "text": [
            "Training: 100%|██████████| 168/168 [00:05<00:00, 28.04it/s, loss=0.0353]\n"
          ]
        },
        {
          "output_type": "stream",
          "name": "stdout",
          "text": [
            "Epoch [11/30] Train Loss: 0.03525609094746566\n"
          ]
        },
        {
          "output_type": "stream",
          "name": "stderr",
          "text": [
            "Validation: 100%|██████████| 72/72 [00:02<00:00, 31.91it/s, loss=0.0402]\n"
          ]
        },
        {
          "output_type": "stream",
          "name": "stdout",
          "text": [
            "Epoch [11/30] Validation Loss: 0.04019067670136186\n"
          ]
        },
        {
          "output_type": "stream",
          "name": "stderr",
          "text": [
            "Training: 100%|██████████| 168/168 [00:06<00:00, 26.94it/s, loss=0.0289]\n"
          ]
        },
        {
          "output_type": "stream",
          "name": "stdout",
          "text": [
            "Epoch [12/30] Train Loss: 0.02887745749432638\n"
          ]
        },
        {
          "output_type": "stream",
          "name": "stderr",
          "text": [
            "Validation: 100%|██████████| 72/72 [00:02<00:00, 33.16it/s, loss=0.048]\n"
          ]
        },
        {
          "output_type": "stream",
          "name": "stdout",
          "text": [
            "Epoch [12/30] Validation Loss: 0.047962664700106766\n"
          ]
        },
        {
          "output_type": "stream",
          "name": "stderr",
          "text": [
            "Training: 100%|██████████| 168/168 [00:05<00:00, 28.30it/s, loss=0.0332]\n"
          ]
        },
        {
          "output_type": "stream",
          "name": "stdout",
          "text": [
            "Epoch [13/30] Train Loss: 0.033212027780661756\n"
          ]
        },
        {
          "output_type": "stream",
          "name": "stderr",
          "text": [
            "Validation: 100%|██████████| 72/72 [00:02<00:00, 24.77it/s, loss=0.0495]\n"
          ]
        },
        {
          "output_type": "stream",
          "name": "stdout",
          "text": [
            "Epoch [13/30] Validation Loss: 0.04945662647716947\n"
          ]
        },
        {
          "output_type": "stream",
          "name": "stderr",
          "text": [
            "Training: 100%|██████████| 168/168 [00:05<00:00, 31.27it/s, loss=0.0241]\n"
          ]
        },
        {
          "output_type": "stream",
          "name": "stdout",
          "text": [
            "Epoch [14/30] Train Loss: 0.024146842429088013\n"
          ]
        },
        {
          "output_type": "stream",
          "name": "stderr",
          "text": [
            "Validation: 100%|██████████| 72/72 [00:02<00:00, 32.51it/s, loss=0.0454]\n"
          ]
        },
        {
          "output_type": "stream",
          "name": "stdout",
          "text": [
            "Epoch [14/30] Validation Loss: 0.045374524898256316\n"
          ]
        },
        {
          "output_type": "stream",
          "name": "stderr",
          "text": [
            "Training: 100%|██████████| 168/168 [00:06<00:00, 27.22it/s, loss=0.0311]\n"
          ]
        },
        {
          "output_type": "stream",
          "name": "stdout",
          "text": [
            "Epoch [15/30] Train Loss: 0.031124311276514726\n"
          ]
        },
        {
          "output_type": "stream",
          "name": "stderr",
          "text": [
            "Validation: 100%|██████████| 72/72 [00:02<00:00, 31.60it/s, loss=0.0622]\n"
          ]
        },
        {
          "output_type": "stream",
          "name": "stdout",
          "text": [
            "Epoch [15/30] Validation Loss: 0.062247429725781935\n"
          ]
        },
        {
          "output_type": "stream",
          "name": "stderr",
          "text": [
            "Training: 100%|██████████| 168/168 [00:05<00:00, 31.20it/s, loss=0.0277]\n"
          ]
        },
        {
          "output_type": "stream",
          "name": "stdout",
          "text": [
            "Epoch [16/30] Train Loss: 0.027696087993977665\n"
          ]
        },
        {
          "output_type": "stream",
          "name": "stderr",
          "text": [
            "Validation: 100%|██████████| 72/72 [00:02<00:00, 24.24it/s, loss=0.0529]\n"
          ]
        },
        {
          "output_type": "stream",
          "name": "stdout",
          "text": [
            "Epoch [16/30] Validation Loss: 0.0529151780938264\n"
          ]
        },
        {
          "output_type": "stream",
          "name": "stderr",
          "text": [
            "Training: 100%|██████████| 168/168 [00:05<00:00, 29.54it/s, loss=0.0261]\n"
          ]
        },
        {
          "output_type": "stream",
          "name": "stdout",
          "text": [
            "Epoch [17/30] Train Loss: 0.026115033389335924\n"
          ]
        },
        {
          "output_type": "stream",
          "name": "stderr",
          "text": [
            "Validation: 100%|██████████| 72/72 [00:02<00:00, 31.98it/s, loss=0.042]\n"
          ]
        },
        {
          "output_type": "stream",
          "name": "stdout",
          "text": [
            "Epoch [17/30] Validation Loss: 0.04201710590723451\n"
          ]
        },
        {
          "output_type": "stream",
          "name": "stderr",
          "text": [
            "Training: 100%|██████████| 168/168 [00:06<00:00, 27.80it/s, loss=0.0265]\n"
          ]
        },
        {
          "output_type": "stream",
          "name": "stdout",
          "text": [
            "Epoch [18/30] Train Loss: 0.026536672590910235\n"
          ]
        },
        {
          "output_type": "stream",
          "name": "stderr",
          "text": [
            "Validation: 100%|██████████| 72/72 [00:02<00:00, 33.67it/s, loss=0.0423]\n"
          ]
        },
        {
          "output_type": "stream",
          "name": "stdout",
          "text": [
            "Epoch [18/30] Validation Loss: 0.042308687057862296\n"
          ]
        },
        {
          "output_type": "stream",
          "name": "stderr",
          "text": [
            "Training: 100%|██████████| 168/168 [00:05<00:00, 30.44it/s, loss=0.0236]\n"
          ]
        },
        {
          "output_type": "stream",
          "name": "stdout",
          "text": [
            "Epoch [19/30] Train Loss: 0.023623232239472037\n"
          ]
        },
        {
          "output_type": "stream",
          "name": "stderr",
          "text": [
            "Validation: 100%|██████████| 72/72 [00:02<00:00, 30.27it/s, loss=0.0461]\n"
          ]
        },
        {
          "output_type": "stream",
          "name": "stdout",
          "text": [
            "Epoch [19/30] Validation Loss: 0.046063210224600776\n"
          ]
        },
        {
          "output_type": "stream",
          "name": "stderr",
          "text": [
            "Training: 100%|██████████| 168/168 [00:06<00:00, 26.68it/s, loss=0.0189]\n"
          ]
        },
        {
          "output_type": "stream",
          "name": "stdout",
          "text": [
            "Epoch [20/30] Train Loss: 0.018922397777628032\n"
          ]
        },
        {
          "output_type": "stream",
          "name": "stderr",
          "text": [
            "Validation: 100%|██████████| 72/72 [00:02<00:00, 32.57it/s, loss=0.0467]\n"
          ]
        },
        {
          "output_type": "stream",
          "name": "stdout",
          "text": [
            "Epoch [20/30] Validation Loss: 0.046737306796962405\n"
          ]
        },
        {
          "output_type": "stream",
          "name": "stderr",
          "text": [
            "Training: 100%|██████████| 168/168 [00:05<00:00, 29.20it/s, loss=0.022]\n"
          ]
        },
        {
          "output_type": "stream",
          "name": "stdout",
          "text": [
            "Epoch [21/30] Train Loss: 0.02201877897451119\n"
          ]
        },
        {
          "output_type": "stream",
          "name": "stderr",
          "text": [
            "Validation: 100%|██████████| 72/72 [00:02<00:00, 26.06it/s, loss=0.0506]\n"
          ]
        },
        {
          "output_type": "stream",
          "name": "stdout",
          "text": [
            "Epoch [21/30] Validation Loss: 0.050577840019589836\n"
          ]
        },
        {
          "output_type": "stream",
          "name": "stderr",
          "text": [
            "Training: 100%|██████████| 168/168 [00:05<00:00, 30.74it/s, loss=0.0274]\n"
          ]
        },
        {
          "output_type": "stream",
          "name": "stdout",
          "text": [
            "Epoch [22/30] Train Loss: 0.027364984396453587\n"
          ]
        },
        {
          "output_type": "stream",
          "name": "stderr",
          "text": [
            "Validation: 100%|██████████| 72/72 [00:02<00:00, 32.28it/s, loss=0.045]\n"
          ]
        },
        {
          "output_type": "stream",
          "name": "stdout",
          "text": [
            "Epoch [22/30] Validation Loss: 0.04503257767871421\n"
          ]
        },
        {
          "output_type": "stream",
          "name": "stderr",
          "text": [
            "Training: 100%|██████████| 168/168 [00:06<00:00, 25.25it/s, loss=0.027]\n"
          ]
        },
        {
          "output_type": "stream",
          "name": "stdout",
          "text": [
            "Epoch [23/30] Train Loss: 0.026974615275575854\n"
          ]
        },
        {
          "output_type": "stream",
          "name": "stderr",
          "text": [
            "Validation: 100%|██████████| 72/72 [00:02<00:00, 32.21it/s, loss=0.046]\n"
          ]
        },
        {
          "output_type": "stream",
          "name": "stdout",
          "text": [
            "Epoch [23/30] Validation Loss: 0.04601384805662039\n"
          ]
        },
        {
          "output_type": "stream",
          "name": "stderr",
          "text": [
            "Training: 100%|██████████| 168/168 [00:05<00:00, 32.23it/s, loss=0.0247]\n"
          ]
        },
        {
          "output_type": "stream",
          "name": "stdout",
          "text": [
            "Epoch [24/30] Train Loss: 0.024679075321121974\n"
          ]
        },
        {
          "output_type": "stream",
          "name": "stderr",
          "text": [
            "Validation: 100%|██████████| 72/72 [00:02<00:00, 25.24it/s, loss=0.052]\n"
          ]
        },
        {
          "output_type": "stream",
          "name": "stdout",
          "text": [
            "Epoch [24/30] Validation Loss: 0.051963286942938995\n"
          ]
        },
        {
          "output_type": "stream",
          "name": "stderr",
          "text": [
            "Training: 100%|██████████| 168/168 [00:05<00:00, 28.76it/s, loss=0.0227]\n"
          ]
        },
        {
          "output_type": "stream",
          "name": "stdout",
          "text": [
            "Epoch [25/30] Train Loss: 0.02269305546247952\n"
          ]
        },
        {
          "output_type": "stream",
          "name": "stderr",
          "text": [
            "Validation: 100%|██████████| 72/72 [00:02<00:00, 31.44it/s, loss=0.0425]\n"
          ]
        },
        {
          "output_type": "stream",
          "name": "stdout",
          "text": [
            "Epoch [25/30] Validation Loss: 0.04245810768144212\n"
          ]
        },
        {
          "output_type": "stream",
          "name": "stderr",
          "text": [
            "Training: 100%|██████████| 168/168 [00:06<00:00, 26.45it/s, loss=0.0244]\n"
          ]
        },
        {
          "output_type": "stream",
          "name": "stdout",
          "text": [
            "Epoch [26/30] Train Loss: 0.024409375068769026\n"
          ]
        },
        {
          "output_type": "stream",
          "name": "stderr",
          "text": [
            "Validation: 100%|██████████| 72/72 [00:02<00:00, 31.31it/s, loss=0.0426]\n"
          ]
        },
        {
          "output_type": "stream",
          "name": "stdout",
          "text": [
            "Epoch [26/30] Validation Loss: 0.0425777312912285\n"
          ]
        },
        {
          "output_type": "stream",
          "name": "stderr",
          "text": [
            "Training: 100%|██████████| 168/168 [00:05<00:00, 30.99it/s, loss=0.026]\n"
          ]
        },
        {
          "output_type": "stream",
          "name": "stdout",
          "text": [
            "Epoch [27/30] Train Loss: 0.02596881687198523\n"
          ]
        },
        {
          "output_type": "stream",
          "name": "stderr",
          "text": [
            "Validation: 100%|██████████| 72/72 [00:02<00:00, 30.57it/s, loss=0.0372]\n"
          ]
        },
        {
          "output_type": "stream",
          "name": "stdout",
          "text": [
            "Epoch [27/30] Validation Loss: 0.03724991662567037\n"
          ]
        },
        {
          "output_type": "stream",
          "name": "stderr",
          "text": [
            "Training: 100%|██████████| 168/168 [00:06<00:00, 26.70it/s, loss=0.0276]\n"
          ]
        },
        {
          "output_type": "stream",
          "name": "stdout",
          "text": [
            "Epoch [28/30] Train Loss: 0.027648606950043314\n"
          ]
        },
        {
          "output_type": "stream",
          "name": "stderr",
          "text": [
            "Validation: 100%|██████████| 72/72 [00:02<00:00, 32.48it/s, loss=0.0443]\n"
          ]
        },
        {
          "output_type": "stream",
          "name": "stdout",
          "text": [
            "Epoch [28/30] Validation Loss: 0.04432549775060579\n"
          ]
        },
        {
          "output_type": "stream",
          "name": "stderr",
          "text": [
            "Training: 100%|██████████| 168/168 [00:05<00:00, 29.09it/s, loss=0.0292]\n"
          ]
        },
        {
          "output_type": "stream",
          "name": "stdout",
          "text": [
            "Epoch [29/30] Train Loss: 0.029202995721615957\n"
          ]
        },
        {
          "output_type": "stream",
          "name": "stderr",
          "text": [
            "Validation: 100%|██████████| 72/72 [00:02<00:00, 26.97it/s, loss=0.0453]\n"
          ]
        },
        {
          "output_type": "stream",
          "name": "stdout",
          "text": [
            "Epoch [29/30] Validation Loss: 0.04532906108960964\n"
          ]
        },
        {
          "output_type": "stream",
          "name": "stderr",
          "text": [
            "Training: 100%|██████████| 168/168 [00:05<00:00, 29.39it/s, loss=0.017]\n"
          ]
        },
        {
          "output_type": "stream",
          "name": "stdout",
          "text": [
            "Epoch [30/30] Train Loss: 0.016994555830738785\n"
          ]
        },
        {
          "output_type": "stream",
          "name": "stderr",
          "text": [
            "Validation: 100%|██████████| 72/72 [00:02<00:00, 31.68it/s, loss=0.0497]"
          ]
        },
        {
          "output_type": "stream",
          "name": "stdout",
          "text": [
            "Epoch [30/30] Validation Loss: 0.049672105197689435\n"
          ]
        },
        {
          "output_type": "stream",
          "name": "stderr",
          "text": [
            "\n"
          ]
        }
      ],
      "source": [
        "train_loss_lst, val_loss_lst = train(train_loader, val_loader, \"subset1\", net, epochs=30)"
      ],
      "id": "VJAwfUcbesFJ"
    },
    {
      "cell_type": "code",
      "execution_count": 23,
      "metadata": {
        "cell_ktag": "rn5CLfwuJLj1",
        "colab": {
          "base_uri": "https://localhost:8080/",
          "height": 429
        },
        "id": "ZxWssX1pesFJ",
        "outputId": "a4600cf6-26c2-413a-cfa2-6833d390bfde"
      },
      "outputs": [
        {
          "output_type": "display_data",
          "data": {
            "text/plain": [
              "<Figure size 640x480 with 1 Axes>"
            ],
            "image/png": "[encoded data removed]"
          },
          "metadata": {}
        }
      ],
      "source": [
        "plot_losses(train_loss_lst,val_loss_lst)"
      ],
      "id": "ZxWssX1pesFJ"
    },
    {
      "cell_type": "code",
      "source": [
        "from google.colab import drive\n",
        "drive.mount('/content/drive')"
      ],
      "metadata": {
        "colab": {
          "base_uri": "https://localhost:8080/"
        },
        "id": "3W2VgoP0ds7e",
        "outputId": "8d903b94-cfe8-4aba-ec06-8ec7ecbffccb"
      },
      "id": "3W2VgoP0ds7e",
      "execution_count": 24,
      "outputs": [
        {
          "output_type": "stream",
          "name": "stdout",
          "text": [
            "Drive already mounted at /content/drive; to attempt to forcibly remount, call drive.mount(\"/content/drive\", force_remount=True).\n"
          ]
        }
      ]
    },
    {
      "cell_type": "code",
      "execution_count": 25,
      "metadata": {
        "cell_ktag": "rn5CLfwuJLj1",
        "id": "P7vqv14YesFK"
      },
      "outputs": [],
      "source": [
        "# save the model\n",
        "path1 = '/content/drive/My Drive/full_model.pth'\n",
        "torch.save(net,path1)\n",
        "\n",
        "path2 = '/content/drive/My Drive/state_dict_model.pth'\n",
        "# Save the state dictionary\n",
        "torch.save(net.state_dict(), path2)"
      ],
      "id": "P7vqv14YesFK"
    },
    {
      "cell_type": "markdown",
      "metadata": {
        "cell_ktag": "rn5CLfwuJLj1",
        "id": "34F1w1qyesFK"
      },
      "source": [
        "# Otherwise load an already pre-trained model\n",
        "Either the one you have created above, either the one already available at https://www.lri.fr/~gcharpia/deeppractice/2024/TP4/models/\n"
      ],
      "id": "34F1w1qyesFK"
    },
    {
      "cell_type": "code",
      "execution_count": 26,
      "metadata": {
        "cell_ktag": "rn5CLfwuJLj1",
        "id": "G8asQjYgesFK"
      },
      "outputs": [],
      "source": [
        "net=torch.load(path1).to(device)"
      ],
      "id": "G8asQjYgesFK"
    },
    {
      "cell_type": "markdown",
      "metadata": {
        "cell_ktag": "rn5CLfwuJLj1",
        "id": "isN0_A0nesFL"
      },
      "source": [
        "# Count the number of weights & compare it with parameters added by LoRA"
      ],
      "id": "isN0_A0nesFL"
    },
    {
      "cell_type": "code",
      "execution_count": 27,
      "metadata": {
        "cell_ktag": "rn5CLfwuJLj1",
        "id": "nH8SaDcPesFL"
      },
      "outputs": [],
      "source": [
        "original_weights = {}\n",
        "for name, param in net.named_parameters():\n",
        "    original_weights[name] = param.clone().detach()"
      ],
      "id": "nH8SaDcPesFL"
    },
    {
      "cell_type": "code",
      "execution_count": 28,
      "metadata": {
        "cell_ktag": "rn5CLfwuJLj1",
        "colab": {
          "base_uri": "https://localhost:8080/"
        },
        "id": "j12dFtq0esFL",
        "outputId": "2a3f5997-895e-47d8-f225-f7204870954d"
      },
      "outputs": [
        {
          "output_type": "stream",
          "name": "stdout",
          "text": [
            "Layer 1: W: torch.Size([1000, 784]) + B: torch.Size([1000])\n",
            "Layer 2: W: torch.Size([2000, 1000]) + B: torch.Size([2000])\n",
            "Layer 3: W: torch.Size([5, 2000]) + B: torch.Size([5])\n",
            "Total number of parameters: 2,797,005\n"
          ]
        }
      ],
      "source": [
        "# Print the size of the weights matrices of the network\n",
        "# Save the count of the total number of parameters\n",
        "net.eval()\n",
        "total_parameters_original = 0\n",
        "for index, layer in enumerate([net.linear1, net.linear2, net.linear3]):\n",
        "    total_parameters_original += layer.weight.nelement() + layer.bias.nelement()\n",
        "    print(f'Layer {index+1}: W: {layer.weight.shape} + B: {layer.bias.shape}')\n",
        "print(f'Total number of parameters: {total_parameters_original:,}')\n"
      ],
      "id": "j12dFtq0esFL"
    },
    {
      "cell_type": "markdown",
      "metadata": {
        "cell_ktag": "rn5CLfwuJLj1",
        "id": "1WCkHwLoesFL"
      },
      "source": [
        "# Test the model on digits 0...4"
      ],
      "id": "1WCkHwLoesFL"
    },
    {
      "cell_type": "code",
      "execution_count": 29,
      "metadata": {
        "cell_ktag": "rn5CLfwuJLj1",
        "colab": {
          "base_uri": "https://localhost:8080/"
        },
        "id": "JTbX0EWResFL",
        "outputId": "44e84e76-12fa-462d-ddcf-ba382d418165"
      },
      "outputs": [
        {
          "output_type": "stream",
          "name": "stderr",
          "text": [
            "Testing: 100%|██████████| 41/41 [00:01<00:00, 29.60it/s]"
          ]
        },
        {
          "output_type": "stream",
          "name": "stdout",
          "text": [
            "Accuracy: 0.992\n",
            "Wrong counts for the digit 0: 4\n",
            "Wrong counts for the digit 1: 9\n",
            "Wrong counts for the digit 2: 18\n",
            "Wrong counts for the digit 3: 6\n",
            "Wrong counts for the digit 4: 5\n"
          ]
        },
        {
          "output_type": "stream",
          "name": "stderr",
          "text": [
            "\n"
          ]
        },
        {
          "output_type": "execute_result",
          "data": {
            "text/plain": [
              "0.992"
            ]
          },
          "metadata": {},
          "execution_count": 29
        }
      ],
      "source": [
        "def test(loader, name, net, wrong_counts):\n",
        "    correct = 0\n",
        "    total = 0\n",
        "\n",
        "    net.eval()\n",
        "    with torch.no_grad():\n",
        "        for data in tqdm(loader, desc=name):\n",
        "            x, y = data\n",
        "            x = x.to(device)\n",
        "            y = y.to(device)\n",
        "            y = process_labels(name, y)\n",
        "            output = net(x.view(-1, 784))\n",
        "            for idx, i in enumerate(output):\n",
        "                if torch.argmax(i) == y[idx]:\n",
        "                    correct += 1\n",
        "                else:\n",
        "                    wrong_digit = y[idx].item() + 5 if 'subset2' in name else y[idx].item()\n",
        "                    wrong_counts[wrong_digit] += 1\n",
        "\n",
        "                total += 1\n",
        "\n",
        "    accuracy = round(correct / total, 3)\n",
        "    print(f'Accuracy: {accuracy}')\n",
        "    for key, value in wrong_counts.items():\n",
        "        print(f'Wrong counts for the digit {key}: {value}')\n",
        "\n",
        "    return accuracy\n",
        "\n",
        "test(test_loader, \"Testing\", net, {i: 0 for i in range(5)})\n"
      ],
      "id": "JTbX0EWResFL"
    },
    {
      "cell_type": "markdown",
      "metadata": {
        "cell_ktag": "rn5CLfwuJLj1",
        "id": "GNjOHXUxesFL"
      },
      "source": [
        "# Define train, validation, test sets for digits 5...9"
      ],
      "id": "GNjOHXUxesFL"
    },
    {
      "cell_type": "markdown",
      "metadata": {
        "cell_ktag": "rn5CLfwuJLj1",
        "id": "1iGUQA2VesFL"
      },
      "source": [
        "__Question 1 (0.25 points) :__"
      ],
      "id": "1iGUQA2VesFL"
    },
    {
      "cell_type": "code",
      "execution_count": 30,
      "metadata": {
        "cell_ktag": "rn5CLfwuJLj1",
        "id": "HRw3ruAUesFM"
      },
      "outputs": [],
      "source": [
        "#same code as before except for the mask\n",
        "\n",
        "# create a mask to filter indices for each label, retrieve digits 5...9\n",
        "#######\n",
        "#TO-DO#\n",
        "\n",
        "# keep images of desired labels\n",
        "class_names_subset2 = [5, 6, 7, 8, 9]\n",
        "\n",
        "# create a mask to filter indices for each label\n",
        "train_mask_subset2 = torch.tensor([label in class_names_subset2 for label in mnist_train.targets])\n",
        "test_mask_subset2 = torch.tensor([label in class_names_subset2 for label in mnist_test.targets])\n",
        "\n",
        "#######\n",
        "\n",
        "# Create Subset datasets for train, validation, and test\n",
        "train_dataset_subset2 = Subset(mnist_train, torch.where(train_mask_subset2)[0])\n",
        "test_dataset_subset2 = Subset(mnist_test, torch.where(test_mask_subset2)[0])\n",
        "\n",
        "# split train into train & validation\n",
        "train_size_subset2 = int(0.7 * len(train_dataset_subset2))\n",
        "val_size_subset2 = len(train_dataset_subset2) - train_size_subset2\n",
        "train_dataset_subset2, val_dataset_subset2 = random_split(train_dataset_subset2, [train_size_subset2, val_size_subset2])\n",
        "\n",
        "train_loader_subset2 = DataLoader(train_dataset_subset2, batch_size=batch_size, shuffle=True)\n",
        "val_loader_subset2 = DataLoader(val_dataset_subset2, batch_size=batch_size, shuffle=False)\n",
        "test_loader_subset2 = DataLoader(test_dataset_subset2, batch_size=batch_size, shuffle=False)\n"
      ],
      "id": "HRw3ruAUesFM"
    },
    {
      "cell_type": "markdown",
      "metadata": {
        "cell_ktag": "rn5CLfwuJLj1",
        "id": "5FD0RwfResFM"
      },
      "source": [
        "# Verify that pre-trained model on digits 0...4 is bad on digits 5...9"
      ],
      "id": "5FD0RwfResFM"
    },
    {
      "cell_type": "markdown",
      "metadata": {
        "cell_ktag": "rn5CLfwuJLj1",
        "id": "XQP1u8J5esFM"
      },
      "source": [
        "__Question 2 (0.25 points) :__"
      ],
      "id": "XQP1u8J5esFM"
    },
    {
      "cell_type": "markdown",
      "metadata": {
        "cell_ktag": "rn5CLfwuJLj1",
        "id": "ZxcgBvO2esFM"
      },
      "source": [
        "You should display the number of wrong predictions for each digits & global accuracy. \\\n",
        "Note that it's better than random guess ($\\frac{1}{5}\\times 100= $20%) for digit 8 and 9 because 3 looks like 8 and 4 looks like 9\n"
      ],
      "id": "ZxcgBvO2esFM"
    },
    {
      "cell_type": "code",
      "execution_count": 31,
      "metadata": {
        "cell_ktag": "rn5CLfwuJLj1",
        "colab": {
          "base_uri": "https://localhost:8080/"
        },
        "id": "2HdEhwP4esFM",
        "outputId": "7e528df5-c320-4b08-add3-42fd14cfe929"
      },
      "outputs": [
        {
          "output_type": "stream",
          "name": "stderr",
          "text": [
            "subset2: 100%|██████████| 38/38 [00:01<00:00, 28.45it/s]"
          ]
        },
        {
          "output_type": "stream",
          "name": "stdout",
          "text": [
            "Accuracy: 0.413\n",
            "Wrong counts for the digit 5: 772\n",
            "Wrong counts for the digit 6: 952\n",
            "Wrong counts for the digit 7: 600\n",
            "Wrong counts for the digit 8: 454\n",
            "Wrong counts for the digit 9: 77\n"
          ]
        },
        {
          "output_type": "stream",
          "name": "stderr",
          "text": [
            "\n"
          ]
        },
        {
          "output_type": "execute_result",
          "data": {
            "text/plain": [
              "0.413"
            ]
          },
          "metadata": {},
          "execution_count": 31
        }
      ],
      "source": [
        "#######\n",
        "#TO-DO#\n",
        "\n",
        "test(test_loader_subset2, \"subset2\", net, {i: 0 for i in range(5, 10)})\n",
        "\n",
        "#######"
      ],
      "id": "2HdEhwP4esFM"
    },
    {
      "cell_type": "markdown",
      "metadata": {
        "cell_ktag": "rn5CLfwuJLj1",
        "id": "mrS6C5EhesFM"
      },
      "source": [
        "# Fine-tune the model on digits 5...9"
      ],
      "id": "mrS6C5EhesFM"
    },
    {
      "cell_type": "markdown",
      "metadata": {
        "cell_ktag": "rn5CLfwuJLj1",
        "id": "7utK9lTHesFM"
      },
      "source": [
        "__Question 3 (0.5 points) :__"
      ],
      "id": "7utK9lTHesFM"
    },
    {
      "cell_type": "markdown",
      "metadata": {
        "cell_ktag": "rn5CLfwuJLj1",
        "id": "6f6P2qOzesFM"
      },
      "source": [
        "You will fine-tune all the layers of the model (ie. all parameters of all fully-connected matrices) for 10 epochs"
      ],
      "id": "6f6P2qOzesFM"
    },
    {
      "cell_type": "code",
      "execution_count": 32,
      "metadata": {
        "cell_ktag": "rn5CLfwuJLj1",
        "colab": {
          "base_uri": "https://localhost:8080/"
        },
        "id": "l1LK01lIesFM",
        "outputId": "f9ed0195-97b8-4ed8-a404-646ca21cebac"
      },
      "outputs": [
        {
          "output_type": "stream",
          "name": "stderr",
          "text": [
            "Training: 100%|██████████| 161/161 [00:05<00:00, 28.84it/s, loss=6.43]\n"
          ]
        },
        {
          "output_type": "stream",
          "name": "stdout",
          "text": [
            "Epoch [1/10] Train Loss: 6.427864995802412\n"
          ]
        },
        {
          "output_type": "stream",
          "name": "stderr",
          "text": [
            "Validation: 100%|██████████| 69/69 [00:02<00:00, 32.28it/s, loss=4.81]\n"
          ]
        },
        {
          "output_type": "stream",
          "name": "stdout",
          "text": [
            "Epoch [1/10] Validation Loss: 4.809982576232025\n"
          ]
        },
        {
          "output_type": "stream",
          "name": "stderr",
          "text": [
            "Training: 100%|██████████| 161/161 [00:05<00:00, 27.41it/s, loss=4.18]\n"
          ]
        },
        {
          "output_type": "stream",
          "name": "stdout",
          "text": [
            "Epoch [2/10] Train Loss: 4.18086616445032\n"
          ]
        },
        {
          "output_type": "stream",
          "name": "stderr",
          "text": [
            "Validation: 100%|██████████| 69/69 [00:02<00:00, 29.34it/s, loss=2.77]\n"
          ]
        },
        {
          "output_type": "stream",
          "name": "stdout",
          "text": [
            "Epoch [2/10] Validation Loss: 2.7743394461230957\n"
          ]
        },
        {
          "output_type": "stream",
          "name": "stderr",
          "text": [
            "Training: 100%|██████████| 161/161 [00:05<00:00, 30.72it/s, loss=2.51]\n"
          ]
        },
        {
          "output_type": "stream",
          "name": "stdout",
          "text": [
            "Epoch [3/10] Train Loss: 2.5101648013784277\n"
          ]
        },
        {
          "output_type": "stream",
          "name": "stderr",
          "text": [
            "Validation: 100%|██████████| 69/69 [00:02<00:00, 32.59it/s, loss=1.58]\n"
          ]
        },
        {
          "output_type": "stream",
          "name": "stdout",
          "text": [
            "Epoch [3/10] Validation Loss: 1.5771643813105598\n"
          ]
        },
        {
          "output_type": "stream",
          "name": "stderr",
          "text": [
            "Training: 100%|██████████| 161/161 [00:06<00:00, 26.83it/s, loss=1.59]\n"
          ]
        },
        {
          "output_type": "stream",
          "name": "stdout",
          "text": [
            "Epoch [4/10] Train Loss: 1.5866312443839838\n"
          ]
        },
        {
          "output_type": "stream",
          "name": "stderr",
          "text": [
            "Validation: 100%|██████████| 69/69 [00:02<00:00, 30.21it/s, loss=0.923]\n"
          ]
        },
        {
          "output_type": "stream",
          "name": "stdout",
          "text": [
            "Epoch [4/10] Validation Loss: 0.9234499970208043\n"
          ]
        },
        {
          "output_type": "stream",
          "name": "stderr",
          "text": [
            "Training: 100%|██████████| 161/161 [00:06<00:00, 26.43it/s, loss=1.03]\n"
          ]
        },
        {
          "output_type": "stream",
          "name": "stdout",
          "text": [
            "Epoch [5/10] Train Loss: 1.03356653340855\n"
          ]
        },
        {
          "output_type": "stream",
          "name": "stderr",
          "text": [
            "Validation: 100%|██████████| 69/69 [00:02<00:00, 24.98it/s, loss=0.599]\n"
          ]
        },
        {
          "output_type": "stream",
          "name": "stdout",
          "text": [
            "Epoch [5/10] Validation Loss: 0.5987676256808682\n"
          ]
        },
        {
          "output_type": "stream",
          "name": "stderr",
          "text": [
            "Training: 100%|██████████| 161/161 [00:04<00:00, 32.85it/s, loss=0.74]\n"
          ]
        },
        {
          "output_type": "stream",
          "name": "stdout",
          "text": [
            "Epoch [6/10] Train Loss: 0.7404504834865191\n"
          ]
        },
        {
          "output_type": "stream",
          "name": "stderr",
          "text": [
            "Validation: 100%|██████████| 69/69 [00:01<00:00, 34.61it/s, loss=0.452]\n"
          ]
        },
        {
          "output_type": "stream",
          "name": "stdout",
          "text": [
            "Epoch [6/10] Validation Loss: 0.45245300168576447\n"
          ]
        },
        {
          "output_type": "stream",
          "name": "stderr",
          "text": [
            "Training: 100%|██████████| 161/161 [00:05<00:00, 27.96it/s, loss=0.591]\n"
          ]
        },
        {
          "output_type": "stream",
          "name": "stdout",
          "text": [
            "Epoch [7/10] Train Loss: 0.591060661751291\n"
          ]
        },
        {
          "output_type": "stream",
          "name": "stderr",
          "text": [
            "Validation: 100%|██████████| 69/69 [00:01<00:00, 35.27it/s, loss=0.371]\n"
          ]
        },
        {
          "output_type": "stream",
          "name": "stdout",
          "text": [
            "Epoch [7/10] Validation Loss: 0.3710174664207127\n"
          ]
        },
        {
          "output_type": "stream",
          "name": "stderr",
          "text": [
            "Training: 100%|██████████| 161/161 [00:04<00:00, 32.84it/s, loss=0.511]\n"
          ]
        },
        {
          "output_type": "stream",
          "name": "stdout",
          "text": [
            "Epoch [8/10] Train Loss: 0.510849620151964\n"
          ]
        },
        {
          "output_type": "stream",
          "name": "stderr",
          "text": [
            "Validation: 100%|██████████| 69/69 [00:02<00:00, 34.03it/s, loss=0.318]\n"
          ]
        },
        {
          "output_type": "stream",
          "name": "stdout",
          "text": [
            "Epoch [8/10] Validation Loss: 0.3182447416626889\n"
          ]
        },
        {
          "output_type": "stream",
          "name": "stderr",
          "text": [
            "Training: 100%|██████████| 161/161 [00:05<00:00, 28.08it/s, loss=0.44]\n"
          ]
        },
        {
          "output_type": "stream",
          "name": "stdout",
          "text": [
            "Epoch [9/10] Train Loss: 0.4395721930524577\n"
          ]
        },
        {
          "output_type": "stream",
          "name": "stderr",
          "text": [
            "Validation: 100%|██████████| 69/69 [00:02<00:00, 33.53it/s, loss=0.279]\n"
          ]
        },
        {
          "output_type": "stream",
          "name": "stdout",
          "text": [
            "Epoch [9/10] Validation Loss: 0.2794104589932207\n"
          ]
        },
        {
          "output_type": "stream",
          "name": "stderr",
          "text": [
            "Training: 100%|██████████| 161/161 [00:04<00:00, 32.74it/s, loss=0.385]\n"
          ]
        },
        {
          "output_type": "stream",
          "name": "stdout",
          "text": [
            "Epoch [10/10] Train Loss: 0.3854753666597864\n"
          ]
        },
        {
          "output_type": "stream",
          "name": "stderr",
          "text": [
            "Validation: 100%|██████████| 69/69 [00:02<00:00, 30.07it/s, loss=0.25]"
          ]
        },
        {
          "output_type": "stream",
          "name": "stdout",
          "text": [
            "Epoch [10/10] Validation Loss: 0.2499320079451022\n"
          ]
        },
        {
          "output_type": "stream",
          "name": "stderr",
          "text": [
            "\n"
          ]
        }
      ],
      "source": [
        "#######\n",
        "#TO-DO#\n",
        "\n",
        "train_loss_lst_subset2, val_loss_lst_subset2 = train(train_loader_subset2, val_loader_subset2, \"subset2\", net, epochs=10)\n",
        "\n",
        "#######"
      ],
      "id": "l1LK01lIesFM"
    },
    {
      "cell_type": "code",
      "execution_count": 33,
      "metadata": {
        "cell_ktag": "rn5CLfwuJLj1",
        "colab": {
          "base_uri": "https://localhost:8080/",
          "height": 429
        },
        "id": "1jvutG1besFN",
        "outputId": "a2238870-8a1e-414d-aa64-aaa368b8d06e"
      },
      "outputs": [
        {
          "output_type": "display_data",
          "data": {
            "text/plain": [
              "<Figure size 640x480 with 1 Axes>"
            ],
            "image/png": "[encoded data removed]"
          },
          "metadata": {}
        }
      ],
      "source": [
        "#plot the train and validation losses\n",
        "#######\n",
        "#TO-DO#\n",
        "\n",
        "plot_losses(train_loss_lst_subset2, val_loss_lst_subset2)\n",
        "\n",
        "#######"
      ],
      "id": "1jvutG1besFN"
    },
    {
      "cell_type": "code",
      "execution_count": 34,
      "metadata": {
        "cell_ktag": "rn5CLfwuJLj1",
        "colab": {
          "base_uri": "https://localhost:8080/"
        },
        "id": "AdVGap7WesFN",
        "outputId": "3733bfad-cf06-4906-97e1-3548b789e101"
      },
      "outputs": [
        {
          "output_type": "stream",
          "name": "stderr",
          "text": [
            "subset2: 100%|██████████| 38/38 [00:01<00:00, 31.96it/s]"
          ]
        },
        {
          "output_type": "stream",
          "name": "stdout",
          "text": [
            "Accuracy: 0.93\n",
            "Wrong counts for the digit 5: 85\n",
            "Wrong counts for the digit 6: 32\n",
            "Wrong counts for the digit 7: 67\n",
            "Wrong counts for the digit 8: 91\n",
            "Wrong counts for the digit 9: 66\n"
          ]
        },
        {
          "output_type": "stream",
          "name": "stderr",
          "text": [
            "\n"
          ]
        }
      ],
      "source": [
        "#test accuracy of fine-tuned model on digits 5...9\n",
        "# & save this number into a variable, we will need it for final plot\n",
        "\n",
        "#######\n",
        "#TO-DO#\n",
        "\n",
        "accuracy_subset2 = test(test_loader_subset2, \"subset2\", net, {i: 0 for i in range(5, 10)})\n",
        "\n",
        "#######"
      ],
      "id": "AdVGap7WesFN"
    },
    {
      "cell_type": "markdown",
      "metadata": {
        "cell_ktag": "rn5CLfwuJLj1",
        "id": "JiNmjTYUesFN"
      },
      "source": [
        "# Fine-tune the model on digits 5...9 with LoRA"
      ],
      "id": "JiNmjTYUesFN"
    },
    {
      "cell_type": "markdown",
      "metadata": {
        "cell_ktag": "rn5CLfwuJLj1",
        "id": "39snCMRResFN"
      },
      "source": [
        "__Question 4 (2.5 points) :__"
      ],
      "id": "39snCMRResFN"
    },
    {
      "cell_type": "markdown",
      "metadata": {
        "cell_ktag": "rn5CLfwuJLj1",
        "id": "09HG7I2uesFN"
      },
      "source": [
        "You will now implement one LoRA per layer"
      ],
      "id": "09HG7I2uesFN"
    },
    {
      "cell_type": "code",
      "execution_count": 47,
      "metadata": {
        "cell_ktag": "rn5CLfwuJLj1",
        "id": "OkyycUFDesFN"
      },
      "outputs": [],
      "source": [
        "class ModifiedClassifier(nn.Module):\n",
        "    def __init__(self, lora_rank):\n",
        "        super(ModifiedClassifier, self).__init__()\n",
        "\n",
        "        # Load the pretrained model\n",
        "        self.pretrained_net = classifier().to(device)\n",
        "        self.pretrained_net.load_state_dict(torch.load(path2))\n",
        "\n",
        "        self.relu = nn.ReLU()\n",
        "\n",
        "        self.dropout = nn.Dropout(0.5)\n",
        "\n",
        "        # Define lora hyperparameters\n",
        "        #######\n",
        "        #TO-DO#\n",
        "\n",
        "        self.lora_rank = lora_rank\n",
        "        self.alpha = 64\n",
        "        self.hidden_size1 = 1000\n",
        "        self.hidden_size2 = 2000\n",
        "\n",
        "        #######\n",
        "\n",
        "        # Define lora weights matrices for each layer in pretrained model\n",
        "        #######\n",
        "        #TO-DO#\n",
        "\n",
        "        self.l1_lora_A = nn.Parameter(torch.empty(self.lora_rank, 28*28))\n",
        "        self.l1_lora_B = nn.Parameter(torch.empty(self.hidden_size1, self.lora_rank))\n",
        "\n",
        "        self.l2_lora_A = nn.Parameter(torch.empty(self.lora_rank, self.hidden_size1))\n",
        "        self.l2_lora_B = nn.Parameter(torch.empty(self.hidden_size2, self.lora_rank))\n",
        "\n",
        "        self.l3_lora_A = nn.Parameter(torch.empty(self.lora_rank, self.hidden_size2))\n",
        "        self.l3_lora_B = nn.Parameter(torch.empty(5, self.lora_rank))\n",
        "\n",
        "        #######\n",
        "\n",
        "        # Initialization for lora layers\n",
        "        #######\n",
        "        #TO-DO#\n",
        "\n",
        "        nn.init.normal_(self.l1_lora_A)\n",
        "        nn.init.zeros_(self.l1_lora_B)\n",
        "\n",
        "        nn.init.normal_(self.l2_lora_A)\n",
        "        nn.init.zeros_(self.l2_lora_B)\n",
        "\n",
        "        nn.init.normal_(self.l3_lora_A)\n",
        "        nn.init.zeros_(self.l3_lora_B)\n",
        "\n",
        "        #######\n",
        "\n",
        "        # freeze non lora weights\n",
        "        #######\n",
        "        #TO-DO#\n",
        "\n",
        "        for name, param in self.pretrained_net.named_parameters():\n",
        "          param.requires_grad = False\n",
        "\n",
        "        #######\n",
        "\n",
        "    def lora_linear(self, x, layer, lora_A, lora_B):\n",
        "        #Implement formula (3) in arxiv.org/pdf/2106.09685.pdf\n",
        "        h = layer(x) + (lora_B @ lora_A @ x.T).T * (self.alpha / self.lora_rank)\n",
        "        return h\n",
        "\n",
        "\n",
        "    def forward(self, input):\n",
        "        x = input.view(-1, 28*28)\n",
        "\n",
        "        # layer 1 (input size, hidden size)\n",
        "        x = self.lora_linear(x, self.pretrained_net.linear1, self.l1_lora_A, self.l1_lora_B)\n",
        "        x = self.relu(x)\n",
        "        x = self.dropout(x)\n",
        "\n",
        "        #complete the remaining code (layer 2 and 3)\n",
        "        #######\n",
        "        #TO-DO#\n",
        "\n",
        "        # layer 2 (hidden size 1, hidden size 2)\n",
        "        x = self.lora_linear(x, self.pretrained_net.linear2, self.l2_lora_A, self.l2_lora_B)\n",
        "        x = self.relu(x)\n",
        "        x = self.dropout(x)\n",
        "\n",
        "        # layer 3 (hidden size 2, output size)\n",
        "        x = self.lora_linear(x, self.pretrained_net.linear3, self.l3_lora_A, self.l3_lora_B)\n",
        "\n",
        "        #######\n",
        "\n",
        "        return x\n",
        "\n",
        "\n",
        "lora_rank=1\n",
        "# Create an instance of the modified network\n",
        "modified_net = ModifiedClassifier(lora_rank).to(device)\n"
      ],
      "id": "OkyycUFDesFN"
    },
    {
      "cell_type": "markdown",
      "metadata": {
        "cell_ktag": "rn5CLfwuJLj1",
        "id": "tUboe4V2esFN"
      },
      "source": [
        "Make a function that counts the number of parameters introduced by lora ( use the function torch.numel() )"
      ],
      "id": "tUboe4V2esFN"
    },
    {
      "cell_type": "code",
      "execution_count": 48,
      "metadata": {
        "cell_ktag": "rn5CLfwuJLj1",
        "colab": {
          "base_uri": "https://localhost:8080/"
        },
        "id": "cicihPt4esFN",
        "outputId": "25e77292-cd44-4c24-f9b3-7a6a109a51b9"
      },
      "outputs": [
        {
          "output_type": "stream",
          "name": "stdout",
          "text": [
            "LoRA Layer l1_lora_A: 784\n",
            "LoRA Layer l1_lora_B: 1000\n",
            "LoRA Layer l2_lora_A: 1000\n",
            "LoRA Layer l2_lora_B: 2000\n",
            "LoRA Layer l3_lora_A: 2000\n",
            "LoRA Layer l3_lora_B: 5\n",
            "Total number of parameters: 6,789\n"
          ]
        },
        {
          "output_type": "execute_result",
          "data": {
            "text/plain": [
              "6789"
            ]
          },
          "metadata": {},
          "execution_count": 48
        }
      ],
      "source": [
        "# Count the parameters introduced by lora layers\n",
        "#######\n",
        "#TO-DO#\n",
        "\n",
        "def CountLoraLayerParameters(net):\n",
        "  net.eval()\n",
        "  total_lora_parameters = 0\n",
        "  for name, param in net.named_parameters():\n",
        "    if 'lora' in name:\n",
        "      total_lora_parameters += torch.numel(param)\n",
        "      print(f'LoRA Layer {name}: {torch.numel(param)}')\n",
        "  print(f'Total number of parameters: {total_lora_parameters:,}')\n",
        "\n",
        "  return total_lora_parameters\n",
        "\n",
        "CountLoraLayerParameters(modified_net)\n",
        "\n",
        "#######"
      ],
      "id": "cicihPt4esFN"
    },
    {
      "cell_type": "markdown",
      "metadata": {
        "cell_ktag": "rn5CLfwuJLj1",
        "id": "yj7h993pesFO"
      },
      "source": [
        "# Fine-Tune using LoRA of rank 1"
      ],
      "id": "yj7h993pesFO"
    },
    {
      "cell_type": "markdown",
      "metadata": {
        "cell_ktag": "rn5CLfwuJLj1",
        "id": "cDg-1MNeesFO"
      },
      "source": [
        "__Question 5 (0.5 points) :__"
      ],
      "id": "cDg-1MNeesFO"
    },
    {
      "cell_type": "code",
      "execution_count": 49,
      "metadata": {
        "cell_ktag": "rn5CLfwuJLj1",
        "colab": {
          "base_uri": "https://localhost:8080/"
        },
        "id": "1xapjdhtesFO",
        "outputId": "8634449f-d0a2-489b-be3c-413044b5e298"
      },
      "outputs": [
        {
          "output_type": "stream",
          "name": "stderr",
          "text": [
            "Training: 100%|██████████| 161/161 [00:06<00:00, 25.09it/s, loss=4.53]\n"
          ]
        },
        {
          "output_type": "stream",
          "name": "stdout",
          "text": [
            "Epoch [1/10] Train Loss: 4.533475413085511\n"
          ]
        },
        {
          "output_type": "stream",
          "name": "stderr",
          "text": [
            "Validation: 100%|██████████| 69/69 [00:02<00:00, 30.12it/s, loss=1.89]\n"
          ]
        },
        {
          "output_type": "stream",
          "name": "stdout",
          "text": [
            "Epoch [1/10] Validation Loss: 1.8858754185662754\n"
          ]
        },
        {
          "output_type": "stream",
          "name": "stderr",
          "text": [
            "Training: 100%|██████████| 161/161 [00:05<00:00, 29.41it/s, loss=2.33]\n"
          ]
        },
        {
          "output_type": "stream",
          "name": "stdout",
          "text": [
            "Epoch [2/10] Train Loss: 2.3347342480783877\n"
          ]
        },
        {
          "output_type": "stream",
          "name": "stderr",
          "text": [
            "Validation: 100%|██████████| 69/69 [00:02<00:00, 27.41it/s, loss=1.22]\n"
          ]
        },
        {
          "output_type": "stream",
          "name": "stdout",
          "text": [
            "Epoch [2/10] Validation Loss: 1.2179256677627563\n"
          ]
        },
        {
          "output_type": "stream",
          "name": "stderr",
          "text": [
            "Training: 100%|██████████| 161/161 [00:06<00:00, 26.66it/s, loss=1.75]\n"
          ]
        },
        {
          "output_type": "stream",
          "name": "stdout",
          "text": [
            "Epoch [3/10] Train Loss: 1.7482229337929198\n"
          ]
        },
        {
          "output_type": "stream",
          "name": "stderr",
          "text": [
            "Validation: 100%|██████████| 69/69 [00:02<00:00, 31.51it/s, loss=0.999]\n"
          ]
        },
        {
          "output_type": "stream",
          "name": "stdout",
          "text": [
            "Epoch [3/10] Validation Loss: 0.998968243598938\n"
          ]
        },
        {
          "output_type": "stream",
          "name": "stderr",
          "text": [
            "Training: 100%|██████████| 161/161 [00:05<00:00, 27.02it/s, loss=1.52]\n"
          ]
        },
        {
          "output_type": "stream",
          "name": "stdout",
          "text": [
            "Epoch [4/10] Train Loss: 1.520773256417387\n"
          ]
        },
        {
          "output_type": "stream",
          "name": "stderr",
          "text": [
            "Validation: 100%|██████████| 69/69 [00:02<00:00, 29.26it/s, loss=0.902]\n"
          ]
        },
        {
          "output_type": "stream",
          "name": "stdout",
          "text": [
            "Epoch [4/10] Validation Loss: 0.9020550406497457\n"
          ]
        },
        {
          "output_type": "stream",
          "name": "stderr",
          "text": [
            "Training: 100%|██████████| 161/161 [00:04<00:00, 32.21it/s, loss=1.33]\n"
          ]
        },
        {
          "output_type": "stream",
          "name": "stdout",
          "text": [
            "Epoch [5/10] Train Loss: 1.328092368493169\n"
          ]
        },
        {
          "output_type": "stream",
          "name": "stderr",
          "text": [
            "Validation: 100%|██████████| 69/69 [00:02<00:00, 30.71it/s, loss=0.845]\n"
          ]
        },
        {
          "output_type": "stream",
          "name": "stdout",
          "text": [
            "Epoch [5/10] Validation Loss: 0.8454574692076531\n"
          ]
        },
        {
          "output_type": "stream",
          "name": "stderr",
          "text": [
            "Training: 100%|██████████| 161/161 [00:06<00:00, 25.49it/s, loss=1.26]\n"
          ]
        },
        {
          "output_type": "stream",
          "name": "stdout",
          "text": [
            "Epoch [6/10] Train Loss: 1.2648116753708503\n"
          ]
        },
        {
          "output_type": "stream",
          "name": "stderr",
          "text": [
            "Validation: 100%|██████████| 69/69 [00:02<00:00, 31.87it/s, loss=0.809]\n"
          ]
        },
        {
          "output_type": "stream",
          "name": "stdout",
          "text": [
            "Epoch [6/10] Validation Loss: 0.8089479264141857\n"
          ]
        },
        {
          "output_type": "stream",
          "name": "stderr",
          "text": [
            "Training: 100%|██████████| 161/161 [00:05<00:00, 29.46it/s, loss=1.17]\n"
          ]
        },
        {
          "output_type": "stream",
          "name": "stdout",
          "text": [
            "Epoch [7/10] Train Loss: 1.1693926020438627\n"
          ]
        },
        {
          "output_type": "stream",
          "name": "stderr",
          "text": [
            "Validation: 100%|██████████| 69/69 [00:02<00:00, 23.14it/s, loss=0.768]\n"
          ]
        },
        {
          "output_type": "stream",
          "name": "stdout",
          "text": [
            "Epoch [7/10] Validation Loss: 0.7675780472548112\n"
          ]
        },
        {
          "output_type": "stream",
          "name": "stderr",
          "text": [
            "Training: 100%|██████████| 161/161 [00:05<00:00, 29.15it/s, loss=1.16]\n"
          ]
        },
        {
          "output_type": "stream",
          "name": "stdout",
          "text": [
            "Epoch [8/10] Train Loss: 1.155664432863271\n"
          ]
        },
        {
          "output_type": "stream",
          "name": "stderr",
          "text": [
            "Validation: 100%|██████████| 69/69 [00:02<00:00, 31.86it/s, loss=0.746]\n"
          ]
        },
        {
          "output_type": "stream",
          "name": "stdout",
          "text": [
            "Epoch [8/10] Validation Loss: 0.746287734180257\n"
          ]
        },
        {
          "output_type": "stream",
          "name": "stderr",
          "text": [
            "Training: 100%|██████████| 161/161 [00:06<00:00, 24.75it/s, loss=1.12]\n"
          ]
        },
        {
          "output_type": "stream",
          "name": "stdout",
          "text": [
            "Epoch [9/10] Train Loss: 1.1157777923974932\n"
          ]
        },
        {
          "output_type": "stream",
          "name": "stderr",
          "text": [
            "Validation: 100%|██████████| 69/69 [00:02<00:00, 30.98it/s, loss=0.725]\n"
          ]
        },
        {
          "output_type": "stream",
          "name": "stdout",
          "text": [
            "Epoch [9/10] Validation Loss: 0.7247126521407694\n"
          ]
        },
        {
          "output_type": "stream",
          "name": "stderr",
          "text": [
            "Training: 100%|██████████| 161/161 [00:05<00:00, 30.32it/s, loss=1.09]\n"
          ]
        },
        {
          "output_type": "stream",
          "name": "stdout",
          "text": [
            "Epoch [10/10] Train Loss: 1.0934413086553538\n"
          ]
        },
        {
          "output_type": "stream",
          "name": "stderr",
          "text": [
            "Validation: 100%|██████████| 69/69 [00:02<00:00, 30.12it/s, loss=0.714]"
          ]
        },
        {
          "output_type": "stream",
          "name": "stdout",
          "text": [
            "Epoch [10/10] Validation Loss: 0.7137466543826504\n"
          ]
        },
        {
          "output_type": "stream",
          "name": "stderr",
          "text": [
            "\n"
          ]
        }
      ],
      "source": [
        "#Fine tune this new model with loras of rank 1, on MNIST 5...9\n",
        "#######\n",
        "#TO-DO#\n",
        "\n",
        "train_loss_lst_lora, val_loss_lst_lora = train(train_loader_subset2, val_loader_subset2, \"subset2\", modified_net, epochs=10)\n",
        "\n",
        "#######"
      ],
      "id": "1xapjdhtesFO"
    },
    {
      "cell_type": "code",
      "execution_count": 50,
      "metadata": {
        "cell_ktag": "rn5CLfwuJLj1",
        "colab": {
          "base_uri": "https://localhost:8080/"
        },
        "id": "f9vnQrlWesFO",
        "outputId": "ca0cf5cc-cbe6-41ad-8f8e-83fa0c15a3b6"
      },
      "outputs": [
        {
          "output_type": "stream",
          "name": "stdout",
          "text": [
            "Frozen parameters are unchanged.\n"
          ]
        }
      ],
      "source": [
        "# Check that the frozen parameters are still unchanged by the finetuning\n",
        "# Remember the dictionary \"original_weights\"\n",
        "#######\n",
        "#TO-DO#\n",
        "\n",
        "for name, param in modified_net.pretrained_net.named_parameters():\n",
        "    assert torch.equal(original_weights[name], param), \"Weights have changed for frozen parameter\"\n",
        "print(\"Frozen parameters are unchanged.\")\n",
        "\n",
        "#######"
      ],
      "id": "f9vnQrlWesFO"
    },
    {
      "cell_type": "code",
      "execution_count": 51,
      "metadata": {
        "cell_ktag": "rn5CLfwuJLj1",
        "colab": {
          "base_uri": "https://localhost:8080/",
          "height": 429
        },
        "id": "FxkpNP9xesFO",
        "outputId": "36b75ece-6642-4510-cb2e-88b2ce026300"
      },
      "outputs": [
        {
          "output_type": "display_data",
          "data": {
            "text/plain": [
              "<Figure size 640x480 with 1 Axes>"
            ],
            "image/png": "[encoded data removed]"
          },
          "metadata": {}
        }
      ],
      "source": [
        "#plot losses\n",
        "#######\n",
        "#TO-DO#\n",
        "\n",
        "plot_losses(train_loss_lst_lora, val_loss_lst_lora)\n",
        "\n",
        "#######"
      ],
      "id": "FxkpNP9xesFO"
    },
    {
      "cell_type": "code",
      "execution_count": 52,
      "metadata": {
        "cell_ktag": "rn5CLfwuJLj1",
        "colab": {
          "base_uri": "https://localhost:8080/"
        },
        "id": "wZp4KHQpesFO",
        "outputId": "69e805be-7753-4770-aac0-949e8804158b"
      },
      "outputs": [
        {
          "output_type": "stream",
          "name": "stderr",
          "text": [
            "subset2: 100%|██████████| 38/38 [00:01<00:00, 27.72it/s]"
          ]
        },
        {
          "output_type": "stream",
          "name": "stdout",
          "text": [
            "Accuracy: 0.809\n",
            "Wrong counts for the digit 5: 216\n",
            "Wrong counts for the digit 6: 169\n",
            "Wrong counts for the digit 7: 209\n",
            "Wrong counts for the digit 8: 239\n",
            "Wrong counts for the digit 9: 97\n"
          ]
        },
        {
          "output_type": "stream",
          "name": "stderr",
          "text": [
            "\n"
          ]
        }
      ],
      "source": [
        "#Compute test accuracy on MNIST 5...9 for that lora rank\n",
        "#######\n",
        "#TO-DO#\n",
        "\n",
        "accuracy_lora = test(test_loader_subset2, \"subset2\", modified_net, {i: 0 for i in range(5, 10)})\n",
        "\n",
        "#######"
      ],
      "id": "wZp4KHQpesFO"
    },
    {
      "cell_type": "markdown",
      "metadata": {
        "cell_ktag": "rn5CLfwuJLj1",
        "id": "hZvPHr_nesFO"
      },
      "source": [
        "# Try different LoRA rank"
      ],
      "id": "hZvPHr_nesFO"
    },
    {
      "cell_type": "markdown",
      "metadata": {
        "cell_ktag": "rn5CLfwuJLj1",
        "id": "Iptbhb86esFO"
      },
      "source": [
        "__Question 6 (4 points) :__"
      ],
      "id": "Iptbhb86esFO"
    },
    {
      "cell_type": "markdown",
      "metadata": {
        "cell_ktag": "rn5CLfwuJLj1",
        "id": "d2OAy51GesFP"
      },
      "source": [
        "Fine-tune the pre-trained model using different lora ranks [1,2,4,8,16,32,64], evaluate it on the test set\n",
        "and store the number of parameters added\n",
        "\n",
        "Make a plot showing the test accuracy as a function of lora rank. \\\n",
        "Compare it to the test accuracy of the pre-trained model fine-tuned in the usual way on MNIST 5...9\n",
        "\n",
        "Conclude by looking at the number of parameters added\n",
        "\n",
        "Discuss what are the pros of LoRA, what possible applications do you envision for it ?"
      ],
      "id": "d2OAy51GesFP"
    },
    {
      "cell_type": "code",
      "execution_count": 53,
      "metadata": {
        "cell_ktag": "rn5CLfwuJLj1",
        "id": "cAVDKwmnesFP",
        "colab": {
          "base_uri": "https://localhost:8080/"
        },
        "outputId": "02406232-3ec1-42a0-a17d-585e1b94ae08"
      },
      "outputs": [
        {
          "output_type": "stream",
          "name": "stderr",
          "text": [
            "Training: 100%|██████████| 161/161 [00:05<00:00, 31.66it/s, loss=5.61]\n"
          ]
        },
        {
          "output_type": "stream",
          "name": "stdout",
          "text": [
            "Epoch [1/10] Train Loss: 5.613115377307679\n"
          ]
        },
        {
          "output_type": "stream",
          "name": "stderr",
          "text": [
            "Validation: 100%|██████████| 69/69 [00:02<00:00, 33.82it/s, loss=3.38]\n"
          ]
        },
        {
          "output_type": "stream",
          "name": "stdout",
          "text": [
            "Epoch [1/10] Validation Loss: 3.377543857132179\n"
          ]
        },
        {
          "output_type": "stream",
          "name": "stderr",
          "text": [
            "Training: 100%|██████████| 161/161 [00:06<00:00, 25.24it/s, loss=3.74]\n"
          ]
        },
        {
          "output_type": "stream",
          "name": "stdout",
          "text": [
            "Epoch [2/10] Train Loss: 3.7387368264405625\n"
          ]
        },
        {
          "output_type": "stream",
          "name": "stderr",
          "text": [
            "Validation: 100%|██████████| 69/69 [00:02<00:00, 31.40it/s, loss=2.21]\n"
          ]
        },
        {
          "output_type": "stream",
          "name": "stdout",
          "text": [
            "Epoch [2/10] Validation Loss: 2.20669652759165\n"
          ]
        },
        {
          "output_type": "stream",
          "name": "stderr",
          "text": [
            "Training: 100%|██████████| 161/161 [00:05<00:00, 27.94it/s, loss=2.89]\n"
          ]
        },
        {
          "output_type": "stream",
          "name": "stdout",
          "text": [
            "Epoch [3/10] Train Loss: 2.8941093053876985\n"
          ]
        },
        {
          "output_type": "stream",
          "name": "stderr",
          "text": [
            "Validation: 100%|██████████| 69/69 [00:02<00:00, 24.62it/s, loss=1.69]\n"
          ]
        },
        {
          "output_type": "stream",
          "name": "stdout",
          "text": [
            "Epoch [3/10] Validation Loss: 1.691105562707652\n"
          ]
        },
        {
          "output_type": "stream",
          "name": "stderr",
          "text": [
            "Training: 100%|██████████| 161/161 [00:05<00:00, 29.44it/s, loss=2.37]\n"
          ]
        },
        {
          "output_type": "stream",
          "name": "stdout",
          "text": [
            "Epoch [4/10] Train Loss: 2.3684278956111173\n"
          ]
        },
        {
          "output_type": "stream",
          "name": "stderr",
          "text": [
            "Validation: 100%|██████████| 69/69 [00:02<00:00, 29.80it/s, loss=1.42]\n"
          ]
        },
        {
          "output_type": "stream",
          "name": "stdout",
          "text": [
            "Epoch [4/10] Validation Loss: 1.4222786115563435\n"
          ]
        },
        {
          "output_type": "stream",
          "name": "stderr",
          "text": [
            "Training: 100%|██████████| 161/161 [00:06<00:00, 25.62it/s, loss=2.1]\n"
          ]
        },
        {
          "output_type": "stream",
          "name": "stdout",
          "text": [
            "Epoch [5/10] Train Loss: 2.096335277794311\n"
          ]
        },
        {
          "output_type": "stream",
          "name": "stderr",
          "text": [
            "Validation: 100%|██████████| 69/69 [00:02<00:00, 31.47it/s, loss=1.32]\n"
          ]
        },
        {
          "output_type": "stream",
          "name": "stdout",
          "text": [
            "Epoch [5/10] Validation Loss: 1.3231392459592957\n"
          ]
        },
        {
          "output_type": "stream",
          "name": "stderr",
          "text": [
            "Training: 100%|██████████| 161/161 [00:05<00:00, 29.81it/s, loss=1.91]\n"
          ]
        },
        {
          "output_type": "stream",
          "name": "stdout",
          "text": [
            "Epoch [6/10] Train Loss: 1.9094809967538584\n"
          ]
        },
        {
          "output_type": "stream",
          "name": "stderr",
          "text": [
            "Validation: 100%|██████████| 69/69 [00:02<00:00, 25.36it/s, loss=1.22]\n"
          ]
        },
        {
          "output_type": "stream",
          "name": "stdout",
          "text": [
            "Epoch [6/10] Validation Loss: 1.2183148048926091\n"
          ]
        },
        {
          "output_type": "stream",
          "name": "stderr",
          "text": [
            "Training: 100%|██████████| 161/161 [00:05<00:00, 29.34it/s, loss=1.75]\n"
          ]
        },
        {
          "output_type": "stream",
          "name": "stdout",
          "text": [
            "Epoch [7/10] Train Loss: 1.7495338513244012\n"
          ]
        },
        {
          "output_type": "stream",
          "name": "stderr",
          "text": [
            "Validation: 100%|██████████| 69/69 [00:02<00:00, 33.13it/s, loss=1.14]\n"
          ]
        },
        {
          "output_type": "stream",
          "name": "stdout",
          "text": [
            "Epoch [7/10] Validation Loss: 1.139817192070726\n"
          ]
        },
        {
          "output_type": "stream",
          "name": "stderr",
          "text": [
            "Training: 100%|██████████| 161/161 [00:05<00:00, 27.75it/s, loss=1.67]\n"
          ]
        },
        {
          "output_type": "stream",
          "name": "stdout",
          "text": [
            "Epoch [8/10] Train Loss: 1.6710577847794716\n"
          ]
        },
        {
          "output_type": "stream",
          "name": "stderr",
          "text": [
            "Validation: 100%|██████████| 69/69 [00:02<00:00, 27.39it/s, loss=1.1]\n"
          ]
        },
        {
          "output_type": "stream",
          "name": "stdout",
          "text": [
            "Epoch [8/10] Validation Loss: 1.0970510659010515\n"
          ]
        },
        {
          "output_type": "stream",
          "name": "stderr",
          "text": [
            "Training: 100%|██████████| 161/161 [00:05<00:00, 29.25it/s, loss=1.59]\n"
          ]
        },
        {
          "output_type": "stream",
          "name": "stdout",
          "text": [
            "Epoch [9/10] Train Loss: 1.5946305401576972\n"
          ]
        },
        {
          "output_type": "stream",
          "name": "stderr",
          "text": [
            "Validation: 100%|██████████| 69/69 [00:02<00:00, 30.53it/s, loss=1.05]\n"
          ]
        },
        {
          "output_type": "stream",
          "name": "stdout",
          "text": [
            "Epoch [9/10] Validation Loss: 1.0471869456595269\n"
          ]
        },
        {
          "output_type": "stream",
          "name": "stderr",
          "text": [
            "Training: 100%|██████████| 161/161 [00:06<00:00, 23.26it/s, loss=1.56]\n"
          ]
        },
        {
          "output_type": "stream",
          "name": "stdout",
          "text": [
            "Epoch [10/10] Train Loss: 1.5576552837531759\n"
          ]
        },
        {
          "output_type": "stream",
          "name": "stderr",
          "text": [
            "Validation: 100%|██████████| 69/69 [00:02<00:00, 26.96it/s, loss=1.02]\n"
          ]
        },
        {
          "output_type": "stream",
          "name": "stdout",
          "text": [
            "Epoch [10/10] Validation Loss: 1.0246198479680046\n"
          ]
        },
        {
          "output_type": "stream",
          "name": "stderr",
          "text": [
            "subset2: 100%|██████████| 38/38 [00:01<00:00, 28.26it/s]\n"
          ]
        },
        {
          "output_type": "stream",
          "name": "stdout",
          "text": [
            "Accuracy: 0.783\n",
            "Wrong counts for the digit 5: 243\n",
            "Wrong counts for the digit 6: 195\n",
            "Wrong counts for the digit 7: 179\n",
            "Wrong counts for the digit 8: 328\n",
            "Wrong counts for the digit 9: 111\n",
            "LoRA Layer l1_lora_A: 784\n",
            "LoRA Layer l1_lora_B: 1000\n",
            "LoRA Layer l2_lora_A: 1000\n",
            "LoRA Layer l2_lora_B: 2000\n",
            "LoRA Layer l3_lora_A: 2000\n",
            "LoRA Layer l3_lora_B: 5\n",
            "Total number of parameters: 6,789\n"
          ]
        },
        {
          "output_type": "stream",
          "name": "stderr",
          "text": [
            "Training: 100%|██████████| 161/161 [00:06<00:00, 24.69it/s, loss=4.38]\n"
          ]
        },
        {
          "output_type": "stream",
          "name": "stdout",
          "text": [
            "Epoch [1/10] Train Loss: 4.375645296173807\n"
          ]
        },
        {
          "output_type": "stream",
          "name": "stderr",
          "text": [
            "Validation: 100%|██████████| 69/69 [00:02<00:00, 31.51it/s, loss=1.67]\n"
          ]
        },
        {
          "output_type": "stream",
          "name": "stdout",
          "text": [
            "Epoch [1/10] Validation Loss: 1.6657591678094172\n"
          ]
        },
        {
          "output_type": "stream",
          "name": "stderr",
          "text": [
            "Training: 100%|██████████| 161/161 [00:05<00:00, 30.10it/s, loss=2]\n"
          ]
        },
        {
          "output_type": "stream",
          "name": "stdout",
          "text": [
            "Epoch [2/10] Train Loss: 1.997983913984358\n"
          ]
        },
        {
          "output_type": "stream",
          "name": "stderr",
          "text": [
            "Validation: 100%|██████████| 69/69 [00:02<00:00, 30.07it/s, loss=1.09]\n"
          ]
        },
        {
          "output_type": "stream",
          "name": "stdout",
          "text": [
            "Epoch [2/10] Validation Loss: 1.0867677417354307\n"
          ]
        },
        {
          "output_type": "stream",
          "name": "stderr",
          "text": [
            "Training: 100%|██████████| 161/161 [00:05<00:00, 27.14it/s, loss=1.48]\n"
          ]
        },
        {
          "output_type": "stream",
          "name": "stdout",
          "text": [
            "Epoch [3/10] Train Loss: 1.4803331846035785\n"
          ]
        },
        {
          "output_type": "stream",
          "name": "stderr",
          "text": [
            "Validation: 100%|██████████| 69/69 [00:02<00:00, 33.18it/s, loss=0.841]\n"
          ]
        },
        {
          "output_type": "stream",
          "name": "stdout",
          "text": [
            "Epoch [3/10] Validation Loss: 0.8411799038665883\n"
          ]
        },
        {
          "output_type": "stream",
          "name": "stderr",
          "text": [
            "Training: 100%|██████████| 161/161 [00:05<00:00, 30.63it/s, loss=1.2]\n"
          ]
        },
        {
          "output_type": "stream",
          "name": "stdout",
          "text": [
            "Epoch [4/10] Train Loss: 1.2048012991869672\n"
          ]
        },
        {
          "output_type": "stream",
          "name": "stderr",
          "text": [
            "Validation: 100%|██████████| 69/69 [00:03<00:00, 22.92it/s, loss=0.762]\n"
          ]
        },
        {
          "output_type": "stream",
          "name": "stdout",
          "text": [
            "Epoch [4/10] Validation Loss: 0.7615135674891265\n"
          ]
        },
        {
          "output_type": "stream",
          "name": "stderr",
          "text": [
            "Training: 100%|██████████| 161/161 [00:05<00:00, 28.77it/s, loss=1.05]\n"
          ]
        },
        {
          "output_type": "stream",
          "name": "stdout",
          "text": [
            "Epoch [5/10] Train Loss: 1.046860971065782\n"
          ]
        },
        {
          "output_type": "stream",
          "name": "stderr",
          "text": [
            "Validation: 100%|██████████| 69/69 [00:02<00:00, 30.59it/s, loss=0.625]\n"
          ]
        },
        {
          "output_type": "stream",
          "name": "stdout",
          "text": [
            "Epoch [5/10] Validation Loss: 0.6252478296342103\n"
          ]
        },
        {
          "output_type": "stream",
          "name": "stderr",
          "text": [
            "Training: 100%|██████████| 161/161 [00:06<00:00, 25.76it/s, loss=0.956]\n"
          ]
        },
        {
          "output_type": "stream",
          "name": "stdout",
          "text": [
            "Epoch [6/10] Train Loss: 0.9561923457228619\n"
          ]
        },
        {
          "output_type": "stream",
          "name": "stderr",
          "text": [
            "Validation: 100%|██████████| 69/69 [00:02<00:00, 30.53it/s, loss=0.587]\n"
          ]
        },
        {
          "output_type": "stream",
          "name": "stdout",
          "text": [
            "Epoch [6/10] Validation Loss: 0.5874922422395237\n"
          ]
        },
        {
          "output_type": "stream",
          "name": "stderr",
          "text": [
            "Training: 100%|██████████| 161/161 [00:05<00:00, 30.51it/s, loss=0.923]\n"
          ]
        },
        {
          "output_type": "stream",
          "name": "stdout",
          "text": [
            "Epoch [7/10] Train Loss: 0.9228121982598156\n"
          ]
        },
        {
          "output_type": "stream",
          "name": "stderr",
          "text": [
            "Validation: 100%|██████████| 69/69 [00:02<00:00, 26.83it/s, loss=0.549]\n"
          ]
        },
        {
          "output_type": "stream",
          "name": "stdout",
          "text": [
            "Epoch [7/10] Validation Loss: 0.5488743039144985\n"
          ]
        },
        {
          "output_type": "stream",
          "name": "stderr",
          "text": [
            "Training: 100%|██████████| 161/161 [00:05<00:00, 26.86it/s, loss=0.846]\n"
          ]
        },
        {
          "output_type": "stream",
          "name": "stdout",
          "text": [
            "Epoch [8/10] Train Loss: 0.8455667149576341\n"
          ]
        },
        {
          "output_type": "stream",
          "name": "stderr",
          "text": [
            "Validation: 100%|██████████| 69/69 [00:02<00:00, 29.83it/s, loss=0.519]\n"
          ]
        },
        {
          "output_type": "stream",
          "name": "stdout",
          "text": [
            "Epoch [8/10] Validation Loss: 0.5192388343638268\n"
          ]
        },
        {
          "output_type": "stream",
          "name": "stderr",
          "text": [
            "Training: 100%|██████████| 161/161 [00:06<00:00, 25.64it/s, loss=0.823]\n"
          ]
        },
        {
          "output_type": "stream",
          "name": "stdout",
          "text": [
            "Epoch [9/10] Train Loss: 0.8230640331040258\n"
          ]
        },
        {
          "output_type": "stream",
          "name": "stderr",
          "text": [
            "Validation: 100%|██████████| 69/69 [00:02<00:00, 33.79it/s, loss=0.501]\n"
          ]
        },
        {
          "output_type": "stream",
          "name": "stdout",
          "text": [
            "Epoch [9/10] Validation Loss: 0.5012262765912042\n"
          ]
        },
        {
          "output_type": "stream",
          "name": "stderr",
          "text": [
            "Training: 100%|██████████| 161/161 [00:05<00:00, 32.00it/s, loss=0.799]\n"
          ]
        },
        {
          "output_type": "stream",
          "name": "stdout",
          "text": [
            "Epoch [10/10] Train Loss: 0.7992305933318523\n"
          ]
        },
        {
          "output_type": "stream",
          "name": "stderr",
          "text": [
            "Validation: 100%|██████████| 69/69 [00:02<00:00, 34.14it/s, loss=0.471]\n"
          ]
        },
        {
          "output_type": "stream",
          "name": "stdout",
          "text": [
            "Epoch [10/10] Validation Loss: 0.47099194664886035\n"
          ]
        },
        {
          "output_type": "stream",
          "name": "stderr",
          "text": [
            "subset2: 100%|██████████| 38/38 [00:01<00:00, 26.12it/s]\n"
          ]
        },
        {
          "output_type": "stream",
          "name": "stdout",
          "text": [
            "Accuracy: 0.883\n",
            "Wrong counts for the digit 5: 128\n",
            "Wrong counts for the digit 6: 43\n",
            "Wrong counts for the digit 7: 114\n",
            "Wrong counts for the digit 8: 199\n",
            "Wrong counts for the digit 9: 87\n",
            "LoRA Layer l1_lora_A: 1568\n",
            "LoRA Layer l1_lora_B: 2000\n",
            "LoRA Layer l2_lora_A: 2000\n",
            "LoRA Layer l2_lora_B: 4000\n",
            "LoRA Layer l3_lora_A: 4000\n",
            "LoRA Layer l3_lora_B: 10\n",
            "Total number of parameters: 13,578\n"
          ]
        },
        {
          "output_type": "stream",
          "name": "stderr",
          "text": [
            "Training: 100%|██████████| 161/161 [00:06<00:00, 26.25it/s, loss=4.01]\n"
          ]
        },
        {
          "output_type": "stream",
          "name": "stdout",
          "text": [
            "Epoch [1/10] Train Loss: 4.010525527948178\n"
          ]
        },
        {
          "output_type": "stream",
          "name": "stderr",
          "text": [
            "Validation: 100%|██████████| 69/69 [00:02<00:00, 31.47it/s, loss=1.27]\n"
          ]
        },
        {
          "output_type": "stream",
          "name": "stdout",
          "text": [
            "Epoch [1/10] Validation Loss: 1.268790572449781\n"
          ]
        },
        {
          "output_type": "stream",
          "name": "stderr",
          "text": [
            "Training: 100%|██████████| 161/161 [00:06<00:00, 26.36it/s, loss=1.4]\n"
          ]
        },
        {
          "output_type": "stream",
          "name": "stdout",
          "text": [
            "Epoch [2/10] Train Loss: 1.4040045956647174\n"
          ]
        },
        {
          "output_type": "stream",
          "name": "stderr",
          "text": [
            "Validation: 100%|██████████| 69/69 [00:02<00:00, 25.98it/s, loss=0.708]\n"
          ]
        },
        {
          "output_type": "stream",
          "name": "stdout",
          "text": [
            "Epoch [2/10] Validation Loss: 0.707561913607777\n"
          ]
        },
        {
          "output_type": "stream",
          "name": "stderr",
          "text": [
            "Training: 100%|██████████| 161/161 [00:05<00:00, 29.82it/s, loss=1.02]\n"
          ]
        },
        {
          "output_type": "stream",
          "name": "stdout",
          "text": [
            "Epoch [3/10] Train Loss: 1.0177614033592413\n"
          ]
        },
        {
          "output_type": "stream",
          "name": "stderr",
          "text": [
            "Validation: 100%|██████████| 69/69 [00:02<00:00, 29.41it/s, loss=0.524]\n"
          ]
        },
        {
          "output_type": "stream",
          "name": "stdout",
          "text": [
            "Epoch [3/10] Validation Loss: 0.523681807777156\n"
          ]
        },
        {
          "output_type": "stream",
          "name": "stderr",
          "text": [
            "Training: 100%|██████████| 161/161 [00:06<00:00, 25.12it/s, loss=0.807]\n"
          ]
        },
        {
          "output_type": "stream",
          "name": "stdout",
          "text": [
            "Epoch [4/10] Train Loss: 0.80729268926271\n"
          ]
        },
        {
          "output_type": "stream",
          "name": "stderr",
          "text": [
            "Validation: 100%|██████████| 69/69 [00:02<00:00, 31.11it/s, loss=0.434]\n"
          ]
        },
        {
          "output_type": "stream",
          "name": "stdout",
          "text": [
            "Epoch [4/10] Validation Loss: 0.4341656256845032\n"
          ]
        },
        {
          "output_type": "stream",
          "name": "stderr",
          "text": [
            "Training: 100%|██████████| 161/161 [00:05<00:00, 29.25it/s, loss=0.718]\n"
          ]
        },
        {
          "output_type": "stream",
          "name": "stdout",
          "text": [
            "Epoch [5/10] Train Loss: 0.7183093482292957\n"
          ]
        },
        {
          "output_type": "stream",
          "name": "stderr",
          "text": [
            "Validation: 100%|██████████| 69/69 [00:02<00:00, 23.47it/s, loss=0.395]\n"
          ]
        },
        {
          "output_type": "stream",
          "name": "stdout",
          "text": [
            "Epoch [5/10] Validation Loss: 0.3950007745753164\n"
          ]
        },
        {
          "output_type": "stream",
          "name": "stderr",
          "text": [
            "Training: 100%|██████████| 161/161 [00:05<00:00, 31.59it/s, loss=0.635]\n"
          ]
        },
        {
          "output_type": "stream",
          "name": "stdout",
          "text": [
            "Epoch [6/10] Train Loss: 0.6347790747325613\n"
          ]
        },
        {
          "output_type": "stream",
          "name": "stderr",
          "text": [
            "Validation: 100%|██████████| 69/69 [00:02<00:00, 33.13it/s, loss=0.374]\n"
          ]
        },
        {
          "output_type": "stream",
          "name": "stdout",
          "text": [
            "Epoch [6/10] Validation Loss: 0.3742503802413526\n"
          ]
        },
        {
          "output_type": "stream",
          "name": "stderr",
          "text": [
            "Training: 100%|██████████| 161/161 [00:06<00:00, 25.07it/s, loss=0.602]\n"
          ]
        },
        {
          "output_type": "stream",
          "name": "stdout",
          "text": [
            "Epoch [7/10] Train Loss: 0.6023373600118649\n"
          ]
        },
        {
          "output_type": "stream",
          "name": "stderr",
          "text": [
            "Validation: 100%|██████████| 69/69 [00:02<00:00, 29.92it/s, loss=0.337]\n"
          ]
        },
        {
          "output_type": "stream",
          "name": "stdout",
          "text": [
            "Epoch [7/10] Validation Loss: 0.3373516469761945\n"
          ]
        },
        {
          "output_type": "stream",
          "name": "stderr",
          "text": [
            "Training: 100%|██████████| 161/161 [00:05<00:00, 28.72it/s, loss=0.545]\n"
          ]
        },
        {
          "output_type": "stream",
          "name": "stdout",
          "text": [
            "Epoch [8/10] Train Loss: 0.544719539258791\n"
          ]
        },
        {
          "output_type": "stream",
          "name": "stderr",
          "text": [
            "Validation: 100%|██████████| 69/69 [00:02<00:00, 28.15it/s, loss=0.315]\n"
          ]
        },
        {
          "output_type": "stream",
          "name": "stdout",
          "text": [
            "Epoch [8/10] Validation Loss: 0.3152110086403031\n"
          ]
        },
        {
          "output_type": "stream",
          "name": "stderr",
          "text": [
            "Training: 100%|██████████| 161/161 [00:05<00:00, 27.34it/s, loss=0.519]\n"
          ]
        },
        {
          "output_type": "stream",
          "name": "stdout",
          "text": [
            "Epoch [9/10] Train Loss: 0.5189804666160797\n"
          ]
        },
        {
          "output_type": "stream",
          "name": "stderr",
          "text": [
            "Validation: 100%|██████████| 69/69 [00:02<00:00, 28.83it/s, loss=0.302]\n"
          ]
        },
        {
          "output_type": "stream",
          "name": "stdout",
          "text": [
            "Epoch [9/10] Validation Loss: 0.30246950837149134\n"
          ]
        },
        {
          "output_type": "stream",
          "name": "stderr",
          "text": [
            "Training: 100%|██████████| 161/161 [00:05<00:00, 26.92it/s, loss=0.487]\n"
          ]
        },
        {
          "output_type": "stream",
          "name": "stdout",
          "text": [
            "Epoch [10/10] Train Loss: 0.48679289860384806\n"
          ]
        },
        {
          "output_type": "stream",
          "name": "stderr",
          "text": [
            "Validation: 100%|██████████| 69/69 [00:02<00:00, 26.32it/s, loss=0.284]\n"
          ]
        },
        {
          "output_type": "stream",
          "name": "stdout",
          "text": [
            "Epoch [10/10] Validation Loss: 0.2843467228222584\n"
          ]
        },
        {
          "output_type": "stream",
          "name": "stderr",
          "text": [
            "subset2: 100%|██████████| 38/38 [00:01<00:00, 29.53it/s]\n"
          ]
        },
        {
          "output_type": "stream",
          "name": "stdout",
          "text": [
            "Accuracy: 0.915\n",
            "Wrong counts for the digit 5: 96\n",
            "Wrong counts for the digit 6: 38\n",
            "Wrong counts for the digit 7: 64\n",
            "Wrong counts for the digit 8: 145\n",
            "Wrong counts for the digit 9: 69\n",
            "LoRA Layer l1_lora_A: 3136\n",
            "LoRA Layer l1_lora_B: 4000\n",
            "LoRA Layer l2_lora_A: 4000\n",
            "LoRA Layer l2_lora_B: 8000\n",
            "LoRA Layer l3_lora_A: 8000\n",
            "LoRA Layer l3_lora_B: 20\n",
            "Total number of parameters: 27,156\n"
          ]
        },
        {
          "output_type": "stream",
          "name": "stderr",
          "text": [
            "Training: 100%|██████████| 161/161 [00:05<00:00, 28.82it/s, loss=4.41]\n"
          ]
        },
        {
          "output_type": "stream",
          "name": "stdout",
          "text": [
            "Epoch [1/10] Train Loss: 4.412875824093078\n"
          ]
        },
        {
          "output_type": "stream",
          "name": "stderr",
          "text": [
            "Validation: 100%|██████████| 69/69 [00:02<00:00, 28.61it/s, loss=1.48]\n"
          ]
        },
        {
          "output_type": "stream",
          "name": "stdout",
          "text": [
            "Epoch [1/10] Validation Loss: 1.4761709104413572\n"
          ]
        },
        {
          "output_type": "stream",
          "name": "stderr",
          "text": [
            "Training: 100%|██████████| 161/161 [00:05<00:00, 27.89it/s, loss=1.57]\n"
          ]
        },
        {
          "output_type": "stream",
          "name": "stdout",
          "text": [
            "Epoch [2/10] Train Loss: 1.5653679892883539\n"
          ]
        },
        {
          "output_type": "stream",
          "name": "stderr",
          "text": [
            "Validation: 100%|██████████| 69/69 [00:02<00:00, 33.41it/s, loss=0.721]\n"
          ]
        },
        {
          "output_type": "stream",
          "name": "stdout",
          "text": [
            "Epoch [2/10] Validation Loss: 0.7213280395321224\n"
          ]
        },
        {
          "output_type": "stream",
          "name": "stderr",
          "text": [
            "Training: 100%|██████████| 161/161 [00:06<00:00, 26.75it/s, loss=0.986]\n"
          ]
        },
        {
          "output_type": "stream",
          "name": "stdout",
          "text": [
            "Epoch [3/10] Train Loss: 0.9858863055706024\n"
          ]
        },
        {
          "output_type": "stream",
          "name": "stderr",
          "text": [
            "Validation: 100%|██████████| 69/69 [00:02<00:00, 24.16it/s, loss=0.506]\n"
          ]
        },
        {
          "output_type": "stream",
          "name": "stdout",
          "text": [
            "Epoch [3/10] Validation Loss: 0.5059660640747651\n"
          ]
        },
        {
          "output_type": "stream",
          "name": "stderr",
          "text": [
            "Training: 100%|██████████| 161/161 [00:05<00:00, 29.60it/s, loss=0.779]\n"
          ]
        },
        {
          "output_type": "stream",
          "name": "stdout",
          "text": [
            "Epoch [4/10] Train Loss: 0.7786170529282611\n"
          ]
        },
        {
          "output_type": "stream",
          "name": "stderr",
          "text": [
            "Validation: 100%|██████████| 69/69 [00:02<00:00, 31.02it/s, loss=0.398]\n"
          ]
        },
        {
          "output_type": "stream",
          "name": "stdout",
          "text": [
            "Epoch [4/10] Validation Loss: 0.39797581818656647\n"
          ]
        },
        {
          "output_type": "stream",
          "name": "stderr",
          "text": [
            "Training: 100%|██████████| 161/161 [00:06<00:00, 25.77it/s, loss=0.64]\n"
          ]
        },
        {
          "output_type": "stream",
          "name": "stdout",
          "text": [
            "Epoch [5/10] Train Loss: 0.6395157899545587\n"
          ]
        },
        {
          "output_type": "stream",
          "name": "stderr",
          "text": [
            "Validation: 100%|██████████| 69/69 [00:02<00:00, 31.14it/s, loss=0.351]\n"
          ]
        },
        {
          "output_type": "stream",
          "name": "stdout",
          "text": [
            "Epoch [5/10] Validation Loss: 0.35095631795516913\n"
          ]
        },
        {
          "output_type": "stream",
          "name": "stderr",
          "text": [
            "Training: 100%|██████████| 161/161 [00:05<00:00, 29.56it/s, loss=0.57]\n"
          ]
        },
        {
          "output_type": "stream",
          "name": "stdout",
          "text": [
            "Epoch [6/10] Train Loss: 0.5700441056526966\n"
          ]
        },
        {
          "output_type": "stream",
          "name": "stderr",
          "text": [
            "Validation: 100%|██████████| 69/69 [00:02<00:00, 23.76it/s, loss=0.299]\n"
          ]
        },
        {
          "output_type": "stream",
          "name": "stdout",
          "text": [
            "Epoch [6/10] Validation Loss: 0.298896976787111\n"
          ]
        },
        {
          "output_type": "stream",
          "name": "stderr",
          "text": [
            "Training: 100%|██████████| 161/161 [00:06<00:00, 23.90it/s, loss=0.511]\n"
          ]
        },
        {
          "output_type": "stream",
          "name": "stdout",
          "text": [
            "Epoch [7/10] Train Loss: 0.5113707427282511\n"
          ]
        },
        {
          "output_type": "stream",
          "name": "stderr",
          "text": [
            "Validation: 100%|██████████| 69/69 [00:02<00:00, 30.75it/s, loss=0.271]\n"
          ]
        },
        {
          "output_type": "stream",
          "name": "stdout",
          "text": [
            "Epoch [7/10] Validation Loss: 0.2708750490261161\n"
          ]
        },
        {
          "output_type": "stream",
          "name": "stderr",
          "text": [
            "Training: 100%|██████████| 161/161 [00:06<00:00, 26.50it/s, loss=0.469]\n"
          ]
        },
        {
          "output_type": "stream",
          "name": "stdout",
          "text": [
            "Epoch [8/10] Train Loss: 0.4686801173487065\n"
          ]
        },
        {
          "output_type": "stream",
          "name": "stderr",
          "text": [
            "Validation: 100%|██████████| 69/69 [00:02<00:00, 32.86it/s, loss=0.258]\n"
          ]
        },
        {
          "output_type": "stream",
          "name": "stdout",
          "text": [
            "Epoch [8/10] Validation Loss: 0.25752425247776334\n"
          ]
        },
        {
          "output_type": "stream",
          "name": "stderr",
          "text": [
            "Training: 100%|██████████| 161/161 [00:05<00:00, 31.59it/s, loss=0.44]\n"
          ]
        },
        {
          "output_type": "stream",
          "name": "stdout",
          "text": [
            "Epoch [9/10] Train Loss: 0.44018497757659936\n"
          ]
        },
        {
          "output_type": "stream",
          "name": "stderr",
          "text": [
            "Validation: 100%|██████████| 69/69 [00:02<00:00, 27.13it/s, loss=0.231]\n"
          ]
        },
        {
          "output_type": "stream",
          "name": "stdout",
          "text": [
            "Epoch [9/10] Validation Loss: 0.23070552124493365\n"
          ]
        },
        {
          "output_type": "stream",
          "name": "stderr",
          "text": [
            "Training: 100%|██████████| 161/161 [00:06<00:00, 26.52it/s, loss=0.405]\n"
          ]
        },
        {
          "output_type": "stream",
          "name": "stdout",
          "text": [
            "Epoch [10/10] Train Loss: 0.40475703090984627\n"
          ]
        },
        {
          "output_type": "stream",
          "name": "stderr",
          "text": [
            "Validation: 100%|██████████| 69/69 [00:02<00:00, 28.71it/s, loss=0.228]\n"
          ]
        },
        {
          "output_type": "stream",
          "name": "stdout",
          "text": [
            "Epoch [10/10] Validation Loss: 0.22835058416577353\n"
          ]
        },
        {
          "output_type": "stream",
          "name": "stderr",
          "text": [
            "subset2: 100%|██████████| 38/38 [00:01<00:00, 28.71it/s]\n"
          ]
        },
        {
          "output_type": "stream",
          "name": "stdout",
          "text": [
            "Accuracy: 0.94\n",
            "Wrong counts for the digit 5: 47\n",
            "Wrong counts for the digit 6: 23\n",
            "Wrong counts for the digit 7: 42\n",
            "Wrong counts for the digit 8: 116\n",
            "Wrong counts for the digit 9: 66\n",
            "LoRA Layer l1_lora_A: 6272\n",
            "LoRA Layer l1_lora_B: 8000\n",
            "LoRA Layer l2_lora_A: 8000\n",
            "LoRA Layer l2_lora_B: 16000\n",
            "LoRA Layer l3_lora_A: 16000\n",
            "LoRA Layer l3_lora_B: 40\n",
            "Total number of parameters: 54,312\n"
          ]
        },
        {
          "output_type": "stream",
          "name": "stderr",
          "text": [
            "Training: 100%|██████████| 161/161 [00:06<00:00, 25.37it/s, loss=4.12]\n"
          ]
        },
        {
          "output_type": "stream",
          "name": "stdout",
          "text": [
            "Epoch [1/10] Train Loss: 4.123874680596109\n"
          ]
        },
        {
          "output_type": "stream",
          "name": "stderr",
          "text": [
            "Validation: 100%|██████████| 69/69 [00:02<00:00, 30.55it/s, loss=1.24]\n"
          ]
        },
        {
          "output_type": "stream",
          "name": "stdout",
          "text": [
            "Epoch [1/10] Validation Loss: 1.2391036316968393\n"
          ]
        },
        {
          "output_type": "stream",
          "name": "stderr",
          "text": [
            "Training: 100%|██████████| 161/161 [00:05<00:00, 30.74it/s, loss=1.21]\n"
          ]
        },
        {
          "output_type": "stream",
          "name": "stdout",
          "text": [
            "Epoch [2/10] Train Loss: 1.2078782031254738\n"
          ]
        },
        {
          "output_type": "stream",
          "name": "stderr",
          "text": [
            "Validation: 100%|██████████| 69/69 [00:02<00:00, 25.64it/s, loss=0.541]\n"
          ]
        },
        {
          "output_type": "stream",
          "name": "stdout",
          "text": [
            "Epoch [2/10] Validation Loss: 0.5405568851940874\n"
          ]
        },
        {
          "output_type": "stream",
          "name": "stderr",
          "text": [
            "Training: 100%|██████████| 161/161 [00:06<00:00, 26.41it/s, loss=0.731]\n"
          ]
        },
        {
          "output_type": "stream",
          "name": "stdout",
          "text": [
            "Epoch [3/10] Train Loss: 0.7308156779093772\n"
          ]
        },
        {
          "output_type": "stream",
          "name": "stderr",
          "text": [
            "Validation: 100%|██████████| 69/69 [00:02<00:00, 30.87it/s, loss=0.375]\n"
          ]
        },
        {
          "output_type": "stream",
          "name": "stdout",
          "text": [
            "Epoch [3/10] Validation Loss: 0.3745446911324625\n"
          ]
        },
        {
          "output_type": "stream",
          "name": "stderr",
          "text": [
            "Training: 100%|██████████| 161/161 [00:06<00:00, 25.04it/s, loss=0.568]\n"
          ]
        },
        {
          "output_type": "stream",
          "name": "stdout",
          "text": [
            "Epoch [4/10] Train Loss: 0.5679220876523426\n"
          ]
        },
        {
          "output_type": "stream",
          "name": "stderr",
          "text": [
            "Validation: 100%|██████████| 69/69 [00:02<00:00, 31.97it/s, loss=0.308]\n"
          ]
        },
        {
          "output_type": "stream",
          "name": "stdout",
          "text": [
            "Epoch [4/10] Validation Loss: 0.3082033542619235\n"
          ]
        },
        {
          "output_type": "stream",
          "name": "stderr",
          "text": [
            "Training: 100%|██████████| 161/161 [00:05<00:00, 30.67it/s, loss=0.503]\n"
          ]
        },
        {
          "output_type": "stream",
          "name": "stdout",
          "text": [
            "Epoch [5/10] Train Loss: 0.5032514525311333\n"
          ]
        },
        {
          "output_type": "stream",
          "name": "stderr",
          "text": [
            "Validation: 100%|██████████| 69/69 [00:02<00:00, 30.48it/s, loss=0.269]\n"
          ]
        },
        {
          "output_type": "stream",
          "name": "stdout",
          "text": [
            "Epoch [5/10] Validation Loss: 0.26939291366632434\n"
          ]
        },
        {
          "output_type": "stream",
          "name": "stderr",
          "text": [
            "Training: 100%|██████████| 161/161 [00:06<00:00, 25.09it/s, loss=0.433]\n"
          ]
        },
        {
          "output_type": "stream",
          "name": "stdout",
          "text": [
            "Epoch [6/10] Train Loss: 0.43269298119204386\n"
          ]
        },
        {
          "output_type": "stream",
          "name": "stderr",
          "text": [
            "Validation: 100%|██████████| 69/69 [00:02<00:00, 31.19it/s, loss=0.237]\n"
          ]
        },
        {
          "output_type": "stream",
          "name": "stdout",
          "text": [
            "Epoch [6/10] Validation Loss: 0.2373947996808135\n"
          ]
        },
        {
          "output_type": "stream",
          "name": "stderr",
          "text": [
            "Training: 100%|██████████| 161/161 [00:05<00:00, 28.83it/s, loss=0.394]\n"
          ]
        },
        {
          "output_type": "stream",
          "name": "stdout",
          "text": [
            "Epoch [7/10] Train Loss: 0.39438700925859604\n"
          ]
        },
        {
          "output_type": "stream",
          "name": "stderr",
          "text": [
            "Validation: 100%|██████████| 69/69 [00:03<00:00, 21.43it/s, loss=0.217]\n"
          ]
        },
        {
          "output_type": "stream",
          "name": "stdout",
          "text": [
            "Epoch [7/10] Validation Loss: 0.2171142292411431\n"
          ]
        },
        {
          "output_type": "stream",
          "name": "stderr",
          "text": [
            "Training: 100%|██████████| 161/161 [00:05<00:00, 31.08it/s, loss=0.356]\n"
          ]
        },
        {
          "output_type": "stream",
          "name": "stdout",
          "text": [
            "Epoch [8/10] Train Loss: 0.35577560433689853\n"
          ]
        },
        {
          "output_type": "stream",
          "name": "stderr",
          "text": [
            "Validation: 100%|██████████| 69/69 [00:02<00:00, 33.25it/s, loss=0.198]\n"
          ]
        },
        {
          "output_type": "stream",
          "name": "stdout",
          "text": [
            "Epoch [8/10] Validation Loss: 0.19815660894349002\n"
          ]
        },
        {
          "output_type": "stream",
          "name": "stderr",
          "text": [
            "Training: 100%|██████████| 161/161 [00:06<00:00, 25.13it/s, loss=0.34]\n"
          ]
        },
        {
          "output_type": "stream",
          "name": "stdout",
          "text": [
            "Epoch [9/10] Train Loss: 0.339847894281334\n"
          ]
        },
        {
          "output_type": "stream",
          "name": "stderr",
          "text": [
            "Validation: 100%|██████████| 69/69 [00:02<00:00, 30.37it/s, loss=0.189]\n"
          ]
        },
        {
          "output_type": "stream",
          "name": "stdout",
          "text": [
            "Epoch [9/10] Validation Loss: 0.18866383446299512\n"
          ]
        },
        {
          "output_type": "stream",
          "name": "stderr",
          "text": [
            "Training: 100%|██████████| 161/161 [00:05<00:00, 29.29it/s, loss=0.311]\n"
          ]
        },
        {
          "output_type": "stream",
          "name": "stdout",
          "text": [
            "Epoch [10/10] Train Loss: 0.3106102115989472\n"
          ]
        },
        {
          "output_type": "stream",
          "name": "stderr",
          "text": [
            "Validation: 100%|██████████| 69/69 [00:02<00:00, 26.19it/s, loss=0.178]\n"
          ]
        },
        {
          "output_type": "stream",
          "name": "stdout",
          "text": [
            "Epoch [10/10] Validation Loss: 0.17822794108719064\n"
          ]
        },
        {
          "output_type": "stream",
          "name": "stderr",
          "text": [
            "subset2: 100%|██████████| 38/38 [00:01<00:00, 19.30it/s]\n"
          ]
        },
        {
          "output_type": "stream",
          "name": "stdout",
          "text": [
            "Accuracy: 0.947\n",
            "Wrong counts for the digit 5: 44\n",
            "Wrong counts for the digit 6: 19\n",
            "Wrong counts for the digit 7: 40\n",
            "Wrong counts for the digit 8: 100\n",
            "Wrong counts for the digit 9: 53\n",
            "LoRA Layer l1_lora_A: 12544\n",
            "LoRA Layer l1_lora_B: 16000\n",
            "LoRA Layer l2_lora_A: 16000\n",
            "LoRA Layer l2_lora_B: 32000\n",
            "LoRA Layer l3_lora_A: 32000\n",
            "LoRA Layer l3_lora_B: 80\n",
            "Total number of parameters: 108,624\n"
          ]
        },
        {
          "output_type": "stream",
          "name": "stderr",
          "text": [
            "Training: 100%|██████████| 161/161 [00:05<00:00, 30.26it/s, loss=4.56]\n"
          ]
        },
        {
          "output_type": "stream",
          "name": "stdout",
          "text": [
            "Epoch [1/10] Train Loss: 4.5578692077849965\n"
          ]
        },
        {
          "output_type": "stream",
          "name": "stderr",
          "text": [
            "Validation: 100%|██████████| 69/69 [00:02<00:00, 30.78it/s, loss=1.72]\n"
          ]
        },
        {
          "output_type": "stream",
          "name": "stdout",
          "text": [
            "Epoch [1/10] Validation Loss: 1.717411938784779\n"
          ]
        },
        {
          "output_type": "stream",
          "name": "stderr",
          "text": [
            "Training: 100%|██████████| 161/161 [00:06<00:00, 24.48it/s, loss=1.34]\n"
          ]
        },
        {
          "output_type": "stream",
          "name": "stdout",
          "text": [
            "Epoch [2/10] Train Loss: 1.341459362032991\n"
          ]
        },
        {
          "output_type": "stream",
          "name": "stderr",
          "text": [
            "Validation: 100%|██████████| 69/69 [00:02<00:00, 30.86it/s, loss=0.562]\n"
          ]
        },
        {
          "output_type": "stream",
          "name": "stdout",
          "text": [
            "Epoch [2/10] Validation Loss: 0.5623638217431911\n"
          ]
        },
        {
          "output_type": "stream",
          "name": "stderr",
          "text": [
            "Training: 100%|██████████| 161/161 [00:05<00:00, 28.80it/s, loss=0.72]\n"
          ]
        },
        {
          "output_type": "stream",
          "name": "stdout",
          "text": [
            "Epoch [3/10] Train Loss: 0.7197886871995393\n"
          ]
        },
        {
          "output_type": "stream",
          "name": "stderr",
          "text": [
            "Validation: 100%|██████████| 69/69 [00:02<00:00, 25.77it/s, loss=0.339]\n"
          ]
        },
        {
          "output_type": "stream",
          "name": "stdout",
          "text": [
            "Epoch [3/10] Validation Loss: 0.33891384346761566\n"
          ]
        },
        {
          "output_type": "stream",
          "name": "stderr",
          "text": [
            "Training: 100%|██████████| 161/161 [00:06<00:00, 26.25it/s, loss=0.516]\n"
          ]
        },
        {
          "output_type": "stream",
          "name": "stdout",
          "text": [
            "Epoch [4/10] Train Loss: 0.5162177612507566\n"
          ]
        },
        {
          "output_type": "stream",
          "name": "stderr",
          "text": [
            "Validation: 100%|██████████| 69/69 [00:02<00:00, 31.06it/s, loss=0.252]\n"
          ]
        },
        {
          "output_type": "stream",
          "name": "stdout",
          "text": [
            "Epoch [4/10] Validation Loss: 0.2524291337400243\n"
          ]
        },
        {
          "output_type": "stream",
          "name": "stderr",
          "text": [
            "Training: 100%|██████████| 161/161 [00:06<00:00, 25.00it/s, loss=0.417]\n"
          ]
        },
        {
          "output_type": "stream",
          "name": "stdout",
          "text": [
            "Epoch [5/10] Train Loss: 0.41682881625912943\n"
          ]
        },
        {
          "output_type": "stream",
          "name": "stderr",
          "text": [
            "Validation: 100%|██████████| 69/69 [00:02<00:00, 29.51it/s, loss=0.206]\n"
          ]
        },
        {
          "output_type": "stream",
          "name": "stdout",
          "text": [
            "Epoch [5/10] Validation Loss: 0.20604618044867032\n"
          ]
        },
        {
          "output_type": "stream",
          "name": "stderr",
          "text": [
            "Training: 100%|██████████| 161/161 [00:05<00:00, 29.25it/s, loss=0.361]\n"
          ]
        },
        {
          "output_type": "stream",
          "name": "stdout",
          "text": [
            "Epoch [6/10] Train Loss: 0.3607841609797863\n"
          ]
        },
        {
          "output_type": "stream",
          "name": "stderr",
          "text": [
            "Validation: 100%|██████████| 69/69 [00:02<00:00, 32.68it/s, loss=0.181]\n"
          ]
        },
        {
          "output_type": "stream",
          "name": "stdout",
          "text": [
            "Epoch [6/10] Validation Loss: 0.1810994567754476\n"
          ]
        },
        {
          "output_type": "stream",
          "name": "stderr",
          "text": [
            "Training: 100%|██████████| 161/161 [00:06<00:00, 25.91it/s, loss=0.311]\n"
          ]
        },
        {
          "output_type": "stream",
          "name": "stdout",
          "text": [
            "Epoch [7/10] Train Loss: 0.3112201976665058\n"
          ]
        },
        {
          "output_type": "stream",
          "name": "stderr",
          "text": [
            "Validation: 100%|██████████| 69/69 [00:02<00:00, 30.32it/s, loss=0.166]\n"
          ]
        },
        {
          "output_type": "stream",
          "name": "stdout",
          "text": [
            "Epoch [7/10] Validation Loss: 0.1662149327820626\n"
          ]
        },
        {
          "output_type": "stream",
          "name": "stderr",
          "text": [
            "Training: 100%|██████████| 161/161 [00:05<00:00, 27.51it/s, loss=0.293]\n"
          ]
        },
        {
          "output_type": "stream",
          "name": "stdout",
          "text": [
            "Epoch [8/10] Train Loss: 0.29288237148560353\n"
          ]
        },
        {
          "output_type": "stream",
          "name": "stderr",
          "text": [
            "Validation: 100%|██████████| 69/69 [00:02<00:00, 23.29it/s, loss=0.154]\n"
          ]
        },
        {
          "output_type": "stream",
          "name": "stdout",
          "text": [
            "Epoch [8/10] Validation Loss: 0.1536429659395978\n"
          ]
        },
        {
          "output_type": "stream",
          "name": "stderr",
          "text": [
            "Training: 100%|██████████| 161/161 [00:05<00:00, 29.45it/s, loss=0.267]\n"
          ]
        },
        {
          "output_type": "stream",
          "name": "stdout",
          "text": [
            "Epoch [9/10] Train Loss: 0.2674520910248993\n"
          ]
        },
        {
          "output_type": "stream",
          "name": "stderr",
          "text": [
            "Validation: 100%|██████████| 69/69 [00:02<00:00, 31.17it/s, loss=0.141]\n"
          ]
        },
        {
          "output_type": "stream",
          "name": "stdout",
          "text": [
            "Epoch [9/10] Validation Loss: 0.14066687312679013\n"
          ]
        },
        {
          "output_type": "stream",
          "name": "stderr",
          "text": [
            "Training: 100%|██████████| 161/161 [00:06<00:00, 26.10it/s, loss=0.246]\n"
          ]
        },
        {
          "output_type": "stream",
          "name": "stdout",
          "text": [
            "Epoch [10/10] Train Loss: 0.2459737202673225\n"
          ]
        },
        {
          "output_type": "stream",
          "name": "stderr",
          "text": [
            "Validation: 100%|██████████| 69/69 [00:02<00:00, 29.32it/s, loss=0.134]\n"
          ]
        },
        {
          "output_type": "stream",
          "name": "stdout",
          "text": [
            "Epoch [10/10] Validation Loss: 0.13355751319423967\n"
          ]
        },
        {
          "output_type": "stream",
          "name": "stderr",
          "text": [
            "subset2: 100%|██████████| 38/38 [00:01<00:00, 29.04it/s]\n"
          ]
        },
        {
          "output_type": "stream",
          "name": "stdout",
          "text": [
            "Accuracy: 0.962\n",
            "Wrong counts for the digit 5: 36\n",
            "Wrong counts for the digit 6: 19\n",
            "Wrong counts for the digit 7: 27\n",
            "Wrong counts for the digit 8: 54\n",
            "Wrong counts for the digit 9: 50\n",
            "LoRA Layer l1_lora_A: 25088\n",
            "LoRA Layer l1_lora_B: 32000\n",
            "LoRA Layer l2_lora_A: 32000\n",
            "LoRA Layer l2_lora_B: 64000\n",
            "LoRA Layer l3_lora_A: 64000\n",
            "LoRA Layer l3_lora_B: 160\n",
            "Total number of parameters: 217,248\n"
          ]
        },
        {
          "output_type": "stream",
          "name": "stderr",
          "text": [
            "Training: 100%|██████████| 161/161 [00:05<00:00, 27.43it/s, loss=4.35]\n"
          ]
        },
        {
          "output_type": "stream",
          "name": "stdout",
          "text": [
            "Epoch [1/10] Train Loss: 4.352126787167899\n"
          ]
        },
        {
          "output_type": "stream",
          "name": "stderr",
          "text": [
            "Validation: 100%|██████████| 69/69 [00:02<00:00, 24.59it/s, loss=1.58]\n"
          ]
        },
        {
          "output_type": "stream",
          "name": "stdout",
          "text": [
            "Epoch [1/10] Validation Loss: 1.577645320823227\n"
          ]
        },
        {
          "output_type": "stream",
          "name": "stderr",
          "text": [
            "Training: 100%|██████████| 161/161 [00:05<00:00, 28.11it/s, loss=1.29]\n"
          ]
        },
        {
          "output_type": "stream",
          "name": "stdout",
          "text": [
            "Epoch [2/10] Train Loss: 1.2912891951406964\n"
          ]
        },
        {
          "output_type": "stream",
          "name": "stderr",
          "text": [
            "Validation: 100%|██████████| 69/69 [00:02<00:00, 32.18it/s, loss=0.544]\n"
          ]
        },
        {
          "output_type": "stream",
          "name": "stdout",
          "text": [
            "Epoch [2/10] Validation Loss: 0.5444097130194955\n"
          ]
        },
        {
          "output_type": "stream",
          "name": "stderr",
          "text": [
            "Training: 100%|██████████| 161/161 [00:06<00:00, 26.11it/s, loss=0.664]\n"
          ]
        },
        {
          "output_type": "stream",
          "name": "stdout",
          "text": [
            "Epoch [3/10] Train Loss: 0.663922017960815\n"
          ]
        },
        {
          "output_type": "stream",
          "name": "stderr",
          "text": [
            "Validation: 100%|██████████| 69/69 [00:02<00:00, 28.41it/s, loss=0.341]\n"
          ]
        },
        {
          "output_type": "stream",
          "name": "stdout",
          "text": [
            "Epoch [3/10] Validation Loss: 0.34148043134938116\n"
          ]
        },
        {
          "output_type": "stream",
          "name": "stderr",
          "text": [
            "Training: 100%|██████████| 161/161 [00:06<00:00, 24.15it/s, loss=0.468]\n"
          ]
        },
        {
          "output_type": "stream",
          "name": "stdout",
          "text": [
            "Epoch [4/10] Train Loss: 0.4677717858775062\n"
          ]
        },
        {
          "output_type": "stream",
          "name": "stderr",
          "text": [
            "Validation: 100%|██████████| 69/69 [00:02<00:00, 23.64it/s, loss=0.255]\n"
          ]
        },
        {
          "output_type": "stream",
          "name": "stdout",
          "text": [
            "Epoch [4/10] Validation Loss: 0.25521418786999106\n"
          ]
        },
        {
          "output_type": "stream",
          "name": "stderr",
          "text": [
            "Training: 100%|██████████| 161/161 [00:05<00:00, 28.81it/s, loss=0.381]\n"
          ]
        },
        {
          "output_type": "stream",
          "name": "stdout",
          "text": [
            "Epoch [5/10] Train Loss: 0.38058287155183945\n"
          ]
        },
        {
          "output_type": "stream",
          "name": "stderr",
          "text": [
            "Validation: 100%|██████████| 69/69 [00:02<00:00, 30.73it/s, loss=0.213]\n"
          ]
        },
        {
          "output_type": "stream",
          "name": "stdout",
          "text": [
            "Epoch [5/10] Validation Loss: 0.21315935858781787\n"
          ]
        },
        {
          "output_type": "stream",
          "name": "stderr",
          "text": [
            "Training: 100%|██████████| 161/161 [00:06<00:00, 25.05it/s, loss=0.322]\n"
          ]
        },
        {
          "output_type": "stream",
          "name": "stdout",
          "text": [
            "Epoch [6/10] Train Loss: 0.3224444496705665\n"
          ]
        },
        {
          "output_type": "stream",
          "name": "stderr",
          "text": [
            "Validation: 100%|██████████| 69/69 [00:02<00:00, 29.77it/s, loss=0.186]\n"
          ]
        },
        {
          "output_type": "stream",
          "name": "stdout",
          "text": [
            "Epoch [6/10] Validation Loss: 0.18623127728916597\n"
          ]
        },
        {
          "output_type": "stream",
          "name": "stderr",
          "text": [
            "Training: 100%|██████████| 161/161 [00:05<00:00, 29.24it/s, loss=0.276]\n"
          ]
        },
        {
          "output_type": "stream",
          "name": "stdout",
          "text": [
            "Epoch [7/10] Train Loss: 0.27613980910792857\n"
          ]
        },
        {
          "output_type": "stream",
          "name": "stderr",
          "text": [
            "Validation: 100%|██████████| 69/69 [00:02<00:00, 23.78it/s, loss=0.165]\n"
          ]
        },
        {
          "output_type": "stream",
          "name": "stdout",
          "text": [
            "Epoch [7/10] Validation Loss: 0.1654218351603418\n"
          ]
        },
        {
          "output_type": "stream",
          "name": "stderr",
          "text": [
            "Training: 100%|██████████| 161/161 [00:05<00:00, 27.01it/s, loss=0.263]\n"
          ]
        },
        {
          "output_type": "stream",
          "name": "stdout",
          "text": [
            "Epoch [8/10] Train Loss: 0.2634423261751299\n"
          ]
        },
        {
          "output_type": "stream",
          "name": "stderr",
          "text": [
            "Validation: 100%|██████████| 69/69 [00:02<00:00, 32.18it/s, loss=0.154]\n"
          ]
        },
        {
          "output_type": "stream",
          "name": "stdout",
          "text": [
            "Epoch [8/10] Validation Loss: 0.15418229484255763\n"
          ]
        },
        {
          "output_type": "stream",
          "name": "stderr",
          "text": [
            "Training: 100%|██████████| 161/161 [00:06<00:00, 26.00it/s, loss=0.238]\n"
          ]
        },
        {
          "output_type": "stream",
          "name": "stdout",
          "text": [
            "Epoch [9/10] Train Loss: 0.23776808941031094\n"
          ]
        },
        {
          "output_type": "stream",
          "name": "stderr",
          "text": [
            "Validation: 100%|██████████| 69/69 [00:02<00:00, 30.73it/s, loss=0.139]\n"
          ]
        },
        {
          "output_type": "stream",
          "name": "stdout",
          "text": [
            "Epoch [9/10] Validation Loss: 0.13917132040512734\n"
          ]
        },
        {
          "output_type": "stream",
          "name": "stderr",
          "text": [
            "Training: 100%|██████████| 161/161 [00:05<00:00, 28.40it/s, loss=0.216]\n"
          ]
        },
        {
          "output_type": "stream",
          "name": "stdout",
          "text": [
            "Epoch [10/10] Train Loss: 0.21601604971086016\n"
          ]
        },
        {
          "output_type": "stream",
          "name": "stderr",
          "text": [
            "Validation: 100%|██████████| 69/69 [00:02<00:00, 27.72it/s, loss=0.131]\n"
          ]
        },
        {
          "output_type": "stream",
          "name": "stdout",
          "text": [
            "Epoch [10/10] Validation Loss: 0.13082963147241136\n"
          ]
        },
        {
          "output_type": "stream",
          "name": "stderr",
          "text": [
            "subset2: 100%|██████████| 38/38 [00:01<00:00, 19.81it/s]"
          ]
        },
        {
          "output_type": "stream",
          "name": "stdout",
          "text": [
            "Accuracy: 0.96\n",
            "Wrong counts for the digit 5: 37\n",
            "Wrong counts for the digit 6: 17\n",
            "Wrong counts for the digit 7: 21\n",
            "Wrong counts for the digit 8: 72\n",
            "Wrong counts for the digit 9: 48\n",
            "LoRA Layer l1_lora_A: 50176\n",
            "LoRA Layer l1_lora_B: 64000\n",
            "LoRA Layer l2_lora_A: 64000\n",
            "LoRA Layer l2_lora_B: 128000\n",
            "LoRA Layer l3_lora_A: 128000\n",
            "LoRA Layer l3_lora_B: 320\n",
            "Total number of parameters: 434,496\n"
          ]
        },
        {
          "output_type": "stream",
          "name": "stderr",
          "text": [
            "\n"
          ]
        }
      ],
      "source": [
        "lora_ranks = [1, 2, 4, 8, 16, 32, 64]\n",
        "\n",
        "test_accuracies_lora = []\n",
        "parameters_added_lora = []\n",
        "\n",
        "for rank in lora_ranks:\n",
        "    modified_net = ModifiedClassifier(lora_rank=rank).to(device)\n",
        "    _, _ = train(train_loader_subset2, val_loader_subset2, \"subset2\", modified_net, epochs=10)\n",
        "\n",
        "    test_accuracy = test(test_loader_subset2, \"subset2\", modified_net, {i: 0 for i in range(5, 10)})\n",
        "    test_accuracies_lora.append(test_accuracy)\n",
        "\n",
        "    parameters_added = CountLoraLayerParameters(modified_net)\n",
        "    parameters_added_lora.append(parameters_added)\n"
      ],
      "id": "cAVDKwmnesFP"
    },
    {
      "cell_type": "code",
      "source": [
        "# Number of Parameters added\n",
        "print(\"Number of Parameters Added in each Rank\")\n",
        "for i in range(len(lora_ranks)):\n",
        "  print(f'Rank {lora_ranks[i]}: {parameters_added_lora[i]}')\n",
        "  print(\"---\")"
      ],
      "metadata": {
        "colab": {
          "base_uri": "https://localhost:8080/"
        },
        "id": "xKb_EiA3jieh",
        "outputId": "26973981-f4aa-4086-a874-632cadd8650d"
      },
      "id": "xKb_EiA3jieh",
      "execution_count": 56,
      "outputs": [
        {
          "output_type": "stream",
          "name": "stdout",
          "text": [
            "Number of Parameters Added in each Rank\n",
            "Rank 1: 6789\n",
            "---\n",
            "Rank 2: 13578\n",
            "---\n",
            "Rank 4: 27156\n",
            "---\n",
            "Rank 8: 54312\n",
            "---\n",
            "Rank 16: 108624\n",
            "---\n",
            "Rank 32: 217248\n",
            "---\n",
            "Rank 64: 434496\n",
            "---\n"
          ]
        }
      ]
    },
    {
      "cell_type": "code",
      "source": [
        "plt.figure(figsize=(10, 6))\n",
        "plt.plot(lora_ranks, test_accuracies_lora, label='LoRA Fine-tuning', marker='o')\n",
        "plt.axhline(y=accuracy_subset2, color='r', linestyle='-', label='Usual Fine-tuning')\n",
        "plt.xlabel('LoRA Rank')\n",
        "plt.ylabel('Test Accuracy')\n",
        "plt.title('Test Accuracy as a Function of LoRA Rank on MNIST 5...9')\n",
        "plt.legend()\n",
        "plt.xscale('log')\n",
        "plt.show()"
      ],
      "metadata": {
        "colab": {
          "base_uri": "https://localhost:8080/",
          "height": 568
        },
        "id": "1MFVneUljl46",
        "outputId": "0bbf4b7b-18fe-4c93-b072-9b3618d49c1e"
      },
      "id": "1MFVneUljl46",
      "execution_count": 57,
      "outputs": [
        {
          "output_type": "display_data",
          "data": {
            "text/plain": [
              "<Figure size 1000x600 with 1 Axes>"
            ],
            "image/png": "[encoded data removed]"
          },
          "metadata": {}
        }
      ]
    },
    {
      "cell_type": "markdown",
      "source": [
        "**[Observation]**  \n",
        "The paper originally stated to \"simply set α to the first r we try and do not tune it.\" We disagree with this statement. Numerous values of alphas have been tested. The alpha value used the final model is 64, with $\\Delta{Wx} \\times \\frac{\\alpha}{r}$ applied in the LoRA linear layers. Generally speaking, as the LoRA rank increases, the test accuracy increases at the same time, along with an increase in the number of parameters added as well. However, while the second last LoRA rank (=32) reached the highest accuracy, the last LoRA rank (=64) appears to have a slight drop in accuracy, and the trend becomes flatter. We also observe that the LoRA approach can further fine-tune and achieve better accuracy than the usual fune-tuning method. Unlike what was stated in the paper, this exercise suggests that the both alpha value and the rank are hyperparameters to be determined to achieve an excellent performance in LoRA models.  \n",
        "\n",
        "---\n",
        "**[What are the pros of LoRA?]**  \n",
        "- *Computational Efficiency* : It only updates a small fraction of the model's parameters so that it is able to save computational resources and thus enables the adaptation of very large models without retraining all again.\n",
        "\n",
        "- *Flexibility* : Able to fine-tune models for new tasks without largely forgetting pre-trained model parameters.\n",
        "\n",
        "- *Scalability* : As models become larger, fine-tuning and retraining entirely become impossible. LoRA's method scales better because the number of parameters added does not grow proportionally with the model size.\n",
        "\n",
        "---\n",
        "**[What possible applications do you envision for LoRA?]**  \n",
        "- *Transfer Learning* : LoRA can be applied when adapting LLMs to specific domains or tasks, for example, legal document analysis or information extraction.\n",
        "\n",
        "- *Edge Computing* : For applications where the model needs to be deployed on devices with limited computational resources, LoRA fine-tuning allows the deployment of powerful models in a resource-constrained environment.\n",
        "\n",
        "- *Personalization* : In some cases, like product recommendation systems, the personalization is key. Therefore, LoRA can quickly adapt a general model to individual users' preferences without extensive retraining."
      ],
      "metadata": {
        "id": "xYjkuDF1kuEK"
      },
      "id": "xYjkuDF1kuEK"
    }
  ],
  "metadata": {
    "kernelspec": {
      "display_name": "Python 3",
      "name": "python3"
    },
    "kfiletag": "rn5CLfwuJLj1",
    "language_info": {
      "codemirror_mode": {
        "name": "ipython",
        "version": 3
      },
      "file_extension": ".py",
      "mimetype": "text/x-python",
      "name": "python",
      "nbconvert_exporter": "python",
      "pygments_lexer": "ipython3",
      "version": "3.7.6"
    },
    "colab": {
      "provenance": [],
      "toc_visible": true,
      "gpuType": "T4"
    },
    "accelerator": "GPU"
  },
  "nbformat": 4,
  "nbformat_minor": 5
}