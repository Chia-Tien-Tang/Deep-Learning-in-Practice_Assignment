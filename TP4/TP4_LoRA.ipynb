{
  "cells": [
    {
      "cell_type": "markdown",
      "metadata": {
        "cell_ktag": "fQc1gnyBXDLz",
        "id": "G5l-1xjvNRut"
      },
      "source": [
        "# Implementing a Low Rank Adapter (LoRA) (8 points)\n",
        "\n",
        "Objective of this exercice:\n",
        "\n",
        "Given a neural network (NN) classifier pre-trained on the subset of MNIST containing digits 0...4,\n",
        "you will fine-tune this NN, by optimizing all weights, and compare the test accuracy of this baseline model versus fine-tuning a LoRA.\n",
        "\n",
        "The neural network that we will define is artificially big because LoRA is usually applied to Large Language Models of billions of parameters\n",
        "\n",
        "**What is a LoRA ?**\n",
        "\n",
        "LoRA (Low-Rank Adaptation of Large Language Models) is a popular and lightweight training technique that significantly reduces the number of trainable parameters. It works by inserting a smaller number of new weights into the model and only these are trained. This makes training with LoRA much faster, memory-efficient, and produces smaller model weights (a few hundred MBs), which are easier to store and share.\n",
        "\n",
        "<div style=\"display: flex; justify-content: space-between;\">\n",
        "    <img src='https://www.lri.fr/~gcharpia/deeppractice/2024/TP4/imgs/lora_fig.png' style=\"width: 30%;\">\n",
        "    <img src='https://www.lri.fr/~gcharpia/deeppractice/2024/TP4/imgs/lora_text.png' style=\"width: 70%;\">\n",
        "</div>\n",
        "\n",
        "\n",
        "\n",
        "References:\n",
        "\n",
        "https://arxiv.org/pdf/2106.09685.pdf\n",
        "\n",
        "https://lightning.ai/pages/community/tutorial/lora-llm/\n",
        "\n",
        "https://huggingface.co/docs/diffusers/main/en/training/lora\n"
      ],
      "id": "G5l-1xjvNRut"
    },
    {
      "cell_type": "code",
      "execution_count": 1,
      "metadata": {
        "cell_ktag": "fQc1gnyBXDLz",
        "colab": {
          "base_uri": "https://localhost:8080/"
        },
        "id": "9r_lJpulNRuu",
        "outputId": "8ed38bf9-811f-472f-d04b-dbe4e8230b5c"
      },
      "outputs": [
        {
          "output_type": "stream",
          "name": "stdout",
          "text": [
            "Tesla T4\n",
            "Memory Usage:\n",
            "Allocated: 0.0 GB\n",
            "Cached:    0.0 GB\n"
          ]
        }
      ],
      "source": [
        "import torch\n",
        "import torch.nn as nn\n",
        "import torchvision.datasets as datasets\n",
        "from torch.utils.data import DataLoader, random_split, Subset\n",
        "import torch.nn.utils.parametrize as parametrize\n",
        "import torchvision.transforms as transforms\n",
        "\n",
        "import numpy as np\n",
        "import matplotlib.pyplot as plt\n",
        "\n",
        "from tqdm import tqdm\n",
        "\n",
        "# Make torch deterministic\n",
        "_ = torch.manual_seed(0)\n",
        "\n",
        "\n",
        "# Decide which device we want to run on\n",
        "ngpu=1\n",
        "device = torch.device(\"cuda:0\" if (torch.cuda.is_available() and ngpu > 0) else \"cpu\")\n",
        "\n",
        "if device.type == 'cuda':\n",
        "    print(torch.cuda.get_device_name(0))\n",
        "    print('Memory Usage:')\n",
        "    print('Allocated:', round(torch.cuda.memory_allocated(0)/1024**3,1), 'GB')\n",
        "    print('Cached:   ', round(torch.cuda.memory_reserved(0)/1024**3,1), 'GB')"
      ],
      "id": "9r_lJpulNRuu"
    },
    {
      "cell_type": "code",
      "execution_count": 2,
      "metadata": {
        "cell_ktag": "fQc1gnyBXDLz",
        "colab": {
          "base_uri": "https://localhost:8080/"
        },
        "id": "YWWK74PmNRuv",
        "outputId": "5064e56c-2916-46cb-e3ff-94c4d5b006d5"
      },
      "outputs": [
        {
          "output_type": "stream",
          "name": "stdout",
          "text": [
            "Downloading http://yann.lecun.com/exdb/mnist/train-images-idx3-ubyte.gz\n",
            "Downloading http://yann.lecun.com/exdb/mnist/train-images-idx3-ubyte.gz to ./data/MNIST/raw/train-images-idx3-ubyte.gz\n"
          ]
        },
        {
          "output_type": "stream",
          "name": "stderr",
          "text": [
            "100%|██████████| 9912422/9912422 [00:00<00:00, 263197381.96it/s]"
          ]
        },
        {
          "output_type": "stream",
          "name": "stdout",
          "text": [
            "Extracting ./data/MNIST/raw/train-images-idx3-ubyte.gz to ./data/MNIST/raw\n"
          ]
        },
        {
          "output_type": "stream",
          "name": "stderr",
          "text": [
            "\n"
          ]
        },
        {
          "output_type": "stream",
          "name": "stdout",
          "text": [
            "\n",
            "Downloading http://yann.lecun.com/exdb/mnist/train-labels-idx1-ubyte.gz\n",
            "Downloading http://yann.lecun.com/exdb/mnist/train-labels-idx1-ubyte.gz to ./data/MNIST/raw/train-labels-idx1-ubyte.gz\n"
          ]
        },
        {
          "output_type": "stream",
          "name": "stderr",
          "text": [
            "100%|██████████| 28881/28881 [00:00<00:00, 32311468.08it/s]\n"
          ]
        },
        {
          "output_type": "stream",
          "name": "stdout",
          "text": [
            "Extracting ./data/MNIST/raw/train-labels-idx1-ubyte.gz to ./data/MNIST/raw\n",
            "\n",
            "Downloading http://yann.lecun.com/exdb/mnist/t10k-images-idx3-ubyte.gz\n",
            "Downloading http://yann.lecun.com/exdb/mnist/t10k-images-idx3-ubyte.gz to ./data/MNIST/raw/t10k-images-idx3-ubyte.gz\n"
          ]
        },
        {
          "output_type": "stream",
          "name": "stderr",
          "text": [
            "100%|██████████| 1648877/1648877 [00:00<00:00, 52075142.66it/s]"
          ]
        },
        {
          "output_type": "stream",
          "name": "stdout",
          "text": [
            "Extracting ./data/MNIST/raw/t10k-images-idx3-ubyte.gz to ./data/MNIST/raw\n"
          ]
        },
        {
          "output_type": "stream",
          "name": "stderr",
          "text": [
            "\n"
          ]
        },
        {
          "output_type": "stream",
          "name": "stdout",
          "text": [
            "\n",
            "Downloading http://yann.lecun.com/exdb/mnist/t10k-labels-idx1-ubyte.gz\n",
            "Downloading http://yann.lecun.com/exdb/mnist/t10k-labels-idx1-ubyte.gz to ./data/MNIST/raw/t10k-labels-idx1-ubyte.gz\n"
          ]
        },
        {
          "output_type": "stream",
          "name": "stderr",
          "text": [
            "100%|██████████| 4542/4542 [00:00<00:00, 19885729.40it/s]\n"
          ]
        },
        {
          "output_type": "stream",
          "name": "stdout",
          "text": [
            "Extracting ./data/MNIST/raw/t10k-labels-idx1-ubyte.gz to ./data/MNIST/raw\n",
            "\n"
          ]
        }
      ],
      "source": [
        "#Normalizing MNIST\n",
        "#These values are the mean and std deviation of the MNIST dataset.\n",
        "transform = transforms.Compose([transforms.ToTensor(), transforms.Normalize((0.1307,), (0.3081,))])\n",
        "\n",
        "# load MNIST\n",
        "mnist_train = datasets.MNIST(root='./data', train=True, download=True, transform=transform)\n",
        "mnist_test = datasets.MNIST(root='./data', train=False, download=True, transform=transform)\n",
        "\n",
        "# keep images of desired labels\n",
        "class_names = [0, 1, 2, 3, 4]\n",
        "\n",
        "# create a mask to filter indices for each label\n",
        "train_mask = torch.tensor([label in class_names for label in mnist_train.targets])\n",
        "test_mask = torch.tensor([label in class_names for label in mnist_test.targets])\n",
        "\n",
        "# Create Subset datasets for train, validation, and test\n",
        "train_dataset = Subset(mnist_train, torch.where(train_mask)[0])\n",
        "test_dataset = Subset(mnist_test, torch.where(test_mask)[0])\n",
        "\n",
        "# split train into train & validation\n",
        "train_size = int(0.7 * len(train_dataset))\n",
        "val_size = len(train_dataset) - train_size\n",
        "train_dataset, val_dataset = random_split(train_dataset, [train_size, val_size])\n",
        "\n",
        "batch_size=128\n",
        "\n",
        "train_loader = DataLoader(train_dataset, batch_size=batch_size, shuffle=True)\n",
        "val_loader = DataLoader(val_dataset, batch_size=batch_size, shuffle=False)\n",
        "test_loader = DataLoader(test_dataset, batch_size=batch_size, shuffle=False)"
      ],
      "id": "YWWK74PmNRuv"
    },
    {
      "cell_type": "code",
      "execution_count": 3,
      "metadata": {
        "cell_ktag": "fQc1gnyBXDLz",
        "colab": {
          "base_uri": "https://localhost:8080/"
        },
        "id": "IGCBS5gxNRuv",
        "outputId": "e9f6a446-2d92-4506-9821-cd84bc1b893b"
      },
      "outputs": [
        {
          "output_type": "execute_result",
          "data": {
            "text/plain": [
              "(21417, 9179, 5139)"
            ]
          },
          "metadata": {},
          "execution_count": 3
        }
      ],
      "source": [
        "len(train_dataset),len(val_dataset),len(test_dataset)"
      ],
      "id": "IGCBS5gxNRuv"
    },
    {
      "cell_type": "markdown",
      "metadata": {
        "cell_ktag": "fQc1gnyBXDLz",
        "id": "kOq1UjtyNRuv"
      },
      "source": [
        "# Architecture of the classifier"
      ],
      "id": "kOq1UjtyNRuv"
    },
    {
      "cell_type": "code",
      "execution_count": 4,
      "metadata": {
        "cell_ktag": "fQc1gnyBXDLz",
        "id": "Zbig5877NRuw"
      },
      "outputs": [],
      "source": [
        "#note that last layer has 5 neurons for digits 0...4\n",
        "#and the same layer will be used for 5...9\n",
        "\n",
        "class classifier(nn.Module):\n",
        "    def __init__(self, hidden_size_1=1000, hidden_size_2=2000):\n",
        "        super(classifier,self).__init__()\n",
        "\n",
        "        self.linear1 = nn.Linear(28*28, hidden_size_1)\n",
        "        self.linear2 = nn.Linear(hidden_size_1, hidden_size_2)\n",
        "        self.linear3 = nn.Linear(hidden_size_2, 5)\n",
        "        self.relu = nn.ReLU()\n",
        "\n",
        "\n",
        "        self.dropout = nn.Dropout(0.5)\n",
        "\n",
        "\n",
        "\n",
        "    def forward(self, img):\n",
        "        x = img.view(-1, 28*28)\n",
        "        x = self.relu(self.linear1(x))\n",
        "        x = self.dropout(x)\n",
        "        x = self.relu(self.linear2(x))\n",
        "        x = self.dropout(x)\n",
        "        x = self.linear3(x)\n",
        "        return x\n",
        "\n",
        "net = classifier().to(device)"
      ],
      "id": "Zbig5877NRuw"
    },
    {
      "cell_type": "markdown",
      "metadata": {
        "cell_ktag": "fQc1gnyBXDLz",
        "id": "V3Nht69jNRuw"
      },
      "source": [
        "# Code for training loop & validation"
      ],
      "id": "V3Nht69jNRuw"
    },
    {
      "cell_type": "code",
      "execution_count": 5,
      "metadata": {
        "cell_ktag": "fQc1gnyBXDLz",
        "id": "3r2bnCnFNRuw"
      },
      "outputs": [],
      "source": [
        "#We set a lower learning rate when we will fine-tune on the subset of MNIST containing digits 5...9\n",
        "#so that fine-tuning don't change pre-training weights too much.\n",
        "\n",
        "#Since the NN is big, we add weight decay to regularize it otherwise it will overfit too much too fast\n",
        "def adjust_optimizer(name, parameters):\n",
        "    lr = 0.001\n",
        "    if name == \"subset2\":\n",
        "        lr = 0.00001\n",
        "    return torch.optim.Adam(parameters, lr=lr, weight_decay=0.0001)\n",
        "\n",
        "# to do label prediction during training we use argmax on the last layer, which output a vector of 5 components\n",
        "# so y_hat will be between 0 and 4, we thus have to \"translate\" y_true so that it's in the right range\n",
        "\n",
        "# the name variable will be used later on to recognize on which dataset we are\n",
        "# and do the corresponding label translation, and set the good hyperparameters\n",
        "def process_labels(name, labels):\n",
        "    if 'subset2' in name:\n",
        "        labels = labels - 5\n",
        "    return labels\n",
        "\n",
        "\n",
        "def run_epoch(loader, name, net, optimizer, cross_el, total_iterations_limit=None):\n",
        "    net.train() if optimizer else net.eval()\n",
        "\n",
        "    loss_sum = 0\n",
        "    num_iterations = 0\n",
        "\n",
        "    data_iterator = tqdm(loader, desc=f'Training' if optimizer else f'Validation')\n",
        "    if total_iterations_limit is not None:\n",
        "        data_iterator.total = total_iterations_limit\n",
        "\n",
        "    for data in data_iterator:\n",
        "        num_iterations += 1\n",
        "        x, y = data\n",
        "        x, y = x.to(device), y.to(device)\n",
        "        x = x.view(-1, 28*28)\n",
        "        optimizer.zero_grad() if optimizer else None\n",
        "        output = net(x)\n",
        "        loss = cross_el(output, process_labels(name, y))\n",
        "        loss_sum += loss.item()\n",
        "        avg_loss = loss_sum / num_iterations\n",
        "        data_iterator.set_postfix(loss=avg_loss)\n",
        "        if optimizer:\n",
        "            loss.backward()\n",
        "            optimizer.step()\n",
        "\n",
        "    return loss_sum / len(data_iterator)\n",
        "\n",
        "def train(train_loader, val_loader, name, net, epochs=5, total_iterations_limit=None):\n",
        "    cross_el = nn.CrossEntropyLoss()\n",
        "    optimizer = adjust_optimizer(name, net.parameters())\n",
        "\n",
        "    total_iterations = 0\n",
        "    train_loss_lst, val_loss_lst = [], []\n",
        "\n",
        "    for epoch in range(epochs):\n",
        "        train_loss = run_epoch(train_loader, name, net, optimizer, cross_el, total_iterations_limit)\n",
        "        print(f\"Epoch [{epoch+1}/{epochs}] Train Loss: {train_loss}\")\n",
        "        train_loss_lst.append(train_loss)\n",
        "\n",
        "        val_loss = run_epoch(val_loader, name, net, None, cross_el, total_iterations_limit)\n",
        "        print(f\"Epoch [{epoch+1}/{epochs}] Validation Loss: {val_loss}\")\n",
        "        val_loss_lst.append(val_loss)\n",
        "\n",
        "    return train_loss_lst, val_loss_lst"
      ],
      "id": "3r2bnCnFNRuw"
    },
    {
      "cell_type": "code",
      "execution_count": 6,
      "metadata": {
        "cell_ktag": "fQc1gnyBXDLz",
        "id": "qXpZQ8A5NRuw"
      },
      "outputs": [],
      "source": [
        "def plot_losses(train_loss_lst, val_loss_lst):\n",
        "    plt.plot(train_loss_lst,label=\"train\")\n",
        "    plt.plot(val_loss_lst,label=\"val\")\n",
        "    plt.legend()"
      ],
      "id": "qXpZQ8A5NRuw"
    },
    {
      "cell_type": "markdown",
      "metadata": {
        "cell_ktag": "fQc1gnyBXDLz",
        "id": "rODw4RYRNRuw"
      },
      "source": [
        "# If you have GPU access, or simply want to train your own model, run this code\n",
        "\n",
        "> 縮排段落\n",
        "\n"
      ],
      "id": "rODw4RYRNRuw"
    },
    {
      "cell_type": "code",
      "execution_count": 7,
      "metadata": {
        "cell_ktag": "fQc1gnyBXDLz",
        "colab": {
          "base_uri": "https://localhost:8080/"
        },
        "id": "sXjr5rEINRuw",
        "outputId": "64b74a9b-0bd0-42aa-be03-d3faddd804de"
      },
      "outputs": [
        {
          "output_type": "stream",
          "name": "stderr",
          "text": [
            "Training: 100%|██████████| 168/168 [00:05<00:00, 28.03it/s, loss=0.15]\n"
          ]
        },
        {
          "output_type": "stream",
          "name": "stdout",
          "text": [
            "Epoch [1/30] Train Loss: 0.14974932339308517\n"
          ]
        },
        {
          "output_type": "stream",
          "name": "stderr",
          "text": [
            "Validation: 100%|██████████| 72/72 [00:02<00:00, 28.17it/s, loss=0.0825]\n"
          ]
        },
        {
          "output_type": "stream",
          "name": "stdout",
          "text": [
            "Epoch [1/30] Validation Loss: 0.08251338893185473\n"
          ]
        },
        {
          "output_type": "stream",
          "name": "stderr",
          "text": [
            "Training: 100%|██████████| 168/168 [00:08<00:00, 20.18it/s, loss=0.0727]\n"
          ]
        },
        {
          "output_type": "stream",
          "name": "stdout",
          "text": [
            "Epoch [2/30] Train Loss: 0.0727058290171304\n"
          ]
        },
        {
          "output_type": "stream",
          "name": "stderr",
          "text": [
            "Validation: 100%|██████████| 72/72 [00:02<00:00, 32.59it/s, loss=0.0739]\n"
          ]
        },
        {
          "output_type": "stream",
          "name": "stdout",
          "text": [
            "Epoch [2/30] Validation Loss: 0.07392260182597157\n"
          ]
        },
        {
          "output_type": "stream",
          "name": "stderr",
          "text": [
            "Training: 100%|██████████| 168/168 [00:05<00:00, 28.06it/s, loss=0.0526]\n"
          ]
        },
        {
          "output_type": "stream",
          "name": "stdout",
          "text": [
            "Epoch [3/30] Train Loss: 0.05263905182004064\n"
          ]
        },
        {
          "output_type": "stream",
          "name": "stderr",
          "text": [
            "Validation: 100%|██████████| 72/72 [00:02<00:00, 34.08it/s, loss=0.045]\n"
          ]
        },
        {
          "output_type": "stream",
          "name": "stdout",
          "text": [
            "Epoch [3/30] Validation Loss: 0.044970981440403394\n"
          ]
        },
        {
          "output_type": "stream",
          "name": "stderr",
          "text": [
            "Training: 100%|██████████| 168/168 [00:05<00:00, 30.75it/s, loss=0.051]\n"
          ]
        },
        {
          "output_type": "stream",
          "name": "stdout",
          "text": [
            "Epoch [4/30] Train Loss: 0.051019202169430046\n"
          ]
        },
        {
          "output_type": "stream",
          "name": "stderr",
          "text": [
            "Validation: 100%|██████████| 72/72 [00:02<00:00, 28.77it/s, loss=0.0399]\n"
          ]
        },
        {
          "output_type": "stream",
          "name": "stdout",
          "text": [
            "Epoch [4/30] Validation Loss: 0.039921130816057686\n"
          ]
        },
        {
          "output_type": "stream",
          "name": "stderr",
          "text": [
            "Training: 100%|██████████| 168/168 [00:04<00:00, 33.61it/s, loss=0.0439]\n"
          ]
        },
        {
          "output_type": "stream",
          "name": "stdout",
          "text": [
            "Epoch [5/30] Train Loss: 0.04388246592550006\n"
          ]
        },
        {
          "output_type": "stream",
          "name": "stderr",
          "text": [
            "Validation: 100%|██████████| 72/72 [00:02<00:00, 35.54it/s, loss=0.057]\n"
          ]
        },
        {
          "output_type": "stream",
          "name": "stdout",
          "text": [
            "Epoch [5/30] Validation Loss: 0.05699470036132778\n"
          ]
        },
        {
          "output_type": "stream",
          "name": "stderr",
          "text": [
            "Training: 100%|██████████| 168/168 [00:06<00:00, 24.36it/s, loss=0.0388]\n"
          ]
        },
        {
          "output_type": "stream",
          "name": "stdout",
          "text": [
            "Epoch [6/30] Train Loss: 0.0388344281292077\n"
          ]
        },
        {
          "output_type": "stream",
          "name": "stderr",
          "text": [
            "Validation: 100%|██████████| 72/72 [00:02<00:00, 33.99it/s, loss=0.0555]\n"
          ]
        },
        {
          "output_type": "stream",
          "name": "stdout",
          "text": [
            "Epoch [6/30] Validation Loss: 0.0555133964581829\n"
          ]
        },
        {
          "output_type": "stream",
          "name": "stderr",
          "text": [
            "Training: 100%|██████████| 168/168 [00:06<00:00, 26.68it/s, loss=0.0382]\n"
          ]
        },
        {
          "output_type": "stream",
          "name": "stdout",
          "text": [
            "Epoch [7/30] Train Loss: 0.03818635740650019\n"
          ]
        },
        {
          "output_type": "stream",
          "name": "stderr",
          "text": [
            "Validation: 100%|██████████| 72/72 [00:02<00:00, 29.63it/s, loss=0.0471]\n"
          ]
        },
        {
          "output_type": "stream",
          "name": "stdout",
          "text": [
            "Epoch [7/30] Validation Loss: 0.04714426022757026\n"
          ]
        },
        {
          "output_type": "stream",
          "name": "stderr",
          "text": [
            "Training: 100%|██████████| 168/168 [00:05<00:00, 33.32it/s, loss=0.0322]\n"
          ]
        },
        {
          "output_type": "stream",
          "name": "stdout",
          "text": [
            "Epoch [8/30] Train Loss: 0.032195798712477665\n"
          ]
        },
        {
          "output_type": "stream",
          "name": "stderr",
          "text": [
            "Validation: 100%|██████████| 72/72 [00:02<00:00, 34.29it/s, loss=0.0435]\n"
          ]
        },
        {
          "output_type": "stream",
          "name": "stdout",
          "text": [
            "Epoch [8/30] Validation Loss: 0.04350943462062181\n"
          ]
        },
        {
          "output_type": "stream",
          "name": "stderr",
          "text": [
            "Training: 100%|██████████| 168/168 [00:05<00:00, 29.25it/s, loss=0.0325]\n"
          ]
        },
        {
          "output_type": "stream",
          "name": "stdout",
          "text": [
            "Epoch [9/30] Train Loss: 0.032548023160156196\n"
          ]
        },
        {
          "output_type": "stream",
          "name": "stderr",
          "text": [
            "Validation: 100%|██████████| 72/72 [00:02<00:00, 33.69it/s, loss=0.0363]\n"
          ]
        },
        {
          "output_type": "stream",
          "name": "stdout",
          "text": [
            "Epoch [9/30] Validation Loss: 0.03634637334946294\n"
          ]
        },
        {
          "output_type": "stream",
          "name": "stderr",
          "text": [
            "Training: 100%|██████████| 168/168 [00:05<00:00, 31.97it/s, loss=0.0323]\n"
          ]
        },
        {
          "output_type": "stream",
          "name": "stdout",
          "text": [
            "Epoch [10/30] Train Loss: 0.032335361063208744\n"
          ]
        },
        {
          "output_type": "stream",
          "name": "stderr",
          "text": [
            "Validation: 100%|██████████| 72/72 [00:02<00:00, 26.36it/s, loss=0.0439]\n"
          ]
        },
        {
          "output_type": "stream",
          "name": "stdout",
          "text": [
            "Epoch [10/30] Validation Loss: 0.04394077951696494\n"
          ]
        },
        {
          "output_type": "stream",
          "name": "stderr",
          "text": [
            "Training: 100%|██████████| 168/168 [00:05<00:00, 32.86it/s, loss=0.0353]\n"
          ]
        },
        {
          "output_type": "stream",
          "name": "stdout",
          "text": [
            "Epoch [11/30] Train Loss: 0.03525609094746566\n"
          ]
        },
        {
          "output_type": "stream",
          "name": "stderr",
          "text": [
            "Validation: 100%|██████████| 72/72 [00:02<00:00, 34.37it/s, loss=0.0402]\n"
          ]
        },
        {
          "output_type": "stream",
          "name": "stdout",
          "text": [
            "Epoch [11/30] Validation Loss: 0.04019067670136186\n"
          ]
        },
        {
          "output_type": "stream",
          "name": "stderr",
          "text": [
            "Training: 100%|██████████| 168/168 [00:05<00:00, 29.31it/s, loss=0.0289]\n"
          ]
        },
        {
          "output_type": "stream",
          "name": "stdout",
          "text": [
            "Epoch [12/30] Train Loss: 0.02887745749432638\n"
          ]
        },
        {
          "output_type": "stream",
          "name": "stderr",
          "text": [
            "Validation: 100%|██████████| 72/72 [00:02<00:00, 34.03it/s, loss=0.048]\n"
          ]
        },
        {
          "output_type": "stream",
          "name": "stdout",
          "text": [
            "Epoch [12/30] Validation Loss: 0.047962664700106766\n"
          ]
        },
        {
          "output_type": "stream",
          "name": "stderr",
          "text": [
            "Training: 100%|██████████| 168/168 [00:05<00:00, 32.73it/s, loss=0.0332]\n"
          ]
        },
        {
          "output_type": "stream",
          "name": "stdout",
          "text": [
            "Epoch [13/30] Train Loss: 0.033212027780661756\n"
          ]
        },
        {
          "output_type": "stream",
          "name": "stderr",
          "text": [
            "Validation: 100%|██████████| 72/72 [00:02<00:00, 31.54it/s, loss=0.0495]\n"
          ]
        },
        {
          "output_type": "stream",
          "name": "stdout",
          "text": [
            "Epoch [13/30] Validation Loss: 0.04945662647716947\n"
          ]
        },
        {
          "output_type": "stream",
          "name": "stderr",
          "text": [
            "Training: 100%|██████████| 168/168 [00:05<00:00, 28.39it/s, loss=0.0241]\n"
          ]
        },
        {
          "output_type": "stream",
          "name": "stdout",
          "text": [
            "Epoch [14/30] Train Loss: 0.024146842429088013\n"
          ]
        },
        {
          "output_type": "stream",
          "name": "stderr",
          "text": [
            "Validation: 100%|██████████| 72/72 [00:02<00:00, 34.56it/s, loss=0.0454]\n"
          ]
        },
        {
          "output_type": "stream",
          "name": "stdout",
          "text": [
            "Epoch [14/30] Validation Loss: 0.045374524898256316\n"
          ]
        },
        {
          "output_type": "stream",
          "name": "stderr",
          "text": [
            "Training: 100%|██████████| 168/168 [00:05<00:00, 30.63it/s, loss=0.0311]\n"
          ]
        },
        {
          "output_type": "stream",
          "name": "stdout",
          "text": [
            "Epoch [15/30] Train Loss: 0.031124311276514726\n"
          ]
        },
        {
          "output_type": "stream",
          "name": "stderr",
          "text": [
            "Validation: 100%|██████████| 72/72 [00:02<00:00, 30.72it/s, loss=0.0622]\n"
          ]
        },
        {
          "output_type": "stream",
          "name": "stdout",
          "text": [
            "Epoch [15/30] Validation Loss: 0.062247429725781935\n"
          ]
        },
        {
          "output_type": "stream",
          "name": "stderr",
          "text": [
            "Training: 100%|██████████| 168/168 [00:05<00:00, 32.79it/s, loss=0.0277]\n"
          ]
        },
        {
          "output_type": "stream",
          "name": "stdout",
          "text": [
            "Epoch [16/30] Train Loss: 0.027696087993977665\n"
          ]
        },
        {
          "output_type": "stream",
          "name": "stderr",
          "text": [
            "Validation: 100%|██████████| 72/72 [00:02<00:00, 34.11it/s, loss=0.0529]\n"
          ]
        },
        {
          "output_type": "stream",
          "name": "stdout",
          "text": [
            "Epoch [16/30] Validation Loss: 0.0529151780938264\n"
          ]
        },
        {
          "output_type": "stream",
          "name": "stderr",
          "text": [
            "Training: 100%|██████████| 168/168 [00:05<00:00, 28.98it/s, loss=0.0261]\n"
          ]
        },
        {
          "output_type": "stream",
          "name": "stdout",
          "text": [
            "Epoch [17/30] Train Loss: 0.026115033389335924\n"
          ]
        },
        {
          "output_type": "stream",
          "name": "stderr",
          "text": [
            "Validation: 100%|██████████| 72/72 [00:02<00:00, 32.91it/s, loss=0.042]\n"
          ]
        },
        {
          "output_type": "stream",
          "name": "stdout",
          "text": [
            "Epoch [17/30] Validation Loss: 0.04201710590723451\n"
          ]
        },
        {
          "output_type": "stream",
          "name": "stderr",
          "text": [
            "Training: 100%|██████████| 168/168 [00:05<00:00, 32.72it/s, loss=0.0265]\n"
          ]
        },
        {
          "output_type": "stream",
          "name": "stdout",
          "text": [
            "Epoch [18/30] Train Loss: 0.026536672590910235\n"
          ]
        },
        {
          "output_type": "stream",
          "name": "stderr",
          "text": [
            "Validation: 100%|██████████| 72/72 [00:02<00:00, 25.62it/s, loss=0.0423]\n"
          ]
        },
        {
          "output_type": "stream",
          "name": "stdout",
          "text": [
            "Epoch [18/30] Validation Loss: 0.042308687057862296\n"
          ]
        },
        {
          "output_type": "stream",
          "name": "stderr",
          "text": [
            "Training: 100%|██████████| 168/168 [00:05<00:00, 32.54it/s, loss=0.0236]\n"
          ]
        },
        {
          "output_type": "stream",
          "name": "stdout",
          "text": [
            "Epoch [19/30] Train Loss: 0.023623232239472037\n"
          ]
        },
        {
          "output_type": "stream",
          "name": "stderr",
          "text": [
            "Validation: 100%|██████████| 72/72 [00:02<00:00, 33.02it/s, loss=0.0461]\n"
          ]
        },
        {
          "output_type": "stream",
          "name": "stdout",
          "text": [
            "Epoch [19/30] Validation Loss: 0.046063210224600776\n"
          ]
        },
        {
          "output_type": "stream",
          "name": "stderr",
          "text": [
            "Training: 100%|██████████| 168/168 [00:05<00:00, 28.43it/s, loss=0.0189]\n"
          ]
        },
        {
          "output_type": "stream",
          "name": "stdout",
          "text": [
            "Epoch [20/30] Train Loss: 0.018922397777628032\n"
          ]
        },
        {
          "output_type": "stream",
          "name": "stderr",
          "text": [
            "Validation: 100%|██████████| 72/72 [00:02<00:00, 34.36it/s, loss=0.0467]\n"
          ]
        },
        {
          "output_type": "stream",
          "name": "stdout",
          "text": [
            "Epoch [20/30] Validation Loss: 0.046737306796962405\n"
          ]
        },
        {
          "output_type": "stream",
          "name": "stderr",
          "text": [
            "Training: 100%|██████████| 168/168 [00:05<00:00, 30.52it/s, loss=0.022]\n"
          ]
        },
        {
          "output_type": "stream",
          "name": "stdout",
          "text": [
            "Epoch [21/30] Train Loss: 0.02201877897451119\n"
          ]
        },
        {
          "output_type": "stream",
          "name": "stderr",
          "text": [
            "Validation: 100%|██████████| 72/72 [00:03<00:00, 21.64it/s, loss=0.0506]\n"
          ]
        },
        {
          "output_type": "stream",
          "name": "stdout",
          "text": [
            "Epoch [21/30] Validation Loss: 0.050577840019589836\n"
          ]
        },
        {
          "output_type": "stream",
          "name": "stderr",
          "text": [
            "Training: 100%|██████████| 168/168 [00:05<00:00, 33.19it/s, loss=0.0274]\n"
          ]
        },
        {
          "output_type": "stream",
          "name": "stdout",
          "text": [
            "Epoch [22/30] Train Loss: 0.027364984396453587\n"
          ]
        },
        {
          "output_type": "stream",
          "name": "stderr",
          "text": [
            "Validation: 100%|██████████| 72/72 [00:02<00:00, 34.22it/s, loss=0.045]\n"
          ]
        },
        {
          "output_type": "stream",
          "name": "stdout",
          "text": [
            "Epoch [22/30] Validation Loss: 0.04503257767871421\n"
          ]
        },
        {
          "output_type": "stream",
          "name": "stderr",
          "text": [
            "Training: 100%|██████████| 168/168 [00:07<00:00, 22.99it/s, loss=0.027]\n"
          ]
        },
        {
          "output_type": "stream",
          "name": "stdout",
          "text": [
            "Epoch [23/30] Train Loss: 0.026974615275575854\n"
          ]
        },
        {
          "output_type": "stream",
          "name": "stderr",
          "text": [
            "Validation: 100%|██████████| 72/72 [00:02<00:00, 33.31it/s, loss=0.046]\n"
          ]
        },
        {
          "output_type": "stream",
          "name": "stdout",
          "text": [
            "Epoch [23/30] Validation Loss: 0.04601384805662039\n"
          ]
        },
        {
          "output_type": "stream",
          "name": "stderr",
          "text": [
            "Training: 100%|██████████| 168/168 [00:05<00:00, 32.57it/s, loss=0.0247]\n"
          ]
        },
        {
          "output_type": "stream",
          "name": "stdout",
          "text": [
            "Epoch [24/30] Train Loss: 0.024679075321121974\n"
          ]
        },
        {
          "output_type": "stream",
          "name": "stderr",
          "text": [
            "Validation: 100%|██████████| 72/72 [00:02<00:00, 25.83it/s, loss=0.052]\n"
          ]
        },
        {
          "output_type": "stream",
          "name": "stdout",
          "text": [
            "Epoch [24/30] Validation Loss: 0.051963286942938995\n"
          ]
        },
        {
          "output_type": "stream",
          "name": "stderr",
          "text": [
            "Training: 100%|██████████| 168/168 [00:06<00:00, 28.00it/s, loss=0.0227]\n"
          ]
        },
        {
          "output_type": "stream",
          "name": "stdout",
          "text": [
            "Epoch [25/30] Train Loss: 0.02269305546247952\n"
          ]
        },
        {
          "output_type": "stream",
          "name": "stderr",
          "text": [
            "Validation: 100%|██████████| 72/72 [00:02<00:00, 32.86it/s, loss=0.0425]\n"
          ]
        },
        {
          "output_type": "stream",
          "name": "stdout",
          "text": [
            "Epoch [25/30] Validation Loss: 0.04245810768144212\n"
          ]
        },
        {
          "output_type": "stream",
          "name": "stderr",
          "text": [
            "Training: 100%|██████████| 168/168 [00:05<00:00, 28.58it/s, loss=0.0244]\n"
          ]
        },
        {
          "output_type": "stream",
          "name": "stdout",
          "text": [
            "Epoch [26/30] Train Loss: 0.024409375068769026\n"
          ]
        },
        {
          "output_type": "stream",
          "name": "stderr",
          "text": [
            "Validation: 100%|██████████| 72/72 [00:02<00:00, 33.36it/s, loss=0.0426]\n"
          ]
        },
        {
          "output_type": "stream",
          "name": "stdout",
          "text": [
            "Epoch [26/30] Validation Loss: 0.0425777312912285\n"
          ]
        },
        {
          "output_type": "stream",
          "name": "stderr",
          "text": [
            "Training: 100%|██████████| 168/168 [00:05<00:00, 32.23it/s, loss=0.026]\n"
          ]
        },
        {
          "output_type": "stream",
          "name": "stdout",
          "text": [
            "Epoch [27/30] Train Loss: 0.02596881687198523\n"
          ]
        },
        {
          "output_type": "stream",
          "name": "stderr",
          "text": [
            "Validation: 100%|██████████| 72/72 [00:02<00:00, 25.63it/s, loss=0.0372]\n"
          ]
        },
        {
          "output_type": "stream",
          "name": "stdout",
          "text": [
            "Epoch [27/30] Validation Loss: 0.03724991662567037\n"
          ]
        },
        {
          "output_type": "stream",
          "name": "stderr",
          "text": [
            "Training: 100%|██████████| 168/168 [00:05<00:00, 32.39it/s, loss=0.0276]\n"
          ]
        },
        {
          "output_type": "stream",
          "name": "stdout",
          "text": [
            "Epoch [28/30] Train Loss: 0.027648606950043314\n"
          ]
        },
        {
          "output_type": "stream",
          "name": "stderr",
          "text": [
            "Validation: 100%|██████████| 72/72 [00:02<00:00, 33.30it/s, loss=0.0443]\n"
          ]
        },
        {
          "output_type": "stream",
          "name": "stdout",
          "text": [
            "Epoch [28/30] Validation Loss: 0.04432549775060579\n"
          ]
        },
        {
          "output_type": "stream",
          "name": "stderr",
          "text": [
            "Training: 100%|██████████| 168/168 [00:06<00:00, 27.30it/s, loss=0.0292]\n"
          ]
        },
        {
          "output_type": "stream",
          "name": "stdout",
          "text": [
            "Epoch [29/30] Train Loss: 0.029202995721615957\n"
          ]
        },
        {
          "output_type": "stream",
          "name": "stderr",
          "text": [
            "Validation: 100%|██████████| 72/72 [00:02<00:00, 33.39it/s, loss=0.0453]\n"
          ]
        },
        {
          "output_type": "stream",
          "name": "stdout",
          "text": [
            "Epoch [29/30] Validation Loss: 0.04532906108960964\n"
          ]
        },
        {
          "output_type": "stream",
          "name": "stderr",
          "text": [
            "Training: 100%|██████████| 168/168 [00:05<00:00, 32.30it/s, loss=0.017]\n"
          ]
        },
        {
          "output_type": "stream",
          "name": "stdout",
          "text": [
            "Epoch [30/30] Train Loss: 0.016994555830738785\n"
          ]
        },
        {
          "output_type": "stream",
          "name": "stderr",
          "text": [
            "Validation: 100%|██████████| 72/72 [00:02<00:00, 30.16it/s, loss=0.0497]"
          ]
        },
        {
          "output_type": "stream",
          "name": "stdout",
          "text": [
            "Epoch [30/30] Validation Loss: 0.049672105197689435\n"
          ]
        },
        {
          "output_type": "stream",
          "name": "stderr",
          "text": [
            "\n"
          ]
        }
      ],
      "source": [
        "train_loss_lst, val_loss_lst = train(train_loader, val_loader, \"subset1\", net, epochs=30)"
      ],
      "id": "sXjr5rEINRuw"
    },
    {
      "cell_type": "code",
      "execution_count": 8,
      "metadata": {
        "cell_ktag": "fQc1gnyBXDLz",
        "colab": {
          "base_uri": "https://localhost:8080/",
          "height": 430
        },
        "id": "Gov7zHieNRuw",
        "outputId": "0b5d30b3-13e0-4c45-cba2-21f0306c6dbc"
      },
      "outputs": [
        {
          "output_type": "display_data",
          "data": {
            "text/plain": [
              "<Figure size 640x480 with 1 Axes>"
            ],
            "image/png": "[encoded data removed]"
          },
          "metadata": {}
        }
      ],
      "source": [
        "plot_losses(train_loss_lst,val_loss_lst)"
      ],
      "id": "Gov7zHieNRuw"
    },
    {
      "cell_type": "code",
      "source": [
        "from google.colab import drive\n",
        "drive.mount('/content/drive')"
      ],
      "metadata": {
        "colab": {
          "base_uri": "https://localhost:8080/"
        },
        "id": "778bWzzHqZtx",
        "outputId": "c242b13c-14a5-4da4-95f6-c1d43eccc153"
      },
      "id": "778bWzzHqZtx",
      "execution_count": 13,
      "outputs": [
        {
          "output_type": "stream",
          "name": "stdout",
          "text": [
            "Mounted at /content/drive\n"
          ]
        }
      ]
    },
    {
      "cell_type": "code",
      "execution_count": 14,
      "metadata": {
        "cell_ktag": "fQc1gnyBXDLz",
        "id": "IZQvCYm8NRuw"
      },
      "outputs": [],
      "source": [
        "# save the model\n",
        "path1 = '/content/drive/My Drive/full_model.pth'\n",
        "torch.save(net,path1)\n",
        "\n",
        "path2 = '/content/drive/My Drive/state_dict_model.pth'\n",
        "# Save the state dictionary\n",
        "torch.save(net.state_dict(), path2)\n"
      ],
      "id": "IZQvCYm8NRuw"
    },
    {
      "cell_type": "markdown",
      "metadata": {
        "cell_ktag": "fQc1gnyBXDLz",
        "id": "e6idP-M7NRuw"
      },
      "source": [
        "# Otherwise load an already pre-trained model\n",
        "Either the one you have created above, either the one already available at https://www.lri.fr/~gcharpia/deeppractice/2024/TP4/models/\n"
      ],
      "id": "e6idP-M7NRuw"
    },
    {
      "cell_type": "code",
      "execution_count": 15,
      "metadata": {
        "cell_ktag": "fQc1gnyBXDLz",
        "id": "NcY8kwa4NRux"
      },
      "outputs": [],
      "source": [
        "net=torch.load(path1).to(device)"
      ],
      "id": "NcY8kwa4NRux"
    },
    {
      "cell_type": "markdown",
      "metadata": {
        "cell_ktag": "fQc1gnyBXDLz",
        "id": "LD0x7xUZNRux"
      },
      "source": [
        "# Count the number of weights & compare it with parameters added by LoRA"
      ],
      "id": "LD0x7xUZNRux"
    },
    {
      "cell_type": "code",
      "execution_count": 16,
      "metadata": {
        "cell_ktag": "fQc1gnyBXDLz",
        "id": "zAeA8uukNRux"
      },
      "outputs": [],
      "source": [
        "original_weights = {}\n",
        "for name, param in net.named_parameters():\n",
        "    original_weights[name] = param.clone().detach()"
      ],
      "id": "zAeA8uukNRux"
    },
    {
      "cell_type": "code",
      "execution_count": 17,
      "metadata": {
        "cell_ktag": "fQc1gnyBXDLz",
        "colab": {
          "base_uri": "https://localhost:8080/"
        },
        "id": "8nUPqRQsNRux",
        "outputId": "09f73d1e-8102-406e-eddb-9c5dc9146dfb"
      },
      "outputs": [
        {
          "output_type": "stream",
          "name": "stdout",
          "text": [
            "Layer 1: W: torch.Size([1000, 784]) + B: torch.Size([1000])\n",
            "Layer 2: W: torch.Size([2000, 1000]) + B: torch.Size([2000])\n",
            "Layer 3: W: torch.Size([5, 2000]) + B: torch.Size([5])\n",
            "Total number of parameters: 2,797,005\n"
          ]
        }
      ],
      "source": [
        "# Print the size of the weights matrices of the network\n",
        "# Save the count of the total number of parameters\n",
        "net.eval()\n",
        "total_parameters_original = 0\n",
        "for index, layer in enumerate([net.linear1, net.linear2, net.linear3]):\n",
        "    total_parameters_original += layer.weight.nelement() + layer.bias.nelement()\n",
        "    print(f'Layer {index+1}: W: {layer.weight.shape} + B: {layer.bias.shape}')\n",
        "print(f'Total number of parameters: {total_parameters_original:,}')"
      ],
      "id": "8nUPqRQsNRux"
    },
    {
      "cell_type": "markdown",
      "metadata": {
        "cell_ktag": "fQc1gnyBXDLz",
        "id": "eDRP87LuNRux"
      },
      "source": [
        "# Test the model on digits 0...4"
      ],
      "id": "eDRP87LuNRux"
    },
    {
      "cell_type": "code",
      "execution_count": 34,
      "metadata": {
        "cell_ktag": "fQc1gnyBXDLz",
        "colab": {
          "base_uri": "https://localhost:8080/"
        },
        "id": "kgDDYBPiNRux",
        "outputId": "068c5fb2-9976-44f7-9226-b1848cc07268"
      },
      "outputs": [
        {
          "output_type": "stream",
          "name": "stderr",
          "text": [
            "Testing: 100%|██████████| 41/41 [00:01<00:00, 27.53it/s]"
          ]
        },
        {
          "output_type": "stream",
          "name": "stdout",
          "text": [
            "\n",
            "Accuracy: 0.992\n",
            "Wrong counts for the digit 0: 4\n",
            "Wrong counts for the digit 1: 9\n",
            "Wrong counts for the digit 2: 18\n",
            "Wrong counts for the digit 3: 6\n",
            "Wrong counts for the digit 4: 5\n"
          ]
        },
        {
          "output_type": "stream",
          "name": "stderr",
          "text": [
            "\n"
          ]
        },
        {
          "output_type": "execute_result",
          "data": {
            "text/plain": [
              "0.992"
            ]
          },
          "metadata": {},
          "execution_count": 34
        }
      ],
      "source": [
        "def test(loader, name, net, wrong_counts):\n",
        "    correct = 0\n",
        "    total = 0\n",
        "\n",
        "    net.eval()\n",
        "    with torch.no_grad():\n",
        "        for data in tqdm(loader, desc=name):\n",
        "            x, y = data\n",
        "            x = x.to(device)\n",
        "            y = y.to(device)\n",
        "            y = process_labels(name, y)\n",
        "            output = net(x.view(-1, 784))\n",
        "            for idx, i in enumerate(output):\n",
        "                if torch.argmax(i) == y[idx]:\n",
        "                    correct += 1\n",
        "                else:\n",
        "                    wrong_digit = y[idx].item() + 5 if 'subset2' in name else y[idx].item()\n",
        "                    wrong_counts[wrong_digit] += 1\n",
        "\n",
        "                total += 1\n",
        "    accuracy = round(correct / total, 3)\n",
        "    print('')\n",
        "    print(f'Accuracy: {accuracy}')\n",
        "    for key, value in wrong_counts.items():\n",
        "        print(f'Wrong counts for the digit {key}: {value}')\n",
        "\n",
        "    return accuracy\n",
        "\n",
        "test(test_loader, \"Testing\", net, {i: 0 for i in range(5)})\n"
      ],
      "id": "kgDDYBPiNRux"
    },
    {
      "cell_type": "markdown",
      "metadata": {
        "cell_ktag": "fQc1gnyBXDLz",
        "id": "LxbqrHdCNRux"
      },
      "source": [
        "# Define train, validation, test sets for digits 5...9"
      ],
      "id": "LxbqrHdCNRux"
    },
    {
      "cell_type": "markdown",
      "metadata": {
        "cell_ktag": "fQc1gnyBXDLz",
        "id": "VRLamhH9NRux"
      },
      "source": [
        "__Question 1 (0.25 points) :__"
      ],
      "id": "VRLamhH9NRux"
    },
    {
      "cell_type": "code",
      "execution_count": 19,
      "metadata": {
        "cell_ktag": "fQc1gnyBXDLz",
        "id": "NdeJdsh_NRux"
      },
      "outputs": [],
      "source": [
        "#same code as before except for the mask\n",
        "\n",
        "# create a mask to filter indices for each label, retrieve digits 5...9\n",
        "#######\n",
        "#TO-DO#\n",
        "train_mask_subset2 = torch.tensor([label in range(5, 10) for label in mnist_train.targets])\n",
        "test_mask_subset2 = torch.tensor([label in range(5, 10) for label in mnist_test.targets])\n",
        "#######\n",
        "\n",
        "# Create Subset datasets for train, validation, and test\n",
        "train_dataset_subset2 = Subset(mnist_train, torch.where(train_mask_subset2)[0])\n",
        "test_dataset_subset2 = Subset(mnist_test, torch.where(test_mask_subset2)[0])\n",
        "\n",
        "# split train into train & validation\n",
        "train_size_subset2 = int(0.7 * len(train_dataset_subset2))\n",
        "val_size_subset2 = len(train_dataset_subset2) - train_size_subset2\n",
        "train_dataset_subset2, val_dataset_subset2 = random_split(train_dataset_subset2, [train_size_subset2, val_size_subset2])\n",
        "\n",
        "train_loader_subset2 = DataLoader(train_dataset_subset2, batch_size=batch_size, shuffle=True)\n",
        "val_loader_subset2 = DataLoader(val_dataset_subset2, batch_size=batch_size, shuffle=False)\n",
        "test_loader_subset2 = DataLoader(test_dataset_subset2, batch_size=batch_size, shuffle=False)"
      ],
      "id": "NdeJdsh_NRux"
    },
    {
      "cell_type": "markdown",
      "metadata": {
        "cell_ktag": "fQc1gnyBXDLz",
        "id": "luz7zAx_NRux"
      },
      "source": [
        "# Verify that pre-trained model on digits 0...4 is bad on digits 5...9"
      ],
      "id": "luz7zAx_NRux"
    },
    {
      "cell_type": "markdown",
      "metadata": {
        "cell_ktag": "fQc1gnyBXDLz",
        "id": "rGWCTMXTNRux"
      },
      "source": [
        "__Question 2 (0.25 points) :__"
      ],
      "id": "rGWCTMXTNRux"
    },
    {
      "cell_type": "markdown",
      "metadata": {
        "cell_ktag": "fQc1gnyBXDLz",
        "id": "SBKkUsvPNRux"
      },
      "source": [
        "You should display the number of wrong predictions for each digits & global accuracy. \\\n",
        "Note that it's better than random guess ($\\frac{1}{5}\\times 100= $20%) for digit 8 and 9 because 3 looks like 8 and 4 looks like 9\n"
      ],
      "id": "SBKkUsvPNRux"
    },
    {
      "cell_type": "code",
      "execution_count": 35,
      "metadata": {
        "cell_ktag": "fQc1gnyBXDLz",
        "colab": {
          "base_uri": "https://localhost:8080/"
        },
        "id": "Ewz7Fpc8NRux",
        "outputId": "dda04517-673d-47a2-858c-b399511aad9b"
      },
      "outputs": [
        {
          "output_type": "stream",
          "name": "stderr",
          "text": [
            "subset2: 100%|██████████| 38/38 [00:01<00:00, 31.07it/s]"
          ]
        },
        {
          "output_type": "stream",
          "name": "stdout",
          "text": [
            "\n",
            "Accuracy: 0.413\n",
            "Wrong counts for the digit 5: 772\n",
            "Wrong counts for the digit 6: 952\n",
            "Wrong counts for the digit 7: 600\n",
            "Wrong counts for the digit 8: 454\n",
            "Wrong counts for the digit 9: 77\n"
          ]
        },
        {
          "output_type": "stream",
          "name": "stderr",
          "text": [
            "\n"
          ]
        }
      ],
      "source": [
        "#######\n",
        "#TO-DO#\n",
        "test_accuracy_subset2 = test(test_loader_subset2, \"subset2\", net, {i: 0 for i in range(5, 10)})\n",
        "#######"
      ],
      "id": "Ewz7Fpc8NRux"
    },
    {
      "cell_type": "markdown",
      "metadata": {
        "cell_ktag": "fQc1gnyBXDLz",
        "id": "kIoDAAvoNRux"
      },
      "source": [
        "# Fine-tune the model on digits 5...9"
      ],
      "id": "kIoDAAvoNRux"
    },
    {
      "cell_type": "markdown",
      "metadata": {
        "cell_ktag": "fQc1gnyBXDLz",
        "id": "bMfGhI0mNRux"
      },
      "source": [
        "__Question 3 (0.5 points) :__"
      ],
      "id": "bMfGhI0mNRux"
    },
    {
      "cell_type": "markdown",
      "metadata": {
        "cell_ktag": "fQc1gnyBXDLz",
        "id": "5jG14CFUNRuy"
      },
      "source": [
        "You will fine-tune all the layers of the model (ie. all parameters of all fully-connected matrices) for 10 epochs"
      ],
      "id": "5jG14CFUNRuy"
    },
    {
      "cell_type": "code",
      "execution_count": 36,
      "metadata": {
        "cell_ktag": "fQc1gnyBXDLz",
        "colab": {
          "base_uri": "https://localhost:8080/"
        },
        "id": "W89gYBHTNRuy",
        "outputId": "399c532c-2fe2-4a19-ed70-34321881d5ff"
      },
      "outputs": [
        {
          "output_type": "stream",
          "name": "stderr",
          "text": [
            "Training: 100%|██████████| 161/161 [00:04<00:00, 32.99it/s, loss=6.44]\n"
          ]
        },
        {
          "output_type": "stream",
          "name": "stdout",
          "text": [
            "Epoch [1/10] Train Loss: 6.438088719148814\n"
          ]
        },
        {
          "output_type": "stream",
          "name": "stderr",
          "text": [
            "Validation: 100%|██████████| 69/69 [00:02<00:00, 33.92it/s, loss=4.82]\n"
          ]
        },
        {
          "output_type": "stream",
          "name": "stdout",
          "text": [
            "Epoch [1/10] Validation Loss: 4.820169134416442\n"
          ]
        },
        {
          "output_type": "stream",
          "name": "stderr",
          "text": [
            "Training: 100%|██████████| 161/161 [00:06<00:00, 26.78it/s, loss=4.19]\n"
          ]
        },
        {
          "output_type": "stream",
          "name": "stdout",
          "text": [
            "Epoch [2/10] Train Loss: 4.18629246765042\n"
          ]
        },
        {
          "output_type": "stream",
          "name": "stderr",
          "text": [
            "Validation: 100%|██████████| 69/69 [00:02<00:00, 34.06it/s, loss=2.76]\n"
          ]
        },
        {
          "output_type": "stream",
          "name": "stdout",
          "text": [
            "Epoch [2/10] Validation Loss: 2.76104101754617\n"
          ]
        },
        {
          "output_type": "stream",
          "name": "stderr",
          "text": [
            "Training: 100%|██████████| 161/161 [00:04<00:00, 32.62it/s, loss=2.47]\n"
          ]
        },
        {
          "output_type": "stream",
          "name": "stdout",
          "text": [
            "Epoch [3/10] Train Loss: 2.470310167496249\n"
          ]
        },
        {
          "output_type": "stream",
          "name": "stderr",
          "text": [
            "Validation: 100%|██████████| 69/69 [00:01<00:00, 34.67it/s, loss=1.55]\n"
          ]
        },
        {
          "output_type": "stream",
          "name": "stdout",
          "text": [
            "Epoch [3/10] Validation Loss: 1.5522149861722752\n"
          ]
        },
        {
          "output_type": "stream",
          "name": "stderr",
          "text": [
            "Training: 100%|██████████| 161/161 [00:05<00:00, 27.35it/s, loss=1.56]\n"
          ]
        },
        {
          "output_type": "stream",
          "name": "stdout",
          "text": [
            "Epoch [4/10] Train Loss: 1.5590154239850014\n"
          ]
        },
        {
          "output_type": "stream",
          "name": "stderr",
          "text": [
            "Validation: 100%|██████████| 69/69 [00:02<00:00, 32.67it/s, loss=0.904]\n"
          ]
        },
        {
          "output_type": "stream",
          "name": "stdout",
          "text": [
            "Epoch [4/10] Validation Loss: 0.9042090626730435\n"
          ]
        },
        {
          "output_type": "stream",
          "name": "stderr",
          "text": [
            "Training: 100%|██████████| 161/161 [00:04<00:00, 33.36it/s, loss=1.01]\n"
          ]
        },
        {
          "output_type": "stream",
          "name": "stdout",
          "text": [
            "Epoch [5/10] Train Loss: 1.0074990221432276\n"
          ]
        },
        {
          "output_type": "stream",
          "name": "stderr",
          "text": [
            "Validation: 100%|██████████| 69/69 [00:02<00:00, 23.90it/s, loss=0.595]\n"
          ]
        },
        {
          "output_type": "stream",
          "name": "stdout",
          "text": [
            "Epoch [5/10] Validation Loss: 0.5951090213181316\n"
          ]
        },
        {
          "output_type": "stream",
          "name": "stderr",
          "text": [
            "Training: 100%|██████████| 161/161 [00:05<00:00, 29.28it/s, loss=0.749]\n"
          ]
        },
        {
          "output_type": "stream",
          "name": "stdout",
          "text": [
            "Epoch [6/10] Train Loss: 0.7485987779146396\n"
          ]
        },
        {
          "output_type": "stream",
          "name": "stderr",
          "text": [
            "Validation: 100%|██████████| 69/69 [00:02<00:00, 33.67it/s, loss=0.451]\n"
          ]
        },
        {
          "output_type": "stream",
          "name": "stdout",
          "text": [
            "Epoch [6/10] Validation Loss: 0.4507480393285337\n"
          ]
        },
        {
          "output_type": "stream",
          "name": "stderr",
          "text": [
            "Training: 100%|██████████| 161/161 [00:05<00:00, 30.91it/s, loss=0.587]\n"
          ]
        },
        {
          "output_type": "stream",
          "name": "stdout",
          "text": [
            "Epoch [7/10] Train Loss: 0.5870638219466121\n"
          ]
        },
        {
          "output_type": "stream",
          "name": "stderr",
          "text": [
            "Validation: 100%|██████████| 69/69 [00:03<00:00, 22.02it/s, loss=0.37]\n"
          ]
        },
        {
          "output_type": "stream",
          "name": "stdout",
          "text": [
            "Epoch [7/10] Validation Loss: 0.3697583671065344\n"
          ]
        },
        {
          "output_type": "stream",
          "name": "stderr",
          "text": [
            "Training: 100%|██████████| 161/161 [00:05<00:00, 30.59it/s, loss=0.502]\n"
          ]
        },
        {
          "output_type": "stream",
          "name": "stdout",
          "text": [
            "Epoch [8/10] Train Loss: 0.5015560945738917\n"
          ]
        },
        {
          "output_type": "stream",
          "name": "stderr",
          "text": [
            "Validation: 100%|██████████| 69/69 [00:02<00:00, 33.07it/s, loss=0.316]\n"
          ]
        },
        {
          "output_type": "stream",
          "name": "stdout",
          "text": [
            "Epoch [8/10] Validation Loss: 0.31625292093857477\n"
          ]
        },
        {
          "output_type": "stream",
          "name": "stderr",
          "text": [
            "Training: 100%|██████████| 161/161 [00:05<00:00, 27.22it/s, loss=0.43]\n"
          ]
        },
        {
          "output_type": "stream",
          "name": "stdout",
          "text": [
            "Epoch [9/10] Train Loss: 0.4298329071043441\n"
          ]
        },
        {
          "output_type": "stream",
          "name": "stderr",
          "text": [
            "Validation: 100%|██████████| 69/69 [00:02<00:00, 33.71it/s, loss=0.278]\n"
          ]
        },
        {
          "output_type": "stream",
          "name": "stdout",
          "text": [
            "Epoch [9/10] Validation Loss: 0.27842873702014703\n"
          ]
        },
        {
          "output_type": "stream",
          "name": "stderr",
          "text": [
            "Training: 100%|██████████| 161/161 [00:05<00:00, 31.71it/s, loss=0.387]\n"
          ]
        },
        {
          "output_type": "stream",
          "name": "stdout",
          "text": [
            "Epoch [10/10] Train Loss: 0.3870656595837255\n"
          ]
        },
        {
          "output_type": "stream",
          "name": "stderr",
          "text": [
            "Validation: 100%|██████████| 69/69 [00:02<00:00, 31.47it/s, loss=0.249]"
          ]
        },
        {
          "output_type": "stream",
          "name": "stdout",
          "text": [
            "Epoch [10/10] Validation Loss: 0.24907030791476154\n"
          ]
        },
        {
          "output_type": "stream",
          "name": "stderr",
          "text": [
            "\n"
          ]
        }
      ],
      "source": [
        "#######\n",
        "#TO-DO#\n",
        "train_loss_lst_subset2, val_loss_lst_subset2 = train(train_loader_subset2, val_loader_subset2, \"subset2\", net, epochs=10)\n",
        "#######"
      ],
      "id": "W89gYBHTNRuy"
    },
    {
      "cell_type": "code",
      "execution_count": 37,
      "metadata": {
        "cell_ktag": "fQc1gnyBXDLz",
        "colab": {
          "base_uri": "https://localhost:8080/",
          "height": 430
        },
        "id": "adUsOSovNRuy",
        "outputId": "915f1db3-aca2-49fb-f4c9-1d45d6adfd64"
      },
      "outputs": [
        {
          "output_type": "display_data",
          "data": {
            "text/plain": [
              "<Figure size 640x480 with 1 Axes>"
            ],
            "image/png": "[encoded data removed]"
          },
          "metadata": {}
        }
      ],
      "source": [
        "#plot the train and validation losses\n",
        "#######\n",
        "#TO-DO#\n",
        "plot_losses(train_loss_lst_subset2, val_loss_lst_subset2)\n",
        "#######"
      ],
      "id": "adUsOSovNRuy"
    },
    {
      "cell_type": "code",
      "execution_count": 38,
      "metadata": {
        "cell_ktag": "fQc1gnyBXDLz",
        "colab": {
          "base_uri": "https://localhost:8080/"
        },
        "id": "4vZ4DHs4NRuy",
        "outputId": "982b2bf6-2261-472b-89f2-0aee9522f3aa"
      },
      "outputs": [
        {
          "output_type": "stream",
          "name": "stderr",
          "text": [
            "subset2: 100%|██████████| 38/38 [00:01<00:00, 24.28it/s]"
          ]
        },
        {
          "output_type": "stream",
          "name": "stdout",
          "text": [
            "\n",
            "Accuracy: 0.929\n",
            "Wrong counts for the digit 5: 82\n",
            "Wrong counts for the digit 6: 32\n",
            "Wrong counts for the digit 7: 69\n",
            "Wrong counts for the digit 8: 96\n",
            "Wrong counts for the digit 9: 65\n"
          ]
        },
        {
          "output_type": "stream",
          "name": "stderr",
          "text": [
            "\n"
          ]
        }
      ],
      "source": [
        "#test accuracy of fine-tuned model on digits 5...9\n",
        "# & save this number into a variable, we will need it for final plot\n",
        "\n",
        "#######\n",
        "#TO-DO#\n",
        "test_accuracy_finetuned_subset2 = test(test_loader_subset2, \"subset2\", net, {i: 0 for i in range(5, 10)})\n",
        "#######"
      ],
      "id": "4vZ4DHs4NRuy"
    },
    {
      "cell_type": "markdown",
      "metadata": {
        "cell_ktag": "fQc1gnyBXDLz",
        "id": "lOttd--NNRuy"
      },
      "source": [
        "# Fine-tune the model on digits 5...9 with LoRA"
      ],
      "id": "lOttd--NNRuy"
    },
    {
      "cell_type": "markdown",
      "metadata": {
        "cell_ktag": "fQc1gnyBXDLz",
        "id": "kfg-EIUmNRuy"
      },
      "source": [
        "__Question 4 (2.5 points) :__"
      ],
      "id": "kfg-EIUmNRuy"
    },
    {
      "cell_type": "markdown",
      "metadata": {
        "cell_ktag": "fQc1gnyBXDLz",
        "id": "_ynxzPa0NRuy"
      },
      "source": [
        "You will now implement one LoRA per layer"
      ],
      "id": "_ynxzPa0NRuy"
    },
    {
      "cell_type": "code",
      "execution_count": 41,
      "metadata": {
        "cell_ktag": "fQc1gnyBXDLz",
        "id": "EX2cinRSNRuy"
      },
      "outputs": [],
      "source": [
        "class ModifiedClassifier(nn.Module):\n",
        "    def __init__(self, lora_rank):\n",
        "        super(ModifiedClassifier, self).__init__()\n",
        "\n",
        "        # Load the pretrained model\n",
        "        self.pretrained_net = classifier().to(device)\n",
        "        self.pretrained_net.load_state_dict(torch.load(path2))\n",
        "\n",
        "        self.relu = nn.ReLU()\n",
        "\n",
        "        self.dropout = nn.Dropout(0.5)\n",
        "\n",
        "        # Define lora hyperparameters\n",
        "        #######\n",
        "        #TO-DO#\n",
        "        self.lora_rank = lora_rank\n",
        "        self.alpha = 2\n",
        "        self.lora_dropout = 0.0\n",
        "        #######\n",
        "\n",
        "        # Define lora weights matrices for each layer in pretrained model\n",
        "        #######\n",
        "        #TO-DO#\n",
        "        self.l1_lora_A = nn.Parameter(torch.Tensor(self.lora_rank, 784))\n",
        "        self.l1_lora_B = nn.Parameter(torch.Tensor(1000, self.lora_rank))\n",
        "        self.l2_lora_A = nn.Parameter(torch.Tensor(self.lora_rank, 1000))\n",
        "        self.l2_lora_B = nn.Parameter(torch.Tensor(2000, self.lora_rank))\n",
        "        self.l3_lora_A = nn.Parameter(torch.Tensor(self.lora_rank, 2000))\n",
        "        self.l3_lora_B = nn.Parameter(torch.Tensor(5, self.lora_rank))\n",
        "        #######\n",
        "\n",
        "        # Initialization for lora layers\n",
        "        #######\n",
        "        #TO-DO#\n",
        "        nn.init.normal_(self.l1_lora_A, std=self.alpha / self.lora_rank)\n",
        "        nn.init.zeros_(self.l1_lora_B)\n",
        "        nn.init.normal_(self.l2_lora_A, std=self.alpha / self.lora_rank)\n",
        "        nn.init.zeros_(self.l2_lora_B)\n",
        "        nn.init.normal_(self.l3_lora_A, std=self.alpha / self.lora_rank)\n",
        "        nn.init.zeros_(self.l3_lora_B)\n",
        "        #######\n",
        "\n",
        "        # freeze non lora weights\n",
        "        #######\n",
        "        #TO-DO#\n",
        "        for param in self.pretrained_net.parameters():\n",
        "            param.requires_grad = False\n",
        "        #######\n",
        "\n",
        "    def lora_linear(self, x, layer, lora_A, lora_B):\n",
        "        #Implement formula (3) in arxiv.org/pdf/2106.09685.pdf\n",
        "        W0x = layer(x)\n",
        "        delta_W_x = lora_B @ lora_A @ x.T\n",
        "        h = W0x + self.alpha * delta_W_x.T\n",
        "        return h\n",
        "\n",
        "\n",
        "    def forward(self, input):\n",
        "        x = input.view(-1, 28*28)\n",
        "\n",
        "        # layer 1 (input size, hidden size)\n",
        "        x = self.lora_linear(x, self.pretrained_net.linear1, self.l1_lora_A, self.l1_lora_B)\n",
        "        x = self.relu(x)\n",
        "        x = self.dropout(x)\n",
        "\n",
        "        #complete the remaining code (layer 2 and 3)\n",
        "        #######\n",
        "        #TO-DO#\n",
        "        # layer 2 (hidden size 1, hidden size 2)\n",
        "        x = self.lora_linear(x, self.pretrained_net.linear2, self.l2_lora_A, self.l2_lora_B)\n",
        "        x = self.relu(x)\n",
        "        x = self.dropout(x)\n",
        "\n",
        "        # layer 3 (hidden size 2, output size)\n",
        "        x = self.lora_linear(x, self.pretrained_net.linear3, self.l3_lora_A, self.l3_lora_B)\n",
        "        #######\n",
        "\n",
        "        return x\n",
        "\n",
        "lora_rank=1\n",
        "# Create an instance of the modified network\n",
        "modified_net = ModifiedClassifier(lora_rank).to(device)"
      ],
      "id": "EX2cinRSNRuy"
    },
    {
      "cell_type": "markdown",
      "metadata": {
        "cell_ktag": "fQc1gnyBXDLz",
        "id": "BjSghccfNRuy"
      },
      "source": [
        "Make a function that counts the number of parameters introduced by lora ( use the function torch.numel() )"
      ],
      "id": "BjSghccfNRuy"
    },
    {
      "cell_type": "code",
      "execution_count": 42,
      "metadata": {
        "cell_ktag": "fQc1gnyBXDLz",
        "colab": {
          "base_uri": "https://localhost:8080/"
        },
        "id": "Ebkb6pNMNRuy",
        "outputId": "69b13144-aeb2-461e-9fed-a95eeaeb14e3"
      },
      "outputs": [
        {
          "output_type": "stream",
          "name": "stdout",
          "text": [
            "Total number of parameters introduced by LoRA: 6789\n"
          ]
        }
      ],
      "source": [
        "# Count the parameters introduced by lora layers\n",
        "#######\n",
        "#TO-DO#\n",
        "def count_lora_params(modified_net):\n",
        "    # Count the parameters introduced by LoRA layers\n",
        "    lora_params = 0\n",
        "    for name, param in modified_net.named_parameters():\n",
        "        if 'lora' in name:\n",
        "            lora_params += torch.numel(param)\n",
        "    return lora_params\n",
        "\n",
        "lora_parameters_count = count_lora_params(modified_net)\n",
        "print(f\"Total number of parameters introduced by LoRA: {lora_parameters_count}\")\n",
        "#######"
      ],
      "id": "Ebkb6pNMNRuy"
    },
    {
      "cell_type": "markdown",
      "metadata": {
        "cell_ktag": "fQc1gnyBXDLz",
        "id": "kDeQX8deNRu8"
      },
      "source": [
        "# Fine-Tune using LoRA of rank 1"
      ],
      "id": "kDeQX8deNRu8"
    },
    {
      "cell_type": "markdown",
      "metadata": {
        "cell_ktag": "fQc1gnyBXDLz",
        "id": "3sFaTNucNRu8"
      },
      "source": [
        "__Question 5 (0.5 points) :__"
      ],
      "id": "3sFaTNucNRu8"
    },
    {
      "cell_type": "code",
      "execution_count": 44,
      "metadata": {
        "cell_ktag": "fQc1gnyBXDLz",
        "colab": {
          "base_uri": "https://localhost:8080/"
        },
        "id": "MmvBMJS_NRu8",
        "outputId": "7b9dcb56-7a7a-4cd8-8c3c-0aa34ebbdfca"
      },
      "outputs": [
        {
          "output_type": "stream",
          "name": "stderr",
          "text": [
            "Training: 100%|██████████| 161/161 [00:05<00:00, 31.67it/s, loss=0.608]\n"
          ]
        },
        {
          "output_type": "stream",
          "name": "stdout",
          "text": [
            "Epoch [1/10] Train Loss: 0.6083365928682481\n"
          ]
        },
        {
          "output_type": "stream",
          "name": "stderr",
          "text": [
            "Validation: 100%|██████████| 69/69 [00:02<00:00, 32.59it/s, loss=0.415]\n"
          ]
        },
        {
          "output_type": "stream",
          "name": "stdout",
          "text": [
            "Epoch [1/10] Validation Loss: 0.41501650084619934\n"
          ]
        },
        {
          "output_type": "stream",
          "name": "stderr",
          "text": [
            "Training: 100%|██████████| 161/161 [00:06<00:00, 26.69it/s, loss=0.576]\n"
          ]
        },
        {
          "output_type": "stream",
          "name": "stdout",
          "text": [
            "Epoch [2/10] Train Loss: 0.5755653734903158\n"
          ]
        },
        {
          "output_type": "stream",
          "name": "stderr",
          "text": [
            "Validation: 100%|██████████| 69/69 [00:02<00:00, 33.06it/s, loss=0.401]\n"
          ]
        },
        {
          "output_type": "stream",
          "name": "stdout",
          "text": [
            "Epoch [2/10] Validation Loss: 0.40129288685494574\n"
          ]
        },
        {
          "output_type": "stream",
          "name": "stderr",
          "text": [
            "Training: 100%|██████████| 161/161 [00:05<00:00, 31.82it/s, loss=0.575]\n"
          ]
        },
        {
          "output_type": "stream",
          "name": "stdout",
          "text": [
            "Epoch [3/10] Train Loss: 0.5751334413978624\n"
          ]
        },
        {
          "output_type": "stream",
          "name": "stderr",
          "text": [
            "Validation: 100%|██████████| 69/69 [00:02<00:00, 28.68it/s, loss=0.394]\n"
          ]
        },
        {
          "output_type": "stream",
          "name": "stdout",
          "text": [
            "Epoch [3/10] Validation Loss: 0.3936035905195319\n"
          ]
        },
        {
          "output_type": "stream",
          "name": "stderr",
          "text": [
            "Training: 100%|██████████| 161/161 [00:05<00:00, 27.33it/s, loss=0.573]\n"
          ]
        },
        {
          "output_type": "stream",
          "name": "stdout",
          "text": [
            "Epoch [4/10] Train Loss: 0.5731419561812596\n"
          ]
        },
        {
          "output_type": "stream",
          "name": "stderr",
          "text": [
            "Validation: 100%|██████████| 69/69 [00:02<00:00, 33.29it/s, loss=0.388]\n"
          ]
        },
        {
          "output_type": "stream",
          "name": "stdout",
          "text": [
            "Epoch [4/10] Validation Loss: 0.3878803719644961\n"
          ]
        },
        {
          "output_type": "stream",
          "name": "stderr",
          "text": [
            "Training: 100%|██████████| 161/161 [00:05<00:00, 29.92it/s, loss=0.566]\n"
          ]
        },
        {
          "output_type": "stream",
          "name": "stdout",
          "text": [
            "Epoch [5/10] Train Loss: 0.5655197732567047\n"
          ]
        },
        {
          "output_type": "stream",
          "name": "stderr",
          "text": [
            "Validation: 100%|██████████| 69/69 [00:02<00:00, 23.51it/s, loss=0.384]\n"
          ]
        },
        {
          "output_type": "stream",
          "name": "stdout",
          "text": [
            "Epoch [5/10] Validation Loss: 0.3842359586902287\n"
          ]
        },
        {
          "output_type": "stream",
          "name": "stderr",
          "text": [
            "Training: 100%|██████████| 161/161 [00:05<00:00, 30.18it/s, loss=0.568]\n"
          ]
        },
        {
          "output_type": "stream",
          "name": "stdout",
          "text": [
            "Epoch [6/10] Train Loss: 0.5680075324840427\n"
          ]
        },
        {
          "output_type": "stream",
          "name": "stderr",
          "text": [
            "Validation: 100%|██████████| 69/69 [00:02<00:00, 32.17it/s, loss=0.381]\n"
          ]
        },
        {
          "output_type": "stream",
          "name": "stdout",
          "text": [
            "Epoch [6/10] Validation Loss: 0.3811831662188406\n"
          ]
        },
        {
          "output_type": "stream",
          "name": "stderr",
          "text": [
            "Training: 100%|██████████| 161/161 [00:06<00:00, 26.30it/s, loss=0.551]\n"
          ]
        },
        {
          "output_type": "stream",
          "name": "stdout",
          "text": [
            "Epoch [7/10] Train Loss: 0.55132498133997\n"
          ]
        },
        {
          "output_type": "stream",
          "name": "stderr",
          "text": [
            "Validation: 100%|██████████| 69/69 [00:02<00:00, 32.89it/s, loss=0.377]\n"
          ]
        },
        {
          "output_type": "stream",
          "name": "stdout",
          "text": [
            "Epoch [7/10] Validation Loss: 0.3774698447922002\n"
          ]
        },
        {
          "output_type": "stream",
          "name": "stderr",
          "text": [
            "Training: 100%|██████████| 161/161 [00:05<00:00, 32.09it/s, loss=0.554]\n"
          ]
        },
        {
          "output_type": "stream",
          "name": "stdout",
          "text": [
            "Epoch [8/10] Train Loss: 0.5543730395921269\n"
          ]
        },
        {
          "output_type": "stream",
          "name": "stderr",
          "text": [
            "Validation: 100%|██████████| 69/69 [00:02<00:00, 34.15it/s, loss=0.376]\n"
          ]
        },
        {
          "output_type": "stream",
          "name": "stdout",
          "text": [
            "Epoch [8/10] Validation Loss: 0.3758537199186242\n"
          ]
        },
        {
          "output_type": "stream",
          "name": "stderr",
          "text": [
            "Training: 100%|██████████| 161/161 [00:06<00:00, 26.52it/s, loss=0.547]\n"
          ]
        },
        {
          "output_type": "stream",
          "name": "stdout",
          "text": [
            "Epoch [9/10] Train Loss: 0.5474247580729656\n"
          ]
        },
        {
          "output_type": "stream",
          "name": "stderr",
          "text": [
            "Validation: 100%|██████████| 69/69 [00:02<00:00, 33.45it/s, loss=0.374]\n"
          ]
        },
        {
          "output_type": "stream",
          "name": "stdout",
          "text": [
            "Epoch [9/10] Validation Loss: 0.37385540487973584\n"
          ]
        },
        {
          "output_type": "stream",
          "name": "stderr",
          "text": [
            "Training: 100%|██████████| 161/161 [00:05<00:00, 31.67it/s, loss=0.548]\n"
          ]
        },
        {
          "output_type": "stream",
          "name": "stdout",
          "text": [
            "Epoch [10/10] Train Loss: 0.5476496425104438\n"
          ]
        },
        {
          "output_type": "stream",
          "name": "stderr",
          "text": [
            "Validation: 100%|██████████| 69/69 [00:02<00:00, 26.08it/s, loss=0.371]"
          ]
        },
        {
          "output_type": "stream",
          "name": "stdout",
          "text": [
            "Epoch [10/10] Validation Loss: 0.3709273139635722\n"
          ]
        },
        {
          "output_type": "stream",
          "name": "stderr",
          "text": [
            "\n"
          ]
        }
      ],
      "source": [
        "#Fine tune this new model with loras of rank 1, on MNIST 5...9\n",
        "#######\n",
        "#TO-DO#\n",
        "train_loss_lst_lora, val_loss_lst_lora = train(train_loader_subset2, val_loader_subset2, \"subset2\", modified_net, epochs=10)\n",
        "#######"
      ],
      "id": "MmvBMJS_NRu8"
    },
    {
      "cell_type": "code",
      "execution_count": 48,
      "metadata": {
        "cell_ktag": "fQc1gnyBXDLz",
        "colab": {
          "base_uri": "https://localhost:8080/"
        },
        "id": "Czg7g4sINRu8",
        "outputId": "091b924d-0640-4a36-fd18-e2092966e611"
      },
      "outputs": [
        {
          "output_type": "stream",
          "name": "stdout",
          "text": [
            "Frozen parameters are unchanged.\n"
          ]
        }
      ],
      "source": [
        "# Check that the frozen parameters are still unchanged by the finetuning\n",
        "# Remember the dictionary \"original_weights\"\n",
        "#######\n",
        "#TO-DO#\n",
        "for name, param in modified_net.pretrained_net.named_parameters():\n",
        "    assert torch.equal(original_weights[name], param), \"Weights have changed for frozen parameter\"\n",
        "print(\"Frozen parameters are unchanged.\")\n",
        "#######"
      ],
      "id": "Czg7g4sINRu8"
    },
    {
      "cell_type": "code",
      "execution_count": 46,
      "metadata": {
        "cell_ktag": "fQc1gnyBXDLz",
        "colab": {
          "base_uri": "https://localhost:8080/",
          "height": 430
        },
        "id": "EczWnmNbNRu8",
        "outputId": "38387eeb-5e15-478f-d9cb-ac41aa173902"
      },
      "outputs": [
        {
          "output_type": "display_data",
          "data": {
            "text/plain": [
              "<Figure size 640x480 with 1 Axes>"
            ],
            "image/png": "[encoded data removed]"
          },
          "metadata": {}
        }
      ],
      "source": [
        "#plot losses\n",
        "#######\n",
        "#TO-DO#\n",
        "plot_losses(train_loss_lst_lora, val_loss_lst_lora)\n",
        "#######"
      ],
      "id": "EczWnmNbNRu8"
    },
    {
      "cell_type": "code",
      "execution_count": 47,
      "metadata": {
        "cell_ktag": "fQc1gnyBXDLz",
        "colab": {
          "base_uri": "https://localhost:8080/"
        },
        "id": "kCUpw-OMNRu8",
        "outputId": "cc5ec5c1-b008-434e-e7cf-c3edad4c23cc"
      },
      "outputs": [
        {
          "output_type": "stream",
          "name": "stderr",
          "text": [
            "subset2: 100%|██████████| 38/38 [00:01<00:00, 24.31it/s]"
          ]
        },
        {
          "output_type": "stream",
          "name": "stdout",
          "text": [
            "\n",
            "Accuracy: 0.894\n",
            "Wrong counts for the digit 5: 117\n",
            "Wrong counts for the digit 6: 31\n",
            "Wrong counts for the digit 7: 136\n",
            "Wrong counts for the digit 8: 154\n",
            "Wrong counts for the digit 9: 76\n"
          ]
        },
        {
          "output_type": "stream",
          "name": "stderr",
          "text": [
            "\n"
          ]
        }
      ],
      "source": [
        "#Compute test accuracy on MNIST 5...9 for that lora rank\n",
        "#######\n",
        "#TO-DO#\n",
        "test_accuracy_finetuned_lora = test(test_loader_subset2, \"subset2\", modified_net, {i: 0 for i in range(5, 10)})\n",
        "#######"
      ],
      "id": "kCUpw-OMNRu8"
    },
    {
      "cell_type": "markdown",
      "metadata": {
        "cell_ktag": "fQc1gnyBXDLz",
        "id": "TW060TppNRu8"
      },
      "source": [
        "# Try different LoRA rank"
      ],
      "id": "TW060TppNRu8"
    },
    {
      "cell_type": "markdown",
      "metadata": {
        "cell_ktag": "fQc1gnyBXDLz",
        "id": "F_iRuxiYNRu8"
      },
      "source": [
        "__Question 6 (4 points) :__"
      ],
      "id": "F_iRuxiYNRu8"
    },
    {
      "cell_type": "markdown",
      "metadata": {
        "cell_ktag": "fQc1gnyBXDLz",
        "id": "itWitRfaNRu9"
      },
      "source": [
        "Fine-tune the pre-trained model using different lora ranks [1,2,4,8,16,32,64], evaluate it on the test set\n",
        "and store the number of parameters added\n",
        "\n",
        "Make a plot showing the test accuracy as a function of lora rank. \\\n",
        "Compare it to the test accuracy of the pre-trained model fine-tuned in the usual way on MNIST 5...9\n",
        "\n",
        "Conclude by looking at the number of parameters added\n",
        "\n",
        "Discuss what are the pros of LoRA, what possible applications do you envision for it ?"
      ],
      "id": "itWitRfaNRu9"
    },
    {
      "cell_type": "code",
      "execution_count": 50,
      "metadata": {
        "cell_ktag": "fQc1gnyBXDLz",
        "colab": {
          "base_uri": "https://localhost:8080/"
        },
        "id": "xaQZYy5-NRu9",
        "outputId": "1203139f-99e3-4a12-a043-26dda0d0dd17"
      },
      "outputs": [
        {
          "output_type": "stream",
          "name": "stderr",
          "text": [
            "Training: 100%|██████████| 161/161 [00:05<00:00, 31.78it/s, loss=7.31]\n"
          ]
        },
        {
          "output_type": "stream",
          "name": "stdout",
          "text": [
            "Epoch [1/10] Train Loss: 7.312126837902188\n"
          ]
        },
        {
          "output_type": "stream",
          "name": "stderr",
          "text": [
            "Validation: 100%|██████████| 69/69 [00:02<00:00, 33.34it/s, loss=6.34]\n"
          ]
        },
        {
          "output_type": "stream",
          "name": "stdout",
          "text": [
            "Epoch [1/10] Validation Loss: 6.342395969059156\n"
          ]
        },
        {
          "output_type": "stream",
          "name": "stderr",
          "text": [
            "Training: 100%|██████████| 161/161 [00:06<00:00, 24.74it/s, loss=6.33]\n"
          ]
        },
        {
          "output_type": "stream",
          "name": "stdout",
          "text": [
            "Epoch [2/10] Train Loss: 6.326484286266824\n"
          ]
        },
        {
          "output_type": "stream",
          "name": "stderr",
          "text": [
            "Validation: 100%|██████████| 69/69 [00:02<00:00, 33.30it/s, loss=5.34]\n"
          ]
        },
        {
          "output_type": "stream",
          "name": "stdout",
          "text": [
            "Epoch [2/10] Validation Loss: 5.342451693355173\n"
          ]
        },
        {
          "output_type": "stream",
          "name": "stderr",
          "text": [
            "Training: 100%|██████████| 161/161 [00:05<00:00, 32.17it/s, loss=5.35]\n"
          ]
        },
        {
          "output_type": "stream",
          "name": "stdout",
          "text": [
            "Epoch [3/10] Train Loss: 5.34851676780985\n"
          ]
        },
        {
          "output_type": "stream",
          "name": "stderr",
          "text": [
            "Validation: 100%|██████████| 69/69 [00:02<00:00, 24.96it/s, loss=4.39]\n"
          ]
        },
        {
          "output_type": "stream",
          "name": "stdout",
          "text": [
            "Epoch [3/10] Validation Loss: 4.385790220205335\n"
          ]
        },
        {
          "output_type": "stream",
          "name": "stderr",
          "text": [
            "Training: 100%|██████████| 161/161 [00:05<00:00, 30.61it/s, loss=4.74]\n"
          ]
        },
        {
          "output_type": "stream",
          "name": "stdout",
          "text": [
            "Epoch [4/10] Train Loss: 4.73678657875298\n"
          ]
        },
        {
          "output_type": "stream",
          "name": "stderr",
          "text": [
            "Validation: 100%|██████████| 69/69 [00:02<00:00, 33.22it/s, loss=3.94]\n"
          ]
        },
        {
          "output_type": "stream",
          "name": "stdout",
          "text": [
            "Epoch [4/10] Validation Loss: 3.939455585203309\n"
          ]
        },
        {
          "output_type": "stream",
          "name": "stderr",
          "text": [
            "Training: 100%|██████████| 161/161 [00:06<00:00, 26.29it/s, loss=4.35]\n"
          ]
        },
        {
          "output_type": "stream",
          "name": "stdout",
          "text": [
            "Epoch [5/10] Train Loss: 4.345121718341519\n"
          ]
        },
        {
          "output_type": "stream",
          "name": "stderr",
          "text": [
            "Validation: 100%|██████████| 69/69 [00:02<00:00, 32.09it/s, loss=3.58]\n"
          ]
        },
        {
          "output_type": "stream",
          "name": "stdout",
          "text": [
            "Epoch [5/10] Validation Loss: 3.5769331317017046\n"
          ]
        },
        {
          "output_type": "stream",
          "name": "stderr",
          "text": [
            "Training: 100%|██████████| 161/161 [00:05<00:00, 31.95it/s, loss=3.98]\n"
          ]
        },
        {
          "output_type": "stream",
          "name": "stdout",
          "text": [
            "Epoch [6/10] Train Loss: 3.983271659531208\n"
          ]
        },
        {
          "output_type": "stream",
          "name": "stderr",
          "text": [
            "Validation: 100%|██████████| 69/69 [00:02<00:00, 33.80it/s, loss=3.24]\n"
          ]
        },
        {
          "output_type": "stream",
          "name": "stdout",
          "text": [
            "Epoch [6/10] Validation Loss: 3.2356971070386362\n"
          ]
        },
        {
          "output_type": "stream",
          "name": "stderr",
          "text": [
            "Training: 100%|██████████| 161/161 [00:06<00:00, 26.45it/s, loss=3.66]\n"
          ]
        },
        {
          "output_type": "stream",
          "name": "stdout",
          "text": [
            "Epoch [7/10] Train Loss: 3.6586752589444935\n"
          ]
        },
        {
          "output_type": "stream",
          "name": "stderr",
          "text": [
            "Validation: 100%|██████████| 69/69 [00:02<00:00, 33.51it/s, loss=2.85]\n"
          ]
        },
        {
          "output_type": "stream",
          "name": "stdout",
          "text": [
            "Epoch [7/10] Validation Loss: 2.8491083003472593\n"
          ]
        },
        {
          "output_type": "stream",
          "name": "stderr",
          "text": [
            "Training: 100%|██████████| 161/161 [00:06<00:00, 26.63it/s, loss=3.24]\n"
          ]
        },
        {
          "output_type": "stream",
          "name": "stdout",
          "text": [
            "Epoch [8/10] Train Loss: 3.2421740049160785\n"
          ]
        },
        {
          "output_type": "stream",
          "name": "stderr",
          "text": [
            "Validation: 100%|██████████| 69/69 [00:02<00:00, 26.06it/s, loss=2.44]\n"
          ]
        },
        {
          "output_type": "stream",
          "name": "stdout",
          "text": [
            "Epoch [8/10] Validation Loss: 2.4356608097104058\n"
          ]
        },
        {
          "output_type": "stream",
          "name": "stderr",
          "text": [
            "Training: 100%|██████████| 161/161 [00:05<00:00, 29.84it/s, loss=2.84]\n"
          ]
        },
        {
          "output_type": "stream",
          "name": "stdout",
          "text": [
            "Epoch [9/10] Train Loss: 2.835040473789902\n"
          ]
        },
        {
          "output_type": "stream",
          "name": "stderr",
          "text": [
            "Validation: 100%|██████████| 69/69 [00:02<00:00, 33.68it/s, loss=2.1]\n"
          ]
        },
        {
          "output_type": "stream",
          "name": "stdout",
          "text": [
            "Epoch [9/10] Validation Loss: 2.1011232362277266\n"
          ]
        },
        {
          "output_type": "stream",
          "name": "stderr",
          "text": [
            "Training: 100%|██████████| 161/161 [00:05<00:00, 28.43it/s, loss=2.58]\n"
          ]
        },
        {
          "output_type": "stream",
          "name": "stdout",
          "text": [
            "Epoch [10/10] Train Loss: 2.5803285267042075\n"
          ]
        },
        {
          "output_type": "stream",
          "name": "stderr",
          "text": [
            "Validation: 100%|██████████| 69/69 [00:02<00:00, 28.41it/s, loss=1.86]\n"
          ]
        },
        {
          "output_type": "stream",
          "name": "stdout",
          "text": [
            "Epoch [10/10] Validation Loss: 1.8632284126419951\n"
          ]
        },
        {
          "output_type": "stream",
          "name": "stderr",
          "text": [
            "subset2: 100%|██████████| 38/38 [00:01<00:00, 30.85it/s]\n"
          ]
        },
        {
          "output_type": "stream",
          "name": "stdout",
          "text": [
            "\n",
            "Accuracy: 0.632\n",
            "Wrong counts for the digit 5: 522\n",
            "Wrong counts for the digit 6: 341\n",
            "Wrong counts for the digit 7: 176\n",
            "Wrong counts for the digit 8: 635\n",
            "Wrong counts for the digit 9: 113\n"
          ]
        },
        {
          "output_type": "stream",
          "name": "stderr",
          "text": [
            "Training: 100%|██████████| 161/161 [00:05<00:00, 32.17it/s, loss=7.58]\n"
          ]
        },
        {
          "output_type": "stream",
          "name": "stdout",
          "text": [
            "Epoch [1/10] Train Loss: 7.581766383248087\n"
          ]
        },
        {
          "output_type": "stream",
          "name": "stderr",
          "text": [
            "Validation: 100%|██████████| 69/69 [00:02<00:00, 27.31it/s, loss=6.96]\n"
          ]
        },
        {
          "output_type": "stream",
          "name": "stdout",
          "text": [
            "Epoch [1/10] Validation Loss: 6.956747559533603\n"
          ]
        },
        {
          "output_type": "stream",
          "name": "stderr",
          "text": [
            "Training: 100%|██████████| 161/161 [00:06<00:00, 26.75it/s, loss=7.22]\n"
          ]
        },
        {
          "output_type": "stream",
          "name": "stdout",
          "text": [
            "Epoch [2/10] Train Loss: 7.217414855957031\n"
          ]
        },
        {
          "output_type": "stream",
          "name": "stderr",
          "text": [
            "Validation: 100%|██████████| 69/69 [00:02<00:00, 33.43it/s, loss=6.57]\n"
          ]
        },
        {
          "output_type": "stream",
          "name": "stdout",
          "text": [
            "Epoch [2/10] Validation Loss: 6.571718243585116\n"
          ]
        },
        {
          "output_type": "stream",
          "name": "stderr",
          "text": [
            "Training: 100%|██████████| 161/161 [00:05<00:00, 31.67it/s, loss=6.81]\n"
          ]
        },
        {
          "output_type": "stream",
          "name": "stdout",
          "text": [
            "Epoch [3/10] Train Loss: 6.809471494662835\n"
          ]
        },
        {
          "output_type": "stream",
          "name": "stderr",
          "text": [
            "Validation: 100%|██████████| 69/69 [00:02<00:00, 24.60it/s, loss=6.15]\n"
          ]
        },
        {
          "output_type": "stream",
          "name": "stdout",
          "text": [
            "Epoch [3/10] Validation Loss: 6.150742461715919\n"
          ]
        },
        {
          "output_type": "stream",
          "name": "stderr",
          "text": [
            "Training: 100%|██████████| 161/161 [00:05<00:00, 30.77it/s, loss=6.38]\n"
          ]
        },
        {
          "output_type": "stream",
          "name": "stdout",
          "text": [
            "Epoch [4/10] Train Loss: 6.383707505575618\n"
          ]
        },
        {
          "output_type": "stream",
          "name": "stderr",
          "text": [
            "Validation: 100%|██████████| 69/69 [00:02<00:00, 31.96it/s, loss=5.64]\n"
          ]
        },
        {
          "output_type": "stream",
          "name": "stdout",
          "text": [
            "Epoch [4/10] Validation Loss: 5.640684259110603\n"
          ]
        },
        {
          "output_type": "stream",
          "name": "stderr",
          "text": [
            "Training: 100%|██████████| 161/161 [00:05<00:00, 27.93it/s, loss=5.86]\n"
          ]
        },
        {
          "output_type": "stream",
          "name": "stdout",
          "text": [
            "Epoch [5/10] Train Loss: 5.860246285148289\n"
          ]
        },
        {
          "output_type": "stream",
          "name": "stderr",
          "text": [
            "Validation: 100%|██████████| 69/69 [00:02<00:00, 29.88it/s, loss=5.03]\n"
          ]
        },
        {
          "output_type": "stream",
          "name": "stdout",
          "text": [
            "Epoch [5/10] Validation Loss: 5.025598325591156\n"
          ]
        },
        {
          "output_type": "stream",
          "name": "stderr",
          "text": [
            "Training: 100%|██████████| 161/161 [00:05<00:00, 31.76it/s, loss=5.24]\n"
          ]
        },
        {
          "output_type": "stream",
          "name": "stdout",
          "text": [
            "Epoch [6/10] Train Loss: 5.236064330391262\n"
          ]
        },
        {
          "output_type": "stream",
          "name": "stderr",
          "text": [
            "Validation: 100%|██████████| 69/69 [00:02<00:00, 32.39it/s, loss=4.36]\n"
          ]
        },
        {
          "output_type": "stream",
          "name": "stdout",
          "text": [
            "Epoch [6/10] Validation Loss: 4.358135689859805\n"
          ]
        },
        {
          "output_type": "stream",
          "name": "stderr",
          "text": [
            "Training: 100%|██████████| 161/161 [00:05<00:00, 27.01it/s, loss=4.64]\n"
          ]
        },
        {
          "output_type": "stream",
          "name": "stdout",
          "text": [
            "Epoch [7/10] Train Loss: 4.636420851168425\n"
          ]
        },
        {
          "output_type": "stream",
          "name": "stderr",
          "text": [
            "Validation: 100%|██████████| 69/69 [00:02<00:00, 31.58it/s, loss=3.71]\n"
          ]
        },
        {
          "output_type": "stream",
          "name": "stdout",
          "text": [
            "Epoch [7/10] Validation Loss: 3.708144834076149\n"
          ]
        },
        {
          "output_type": "stream",
          "name": "stderr",
          "text": [
            "Training: 100%|██████████| 161/161 [00:05<00:00, 29.48it/s, loss=3.97]\n"
          ]
        },
        {
          "output_type": "stream",
          "name": "stdout",
          "text": [
            "Epoch [8/10] Train Loss: 3.969859718535998\n"
          ]
        },
        {
          "output_type": "stream",
          "name": "stderr",
          "text": [
            "Validation: 100%|██████████| 69/69 [00:02<00:00, 27.25it/s, loss=3.06]\n"
          ]
        },
        {
          "output_type": "stream",
          "name": "stdout",
          "text": [
            "Epoch [8/10] Validation Loss: 3.059410333633423\n"
          ]
        },
        {
          "output_type": "stream",
          "name": "stderr",
          "text": [
            "Training: 100%|██████████| 161/161 [00:05<00:00, 29.54it/s, loss=3.47]\n"
          ]
        },
        {
          "output_type": "stream",
          "name": "stdout",
          "text": [
            "Epoch [9/10] Train Loss: 3.4714575939296934\n"
          ]
        },
        {
          "output_type": "stream",
          "name": "stderr",
          "text": [
            "Validation: 100%|██████████| 69/69 [00:02<00:00, 33.27it/s, loss=2.48]\n"
          ]
        },
        {
          "output_type": "stream",
          "name": "stdout",
          "text": [
            "Epoch [9/10] Validation Loss: 2.475840475248254\n"
          ]
        },
        {
          "output_type": "stream",
          "name": "stderr",
          "text": [
            "Training: 100%|██████████| 161/161 [00:05<00:00, 29.10it/s, loss=2.9]\n"
          ]
        },
        {
          "output_type": "stream",
          "name": "stdout",
          "text": [
            "Epoch [10/10] Train Loss: 2.9020475734094657\n"
          ]
        },
        {
          "output_type": "stream",
          "name": "stderr",
          "text": [
            "Validation: 100%|██████████| 69/69 [00:02<00:00, 26.06it/s, loss=2.06]\n"
          ]
        },
        {
          "output_type": "stream",
          "name": "stdout",
          "text": [
            "Epoch [10/10] Validation Loss: 2.0562610971754878\n"
          ]
        },
        {
          "output_type": "stream",
          "name": "stderr",
          "text": [
            "subset2: 100%|██████████| 38/38 [00:01<00:00, 30.72it/s]\n"
          ]
        },
        {
          "output_type": "stream",
          "name": "stdout",
          "text": [
            "\n",
            "Accuracy: 0.647\n",
            "Wrong counts for the digit 5: 488\n",
            "Wrong counts for the digit 6: 465\n",
            "Wrong counts for the digit 7: 295\n",
            "Wrong counts for the digit 8: 358\n",
            "Wrong counts for the digit 9: 111\n"
          ]
        },
        {
          "output_type": "stream",
          "name": "stderr",
          "text": [
            "Training: 100%|██████████| 161/161 [00:05<00:00, 30.55it/s, loss=7.56]\n"
          ]
        },
        {
          "output_type": "stream",
          "name": "stdout",
          "text": [
            "Epoch [1/10] Train Loss: 7.5608696552537245\n"
          ]
        },
        {
          "output_type": "stream",
          "name": "stderr",
          "text": [
            "Validation: 100%|██████████| 69/69 [00:02<00:00, 31.66it/s, loss=6.88]\n"
          ]
        },
        {
          "output_type": "stream",
          "name": "stdout",
          "text": [
            "Epoch [1/10] Validation Loss: 6.877990529157113\n"
          ]
        },
        {
          "output_type": "stream",
          "name": "stderr",
          "text": [
            "Training: 100%|██████████| 161/161 [00:06<00:00, 25.83it/s, loss=7.07]\n"
          ]
        },
        {
          "output_type": "stream",
          "name": "stdout",
          "text": [
            "Epoch [2/10] Train Loss: 7.068817114978103\n"
          ]
        },
        {
          "output_type": "stream",
          "name": "stderr",
          "text": [
            "Validation: 100%|██████████| 69/69 [00:02<00:00, 33.13it/s, loss=6.37]\n"
          ]
        },
        {
          "output_type": "stream",
          "name": "stdout",
          "text": [
            "Epoch [2/10] Validation Loss: 6.367780063463294\n"
          ]
        },
        {
          "output_type": "stream",
          "name": "stderr",
          "text": [
            "Training: 100%|██████████| 161/161 [00:05<00:00, 31.96it/s, loss=6.51]\n"
          ]
        },
        {
          "output_type": "stream",
          "name": "stdout",
          "text": [
            "Epoch [3/10] Train Loss: 6.509646720767762\n"
          ]
        },
        {
          "output_type": "stream",
          "name": "stderr",
          "text": [
            "Validation: 100%|██████████| 69/69 [00:02<00:00, 27.25it/s, loss=5.75]\n"
          ]
        },
        {
          "output_type": "stream",
          "name": "stdout",
          "text": [
            "Epoch [3/10] Validation Loss: 5.7469718732695645\n"
          ]
        },
        {
          "output_type": "stream",
          "name": "stderr",
          "text": [
            "Training: 100%|██████████| 161/161 [00:05<00:00, 29.04it/s, loss=5.84]\n"
          ]
        },
        {
          "output_type": "stream",
          "name": "stdout",
          "text": [
            "Epoch [4/10] Train Loss: 5.839013997072018\n"
          ]
        },
        {
          "output_type": "stream",
          "name": "stderr",
          "text": [
            "Validation: 100%|██████████| 69/69 [00:02<00:00, 32.98it/s, loss=4.92]\n"
          ]
        },
        {
          "output_type": "stream",
          "name": "stdout",
          "text": [
            "Epoch [4/10] Validation Loss: 4.923983497896057\n"
          ]
        },
        {
          "output_type": "stream",
          "name": "stderr",
          "text": [
            "Training: 100%|██████████| 161/161 [00:05<00:00, 28.16it/s, loss=5]\n"
          ]
        },
        {
          "output_type": "stream",
          "name": "stdout",
          "text": [
            "Epoch [5/10] Train Loss: 4.999689232488596\n"
          ]
        },
        {
          "output_type": "stream",
          "name": "stderr",
          "text": [
            "Validation: 100%|██████████| 69/69 [00:02<00:00, 27.55it/s, loss=4.05]\n"
          ]
        },
        {
          "output_type": "stream",
          "name": "stdout",
          "text": [
            "Epoch [5/10] Validation Loss: 4.053560060003529\n"
          ]
        },
        {
          "output_type": "stream",
          "name": "stderr",
          "text": [
            "Training: 100%|██████████| 161/161 [00:05<00:00, 29.65it/s, loss=4.28]\n"
          ]
        },
        {
          "output_type": "stream",
          "name": "stdout",
          "text": [
            "Epoch [6/10] Train Loss: 4.276546966955529\n"
          ]
        },
        {
          "output_type": "stream",
          "name": "stderr",
          "text": [
            "Validation: 100%|██████████| 69/69 [00:02<00:00, 25.45it/s, loss=3.44]\n"
          ]
        },
        {
          "output_type": "stream",
          "name": "stdout",
          "text": [
            "Epoch [6/10] Validation Loss: 3.444342965665071\n"
          ]
        },
        {
          "output_type": "stream",
          "name": "stderr",
          "text": [
            "Training: 100%|██████████| 161/161 [00:06<00:00, 26.49it/s, loss=3.73]\n"
          ]
        },
        {
          "output_type": "stream",
          "name": "stdout",
          "text": [
            "Epoch [7/10] Train Loss: 3.733835388414608\n"
          ]
        },
        {
          "output_type": "stream",
          "name": "stderr",
          "text": [
            "Validation: 100%|██████████| 69/69 [00:02<00:00, 31.98it/s, loss=2.96]\n"
          ]
        },
        {
          "output_type": "stream",
          "name": "stdout",
          "text": [
            "Epoch [7/10] Validation Loss: 2.961788084196008\n"
          ]
        },
        {
          "output_type": "stream",
          "name": "stderr",
          "text": [
            "Training: 100%|██████████| 161/161 [00:05<00:00, 32.03it/s, loss=3.31]\n"
          ]
        },
        {
          "output_type": "stream",
          "name": "stdout",
          "text": [
            "Epoch [8/10] Train Loss: 3.309894203399279\n"
          ]
        },
        {
          "output_type": "stream",
          "name": "stderr",
          "text": [
            "Validation: 100%|██████████| 69/69 [00:02<00:00, 27.45it/s, loss=2.52]\n"
          ]
        },
        {
          "output_type": "stream",
          "name": "stdout",
          "text": [
            "Epoch [8/10] Validation Loss: 2.5162652817325317\n"
          ]
        },
        {
          "output_type": "stream",
          "name": "stderr",
          "text": [
            "Training: 100%|██████████| 161/161 [00:06<00:00, 26.76it/s, loss=2.87]\n"
          ]
        },
        {
          "output_type": "stream",
          "name": "stdout",
          "text": [
            "Epoch [9/10] Train Loss: 2.8661448029997927\n"
          ]
        },
        {
          "output_type": "stream",
          "name": "stderr",
          "text": [
            "Validation: 100%|██████████| 69/69 [00:02<00:00, 31.79it/s, loss=2.12]\n"
          ]
        },
        {
          "output_type": "stream",
          "name": "stdout",
          "text": [
            "Epoch [9/10] Validation Loss: 2.1159783964571743\n"
          ]
        },
        {
          "output_type": "stream",
          "name": "stderr",
          "text": [
            "Training: 100%|██████████| 161/161 [00:05<00:00, 28.21it/s, loss=2.54]\n"
          ]
        },
        {
          "output_type": "stream",
          "name": "stdout",
          "text": [
            "Epoch [10/10] Train Loss: 2.538138076385356\n"
          ]
        },
        {
          "output_type": "stream",
          "name": "stderr",
          "text": [
            "Validation: 100%|██████████| 69/69 [00:02<00:00, 28.86it/s, loss=1.76]\n"
          ]
        },
        {
          "output_type": "stream",
          "name": "stdout",
          "text": [
            "Epoch [10/10] Validation Loss: 1.7600626841835354\n"
          ]
        },
        {
          "output_type": "stream",
          "name": "stderr",
          "text": [
            "subset2: 100%|██████████| 38/38 [00:01<00:00, 31.17it/s]\n"
          ]
        },
        {
          "output_type": "stream",
          "name": "stdout",
          "text": [
            "\n",
            "Accuracy: 0.686\n",
            "Wrong counts for the digit 5: 473\n",
            "Wrong counts for the digit 6: 140\n",
            "Wrong counts for the digit 7: 247\n",
            "Wrong counts for the digit 8: 515\n",
            "Wrong counts for the digit 9: 149\n"
          ]
        },
        {
          "output_type": "stream",
          "name": "stderr",
          "text": [
            "Training: 100%|██████████| 161/161 [00:05<00:00, 31.80it/s, loss=7.53]\n"
          ]
        },
        {
          "output_type": "stream",
          "name": "stdout",
          "text": [
            "Epoch [1/10] Train Loss: 7.528588158743722\n"
          ]
        },
        {
          "output_type": "stream",
          "name": "stderr",
          "text": [
            "Validation: 100%|██████████| 69/69 [00:02<00:00, 33.73it/s, loss=6.73]\n"
          ]
        },
        {
          "output_type": "stream",
          "name": "stdout",
          "text": [
            "Epoch [1/10] Validation Loss: 6.726564545562302\n"
          ]
        },
        {
          "output_type": "stream",
          "name": "stderr",
          "text": [
            "Training: 100%|██████████| 161/161 [00:06<00:00, 26.67it/s, loss=6.81]\n"
          ]
        },
        {
          "output_type": "stream",
          "name": "stdout",
          "text": [
            "Epoch [2/10] Train Loss: 6.807962026655304\n"
          ]
        },
        {
          "output_type": "stream",
          "name": "stderr",
          "text": [
            "Validation: 100%|██████████| 69/69 [00:02<00:00, 32.62it/s, loss=6.01]\n"
          ]
        },
        {
          "output_type": "stream",
          "name": "stdout",
          "text": [
            "Epoch [2/10] Validation Loss: 6.008840443431467\n"
          ]
        },
        {
          "output_type": "stream",
          "name": "stderr",
          "text": [
            "Training: 100%|██████████| 161/161 [00:05<00:00, 30.49it/s, loss=6.04]\n"
          ]
        },
        {
          "output_type": "stream",
          "name": "stdout",
          "text": [
            "Epoch [3/10] Train Loss: 6.0443949640167425\n"
          ]
        },
        {
          "output_type": "stream",
          "name": "stderr",
          "text": [
            "Validation: 100%|██████████| 69/69 [00:02<00:00, 24.75it/s, loss=5.12]\n"
          ]
        },
        {
          "output_type": "stream",
          "name": "stdout",
          "text": [
            "Epoch [3/10] Validation Loss: 5.122466000957766\n"
          ]
        },
        {
          "output_type": "stream",
          "name": "stderr",
          "text": [
            "Training: 100%|██████████| 161/161 [00:05<00:00, 31.17it/s, loss=5.05]\n"
          ]
        },
        {
          "output_type": "stream",
          "name": "stdout",
          "text": [
            "Epoch [4/10] Train Loss: 5.045642972732923\n"
          ]
        },
        {
          "output_type": "stream",
          "name": "stderr",
          "text": [
            "Validation: 100%|██████████| 69/69 [00:02<00:00, 33.26it/s, loss=4.08]\n"
          ]
        },
        {
          "output_type": "stream",
          "name": "stdout",
          "text": [
            "Epoch [4/10] Validation Loss: 4.077121586039446\n"
          ]
        },
        {
          "output_type": "stream",
          "name": "stderr",
          "text": [
            "Training: 100%|██████████| 161/161 [00:05<00:00, 27.54it/s, loss=4.06]\n"
          ]
        },
        {
          "output_type": "stream",
          "name": "stdout",
          "text": [
            "Epoch [5/10] Train Loss: 4.062173425781061\n"
          ]
        },
        {
          "output_type": "stream",
          "name": "stderr",
          "text": [
            "Validation: 100%|██████████| 69/69 [00:02<00:00, 29.24it/s, loss=3.16]\n"
          ]
        },
        {
          "output_type": "stream",
          "name": "stdout",
          "text": [
            "Epoch [5/10] Validation Loss: 3.162712872892186\n"
          ]
        },
        {
          "output_type": "stream",
          "name": "stderr",
          "text": [
            "Training: 100%|██████████| 161/161 [00:05<00:00, 31.80it/s, loss=3.34]\n"
          ]
        },
        {
          "output_type": "stream",
          "name": "stdout",
          "text": [
            "Epoch [6/10] Train Loss: 3.339373727762921\n"
          ]
        },
        {
          "output_type": "stream",
          "name": "stderr",
          "text": [
            "Validation: 100%|██████████| 69/69 [00:02<00:00, 33.30it/s, loss=2.51]\n"
          ]
        },
        {
          "output_type": "stream",
          "name": "stdout",
          "text": [
            "Epoch [6/10] Validation Loss: 2.506872045821038\n"
          ]
        },
        {
          "output_type": "stream",
          "name": "stderr",
          "text": [
            "Training: 100%|██████████| 161/161 [00:06<00:00, 26.32it/s, loss=2.71]\n"
          ]
        },
        {
          "output_type": "stream",
          "name": "stdout",
          "text": [
            "Epoch [7/10] Train Loss: 2.711944413481292\n"
          ]
        },
        {
          "output_type": "stream",
          "name": "stderr",
          "text": [
            "Validation: 100%|██████████| 69/69 [00:02<00:00, 31.10it/s, loss=1.97]\n"
          ]
        },
        {
          "output_type": "stream",
          "name": "stdout",
          "text": [
            "Epoch [7/10] Validation Loss: 1.9707037884256113\n"
          ]
        },
        {
          "output_type": "stream",
          "name": "stderr",
          "text": [
            "Training: 100%|██████████| 161/161 [00:04<00:00, 32.36it/s, loss=2.2]\n"
          ]
        },
        {
          "output_type": "stream",
          "name": "stdout",
          "text": [
            "Epoch [8/10] Train Loss: 2.1968921756152042\n"
          ]
        },
        {
          "output_type": "stream",
          "name": "stderr",
          "text": [
            "Validation: 100%|██████████| 69/69 [00:02<00:00, 28.77it/s, loss=1.48]\n"
          ]
        },
        {
          "output_type": "stream",
          "name": "stdout",
          "text": [
            "Epoch [8/10] Validation Loss: 1.483551992022473\n"
          ]
        },
        {
          "output_type": "stream",
          "name": "stderr",
          "text": [
            "Training: 100%|██████████| 161/161 [00:05<00:00, 28.32it/s, loss=1.72]\n"
          ]
        },
        {
          "output_type": "stream",
          "name": "stdout",
          "text": [
            "Epoch [9/10] Train Loss: 1.7229324205321555\n"
          ]
        },
        {
          "output_type": "stream",
          "name": "stderr",
          "text": [
            "Validation: 100%|██████████| 69/69 [00:02<00:00, 32.99it/s, loss=1.12]\n"
          ]
        },
        {
          "output_type": "stream",
          "name": "stdout",
          "text": [
            "Epoch [9/10] Validation Loss: 1.1166232072788735\n"
          ]
        },
        {
          "output_type": "stream",
          "name": "stderr",
          "text": [
            "Training: 100%|██████████| 161/161 [00:05<00:00, 30.09it/s, loss=1.37]\n"
          ]
        },
        {
          "output_type": "stream",
          "name": "stdout",
          "text": [
            "Epoch [10/10] Train Loss: 1.3731055911283316\n"
          ]
        },
        {
          "output_type": "stream",
          "name": "stderr",
          "text": [
            "Validation: 100%|██████████| 69/69 [00:02<00:00, 24.75it/s, loss=0.891]\n"
          ]
        },
        {
          "output_type": "stream",
          "name": "stdout",
          "text": [
            "Epoch [10/10] Validation Loss: 0.8906995356082916\n"
          ]
        },
        {
          "output_type": "stream",
          "name": "stderr",
          "text": [
            "subset2: 100%|██████████| 38/38 [00:01<00:00, 28.76it/s]\n"
          ]
        },
        {
          "output_type": "stream",
          "name": "stdout",
          "text": [
            "\n",
            "Accuracy: 0.795\n",
            "Wrong counts for the digit 5: 259\n",
            "Wrong counts for the digit 6: 153\n",
            "Wrong counts for the digit 7: 174\n",
            "Wrong counts for the digit 8: 274\n",
            "Wrong counts for the digit 9: 138\n"
          ]
        },
        {
          "output_type": "stream",
          "name": "stderr",
          "text": [
            "Training: 100%|██████████| 161/161 [00:05<00:00, 31.09it/s, loss=7.56]\n"
          ]
        },
        {
          "output_type": "stream",
          "name": "stdout",
          "text": [
            "Epoch [1/10] Train Loss: 7.558154582977295\n"
          ]
        },
        {
          "output_type": "stream",
          "name": "stderr",
          "text": [
            "Validation: 100%|██████████| 69/69 [00:02<00:00, 33.41it/s, loss=6.72]\n"
          ]
        },
        {
          "output_type": "stream",
          "name": "stdout",
          "text": [
            "Epoch [1/10] Validation Loss: 6.723410108815068\n"
          ]
        },
        {
          "output_type": "stream",
          "name": "stderr",
          "text": [
            "Training: 100%|██████████| 161/161 [00:06<00:00, 26.40it/s, loss=6.76]\n"
          ]
        },
        {
          "output_type": "stream",
          "name": "stdout",
          "text": [
            "Epoch [2/10] Train Loss: 6.762751988002232\n"
          ]
        },
        {
          "output_type": "stream",
          "name": "stderr",
          "text": [
            "Validation: 100%|██████████| 69/69 [00:02<00:00, 32.65it/s, loss=5.87]\n"
          ]
        },
        {
          "output_type": "stream",
          "name": "stdout",
          "text": [
            "Epoch [2/10] Validation Loss: 5.868987159452576\n"
          ]
        },
        {
          "output_type": "stream",
          "name": "stderr",
          "text": [
            "Training: 100%|██████████| 161/161 [00:05<00:00, 30.65it/s, loss=5.77]\n"
          ]
        },
        {
          "output_type": "stream",
          "name": "stdout",
          "text": [
            "Epoch [3/10] Train Loss: 5.76558718622101\n"
          ]
        },
        {
          "output_type": "stream",
          "name": "stderr",
          "text": [
            "Validation: 100%|██████████| 69/69 [00:02<00:00, 27.57it/s, loss=4.78]\n"
          ]
        },
        {
          "output_type": "stream",
          "name": "stdout",
          "text": [
            "Epoch [3/10] Validation Loss: 4.777211486429408\n"
          ]
        },
        {
          "output_type": "stream",
          "name": "stderr",
          "text": [
            "Training: 100%|██████████| 161/161 [00:06<00:00, 26.08it/s, loss=4.56]\n"
          ]
        },
        {
          "output_type": "stream",
          "name": "stdout",
          "text": [
            "Epoch [4/10] Train Loss: 4.559984765437819\n"
          ]
        },
        {
          "output_type": "stream",
          "name": "stderr",
          "text": [
            "Validation: 100%|██████████| 69/69 [00:02<00:00, 23.51it/s, loss=3.46]\n"
          ]
        },
        {
          "output_type": "stream",
          "name": "stdout",
          "text": [
            "Epoch [4/10] Validation Loss: 3.4614086220229883\n"
          ]
        },
        {
          "output_type": "stream",
          "name": "stderr",
          "text": [
            "Training: 100%|██████████| 161/161 [00:06<00:00, 26.14it/s, loss=3.33]\n"
          ]
        },
        {
          "output_type": "stream",
          "name": "stdout",
          "text": [
            "Epoch [5/10] Train Loss: 3.3310090992021264\n"
          ]
        },
        {
          "output_type": "stream",
          "name": "stderr",
          "text": [
            "Validation: 100%|██████████| 69/69 [00:02<00:00, 32.34it/s, loss=2.37]\n"
          ]
        },
        {
          "output_type": "stream",
          "name": "stdout",
          "text": [
            "Epoch [5/10] Validation Loss: 2.3730362083600913\n"
          ]
        },
        {
          "output_type": "stream",
          "name": "stderr",
          "text": [
            "Training: 100%|██████████| 161/161 [00:05<00:00, 31.55it/s, loss=2.49]\n"
          ]
        },
        {
          "output_type": "stream",
          "name": "stdout",
          "text": [
            "Epoch [6/10] Train Loss: 2.4906602009483008\n"
          ]
        },
        {
          "output_type": "stream",
          "name": "stderr",
          "text": [
            "Validation: 100%|██████████| 69/69 [00:02<00:00, 33.05it/s, loss=1.75]\n"
          ]
        },
        {
          "output_type": "stream",
          "name": "stdout",
          "text": [
            "Epoch [6/10] Validation Loss: 1.7482257321260977\n"
          ]
        },
        {
          "output_type": "stream",
          "name": "stderr",
          "text": [
            "Training: 100%|██████████| 161/161 [00:06<00:00, 26.49it/s, loss=1.89]\n"
          ]
        },
        {
          "output_type": "stream",
          "name": "stdout",
          "text": [
            "Epoch [7/10] Train Loss: 1.8885448512083256\n"
          ]
        },
        {
          "output_type": "stream",
          "name": "stderr",
          "text": [
            "Validation: 100%|██████████| 69/69 [00:02<00:00, 32.78it/s, loss=1.26]\n"
          ]
        },
        {
          "output_type": "stream",
          "name": "stdout",
          "text": [
            "Epoch [7/10] Validation Loss: 1.2563604824784873\n"
          ]
        },
        {
          "output_type": "stream",
          "name": "stderr",
          "text": [
            "Training: 100%|██████████| 161/161 [00:05<00:00, 30.68it/s, loss=1.43]\n"
          ]
        },
        {
          "output_type": "stream",
          "name": "stdout",
          "text": [
            "Epoch [8/10] Train Loss: 1.4317213426465574\n"
          ]
        },
        {
          "output_type": "stream",
          "name": "stderr",
          "text": [
            "Validation: 100%|██████████| 69/69 [00:02<00:00, 26.98it/s, loss=0.909]\n"
          ]
        },
        {
          "output_type": "stream",
          "name": "stdout",
          "text": [
            "Epoch [8/10] Validation Loss: 0.9094951714294545\n"
          ]
        },
        {
          "output_type": "stream",
          "name": "stderr",
          "text": [
            "Training: 100%|██████████| 161/161 [00:05<00:00, 29.35it/s, loss=1.11]\n"
          ]
        },
        {
          "output_type": "stream",
          "name": "stdout",
          "text": [
            "Epoch [9/10] Train Loss: 1.1102673378049956\n"
          ]
        },
        {
          "output_type": "stream",
          "name": "stderr",
          "text": [
            "Validation: 100%|██████████| 69/69 [00:02<00:00, 33.57it/s, loss=0.731]\n"
          ]
        },
        {
          "output_type": "stream",
          "name": "stdout",
          "text": [
            "Epoch [9/10] Validation Loss: 0.730539007463317\n"
          ]
        },
        {
          "output_type": "stream",
          "name": "stderr",
          "text": [
            "Training: 100%|██████████| 161/161 [00:05<00:00, 28.87it/s, loss=0.94]\n"
          ]
        },
        {
          "output_type": "stream",
          "name": "stdout",
          "text": [
            "Epoch [10/10] Train Loss: 0.9399428367614746\n"
          ]
        },
        {
          "output_type": "stream",
          "name": "stderr",
          "text": [
            "Validation: 100%|██████████| 69/69 [00:02<00:00, 26.10it/s, loss=0.629]\n"
          ]
        },
        {
          "output_type": "stream",
          "name": "stdout",
          "text": [
            "Epoch [10/10] Validation Loss: 0.6292313618072565\n"
          ]
        },
        {
          "output_type": "stream",
          "name": "stderr",
          "text": [
            "subset2: 100%|██████████| 38/38 [00:01<00:00, 31.04it/s]\n"
          ]
        },
        {
          "output_type": "stream",
          "name": "stdout",
          "text": [
            "\n",
            "Accuracy: 0.847\n",
            "Wrong counts for the digit 5: 190\n",
            "Wrong counts for the digit 6: 82\n",
            "Wrong counts for the digit 7: 166\n",
            "Wrong counts for the digit 8: 170\n",
            "Wrong counts for the digit 9: 138\n"
          ]
        },
        {
          "output_type": "stream",
          "name": "stderr",
          "text": [
            "Training: 100%|██████████| 161/161 [00:05<00:00, 31.37it/s, loss=7.46]\n"
          ]
        },
        {
          "output_type": "stream",
          "name": "stdout",
          "text": [
            "Epoch [1/10] Train Loss: 7.462823547931932\n"
          ]
        },
        {
          "output_type": "stream",
          "name": "stderr",
          "text": [
            "Validation: 100%|██████████| 69/69 [00:02<00:00, 32.55it/s, loss=6.5]\n"
          ]
        },
        {
          "output_type": "stream",
          "name": "stdout",
          "text": [
            "Epoch [1/10] Validation Loss: 6.504181011863377\n"
          ]
        },
        {
          "output_type": "stream",
          "name": "stderr",
          "text": [
            "Training: 100%|██████████| 161/161 [00:06<00:00, 25.80it/s, loss=6.34]\n"
          ]
        },
        {
          "output_type": "stream",
          "name": "stdout",
          "text": [
            "Epoch [2/10] Train Loss: 6.340801940941662\n"
          ]
        },
        {
          "output_type": "stream",
          "name": "stderr",
          "text": [
            "Validation: 100%|██████████| 69/69 [00:02<00:00, 32.58it/s, loss=5.14]\n"
          ]
        },
        {
          "output_type": "stream",
          "name": "stdout",
          "text": [
            "Epoch [2/10] Validation Loss: 5.144556439441184\n"
          ]
        },
        {
          "output_type": "stream",
          "name": "stderr",
          "text": [
            "Training: 100%|██████████| 161/161 [00:05<00:00, 31.80it/s, loss=4.78]\n"
          ]
        },
        {
          "output_type": "stream",
          "name": "stdout",
          "text": [
            "Epoch [3/10] Train Loss: 4.779568946139412\n"
          ]
        },
        {
          "output_type": "stream",
          "name": "stderr",
          "text": [
            "Validation: 100%|██████████| 69/69 [00:02<00:00, 26.32it/s, loss=3.51]\n"
          ]
        },
        {
          "output_type": "stream",
          "name": "stdout",
          "text": [
            "Epoch [3/10] Validation Loss: 3.5082449636597564\n"
          ]
        },
        {
          "output_type": "stream",
          "name": "stderr",
          "text": [
            "Training: 100%|██████████| 161/161 [00:05<00:00, 28.51it/s, loss=3.25]\n"
          ]
        },
        {
          "output_type": "stream",
          "name": "stdout",
          "text": [
            "Epoch [4/10] Train Loss: 3.252333943147837\n"
          ]
        },
        {
          "output_type": "stream",
          "name": "stderr",
          "text": [
            "Validation: 100%|██████████| 69/69 [00:02<00:00, 33.29it/s, loss=2.18]\n"
          ]
        },
        {
          "output_type": "stream",
          "name": "stdout",
          "text": [
            "Epoch [4/10] Validation Loss: 2.1808951263842373\n"
          ]
        },
        {
          "output_type": "stream",
          "name": "stderr",
          "text": [
            "Training: 100%|██████████| 161/161 [00:05<00:00, 28.50it/s, loss=2.26]\n"
          ]
        },
        {
          "output_type": "stream",
          "name": "stdout",
          "text": [
            "Epoch [5/10] Train Loss: 2.2615667315003294\n"
          ]
        },
        {
          "output_type": "stream",
          "name": "stderr",
          "text": [
            "Validation: 100%|██████████| 69/69 [00:02<00:00, 26.80it/s, loss=1.52]\n"
          ]
        },
        {
          "output_type": "stream",
          "name": "stdout",
          "text": [
            "Epoch [5/10] Validation Loss: 1.5158149591390637\n"
          ]
        },
        {
          "output_type": "stream",
          "name": "stderr",
          "text": [
            "Training: 100%|██████████| 161/161 [00:05<00:00, 30.43it/s, loss=1.65]\n"
          ]
        },
        {
          "output_type": "stream",
          "name": "stdout",
          "text": [
            "Epoch [6/10] Train Loss: 1.6454324759311558\n"
          ]
        },
        {
          "output_type": "stream",
          "name": "stderr",
          "text": [
            "Validation: 100%|██████████| 69/69 [00:02<00:00, 33.56it/s, loss=1.03]\n"
          ]
        },
        {
          "output_type": "stream",
          "name": "stdout",
          "text": [
            "Epoch [6/10] Validation Loss: 1.0309980658517368\n"
          ]
        },
        {
          "output_type": "stream",
          "name": "stderr",
          "text": [
            "Training: 100%|██████████| 161/161 [00:06<00:00, 26.40it/s, loss=1.18]\n"
          ]
        },
        {
          "output_type": "stream",
          "name": "stdout",
          "text": [
            "Epoch [7/10] Train Loss: 1.1830489405934115\n"
          ]
        },
        {
          "output_type": "stream",
          "name": "stderr",
          "text": [
            "Validation: 100%|██████████| 69/69 [00:02<00:00, 32.26it/s, loss=0.769]\n"
          ]
        },
        {
          "output_type": "stream",
          "name": "stdout",
          "text": [
            "Epoch [7/10] Validation Loss: 0.7688830287560172\n"
          ]
        },
        {
          "output_type": "stream",
          "name": "stderr",
          "text": [
            "Training: 100%|██████████| 161/161 [00:05<00:00, 31.57it/s, loss=0.938]\n"
          ]
        },
        {
          "output_type": "stream",
          "name": "stdout",
          "text": [
            "Epoch [8/10] Train Loss: 0.9379122375701525\n"
          ]
        },
        {
          "output_type": "stream",
          "name": "stderr",
          "text": [
            "Validation: 100%|██████████| 69/69 [00:02<00:00, 29.08it/s, loss=0.641]\n"
          ]
        },
        {
          "output_type": "stream",
          "name": "stdout",
          "text": [
            "Epoch [8/10] Validation Loss: 0.6405257612898729\n"
          ]
        },
        {
          "output_type": "stream",
          "name": "stderr",
          "text": [
            "Training: 100%|██████████| 161/161 [00:05<00:00, 27.59it/s, loss=0.803]\n"
          ]
        },
        {
          "output_type": "stream",
          "name": "stdout",
          "text": [
            "Epoch [9/10] Train Loss: 0.8033919824946741\n"
          ]
        },
        {
          "output_type": "stream",
          "name": "stderr",
          "text": [
            "Validation: 100%|██████████| 69/69 [00:02<00:00, 31.26it/s, loss=0.562]\n"
          ]
        },
        {
          "output_type": "stream",
          "name": "stdout",
          "text": [
            "Epoch [9/10] Validation Loss: 0.5622847447360771\n"
          ]
        },
        {
          "output_type": "stream",
          "name": "stderr",
          "text": [
            "Training: 100%|██████████| 161/161 [00:05<00:00, 29.54it/s, loss=0.711]\n"
          ]
        },
        {
          "output_type": "stream",
          "name": "stdout",
          "text": [
            "Epoch [10/10] Train Loss: 0.7113626826994167\n"
          ]
        },
        {
          "output_type": "stream",
          "name": "stderr",
          "text": [
            "Validation: 100%|██████████| 69/69 [00:02<00:00, 25.31it/s, loss=0.508]\n"
          ]
        },
        {
          "output_type": "stream",
          "name": "stdout",
          "text": [
            "Epoch [10/10] Validation Loss: 0.5077106939709705\n"
          ]
        },
        {
          "output_type": "stream",
          "name": "stderr",
          "text": [
            "subset2: 100%|██████████| 38/38 [00:01<00:00, 31.49it/s]\n"
          ]
        },
        {
          "output_type": "stream",
          "name": "stdout",
          "text": [
            "\n",
            "Accuracy: 0.871\n",
            "Wrong counts for the digit 5: 197\n",
            "Wrong counts for the digit 6: 48\n",
            "Wrong counts for the digit 7: 137\n",
            "Wrong counts for the digit 8: 126\n",
            "Wrong counts for the digit 9: 119\n"
          ]
        },
        {
          "output_type": "stream",
          "name": "stderr",
          "text": [
            "Training: 100%|██████████| 161/161 [00:05<00:00, 31.27it/s, loss=7.29]\n"
          ]
        },
        {
          "output_type": "stream",
          "name": "stdout",
          "text": [
            "Epoch [1/10] Train Loss: 7.292472848240633\n"
          ]
        },
        {
          "output_type": "stream",
          "name": "stderr",
          "text": [
            "Validation: 100%|██████████| 69/69 [00:02<00:00, 32.83it/s, loss=6.12]\n"
          ]
        },
        {
          "output_type": "stream",
          "name": "stdout",
          "text": [
            "Epoch [1/10] Validation Loss: 6.119879916094352\n"
          ]
        },
        {
          "output_type": "stream",
          "name": "stderr",
          "text": [
            "Training: 100%|██████████| 161/161 [00:06<00:00, 26.34it/s, loss=5.52]\n"
          ]
        },
        {
          "output_type": "stream",
          "name": "stdout",
          "text": [
            "Epoch [2/10] Train Loss: 5.521701054543442\n"
          ]
        },
        {
          "output_type": "stream",
          "name": "stderr",
          "text": [
            "Validation: 100%|██████████| 69/69 [00:02<00:00, 26.08it/s, loss=3.89]\n"
          ]
        },
        {
          "output_type": "stream",
          "name": "stdout",
          "text": [
            "Epoch [2/10] Validation Loss: 3.888586676639059\n"
          ]
        },
        {
          "output_type": "stream",
          "name": "stderr",
          "text": [
            "Training: 100%|██████████| 161/161 [00:05<00:00, 28.08it/s, loss=3.27]\n"
          ]
        },
        {
          "output_type": "stream",
          "name": "stdout",
          "text": [
            "Epoch [3/10] Train Loss: 3.265186289822833\n"
          ]
        },
        {
          "output_type": "stream",
          "name": "stderr",
          "text": [
            "Validation: 100%|██████████| 69/69 [00:02<00:00, 23.68it/s, loss=2]\n"
          ]
        },
        {
          "output_type": "stream",
          "name": "stdout",
          "text": [
            "Epoch [3/10] Validation Loss: 2.0018840596295786\n"
          ]
        },
        {
          "output_type": "stream",
          "name": "stderr",
          "text": [
            "Training: 100%|██████████| 161/161 [00:05<00:00, 30.18it/s, loss=1.9]\n"
          ]
        },
        {
          "output_type": "stream",
          "name": "stdout",
          "text": [
            "Epoch [4/10] Train Loss: 1.9048670611766554\n"
          ]
        },
        {
          "output_type": "stream",
          "name": "stderr",
          "text": [
            "Validation: 100%|██████████| 69/69 [00:02<00:00, 31.43it/s, loss=1.15]\n"
          ]
        },
        {
          "output_type": "stream",
          "name": "stdout",
          "text": [
            "Epoch [4/10] Validation Loss: 1.154556878235029\n"
          ]
        },
        {
          "output_type": "stream",
          "name": "stderr",
          "text": [
            "Training: 100%|██████████| 161/161 [00:06<00:00, 26.53it/s, loss=1.16]\n"
          ]
        },
        {
          "output_type": "stream",
          "name": "stdout",
          "text": [
            "Epoch [5/10] Train Loss: 1.1593227256899294\n"
          ]
        },
        {
          "output_type": "stream",
          "name": "stderr",
          "text": [
            "Validation: 100%|██████████| 69/69 [00:02<00:00, 30.70it/s, loss=0.728]\n"
          ]
        },
        {
          "output_type": "stream",
          "name": "stdout",
          "text": [
            "Epoch [5/10] Validation Loss: 0.7279508835163669\n"
          ]
        },
        {
          "output_type": "stream",
          "name": "stderr",
          "text": [
            "Training: 100%|██████████| 161/161 [00:05<00:00, 31.29it/s, loss=0.846]\n"
          ]
        },
        {
          "output_type": "stream",
          "name": "stdout",
          "text": [
            "Epoch [6/10] Train Loss: 0.8457883389099784\n"
          ]
        },
        {
          "output_type": "stream",
          "name": "stderr",
          "text": [
            "Validation: 100%|██████████| 69/69 [00:02<00:00, 32.30it/s, loss=0.583]\n"
          ]
        },
        {
          "output_type": "stream",
          "name": "stdout",
          "text": [
            "Epoch [6/10] Validation Loss: 0.5830766109452732\n"
          ]
        },
        {
          "output_type": "stream",
          "name": "stderr",
          "text": [
            "Training: 100%|██████████| 161/161 [00:06<00:00, 25.21it/s, loss=0.712]\n"
          ]
        },
        {
          "output_type": "stream",
          "name": "stdout",
          "text": [
            "Epoch [7/10] Train Loss: 0.7119287374597159\n"
          ]
        },
        {
          "output_type": "stream",
          "name": "stderr",
          "text": [
            "Validation: 100%|██████████| 69/69 [00:02<00:00, 32.59it/s, loss=0.503]\n"
          ]
        },
        {
          "output_type": "stream",
          "name": "stdout",
          "text": [
            "Epoch [7/10] Validation Loss: 0.503306568964668\n"
          ]
        },
        {
          "output_type": "stream",
          "name": "stderr",
          "text": [
            "Training: 100%|██████████| 161/161 [00:05<00:00, 30.25it/s, loss=0.639]\n"
          ]
        },
        {
          "output_type": "stream",
          "name": "stdout",
          "text": [
            "Epoch [8/10] Train Loss: 0.639433498153035\n"
          ]
        },
        {
          "output_type": "stream",
          "name": "stderr",
          "text": [
            "Validation: 100%|██████████| 69/69 [00:02<00:00, 25.29it/s, loss=0.455]\n"
          ]
        },
        {
          "output_type": "stream",
          "name": "stdout",
          "text": [
            "Epoch [8/10] Validation Loss: 0.454610095075939\n"
          ]
        },
        {
          "output_type": "stream",
          "name": "stderr",
          "text": [
            "Training: 100%|██████████| 161/161 [00:05<00:00, 28.77it/s, loss=0.597]\n"
          ]
        },
        {
          "output_type": "stream",
          "name": "stdout",
          "text": [
            "Epoch [9/10] Train Loss: 0.5967054696556944\n"
          ]
        },
        {
          "output_type": "stream",
          "name": "stderr",
          "text": [
            "Validation: 100%|██████████| 69/69 [00:02<00:00, 32.35it/s, loss=0.416]\n"
          ]
        },
        {
          "output_type": "stream",
          "name": "stdout",
          "text": [
            "Epoch [9/10] Validation Loss: 0.41618734943693964\n"
          ]
        },
        {
          "output_type": "stream",
          "name": "stderr",
          "text": [
            "Training: 100%|██████████| 161/161 [00:05<00:00, 27.01it/s, loss=0.552]\n"
          ]
        },
        {
          "output_type": "stream",
          "name": "stdout",
          "text": [
            "Epoch [10/10] Train Loss: 0.551895472944153\n"
          ]
        },
        {
          "output_type": "stream",
          "name": "stderr",
          "text": [
            "Validation: 100%|██████████| 69/69 [00:02<00:00, 26.88it/s, loss=0.385]\n"
          ]
        },
        {
          "output_type": "stream",
          "name": "stdout",
          "text": [
            "Epoch [10/10] Validation Loss: 0.38499574514402857\n"
          ]
        },
        {
          "output_type": "stream",
          "name": "stderr",
          "text": [
            "subset2: 100%|██████████| 38/38 [00:01<00:00, 28.45it/s]"
          ]
        },
        {
          "output_type": "stream",
          "name": "stdout",
          "text": [
            "\n",
            "Accuracy: 0.896\n",
            "Wrong counts for the digit 5: 154\n",
            "Wrong counts for the digit 6: 46\n",
            "Wrong counts for the digit 7: 118\n",
            "Wrong counts for the digit 8: 92\n",
            "Wrong counts for the digit 9: 94\n"
          ]
        },
        {
          "output_type": "stream",
          "name": "stderr",
          "text": [
            "\n"
          ]
        }
      ],
      "source": [
        "lora_ranks = [1, 2, 4, 8, 16, 32, 64]\n",
        "\n",
        "test_accuracies_lora = []\n",
        "parameters_added_lora = []\n",
        "\n",
        "for rank in lora_ranks:\n",
        "    modified_net = ModifiedClassifier(lora_rank=rank).to(device)\n",
        "    _, _ = train(train_loader_subset2, val_loader_subset2, \"subset2\", modified_net, epochs=10)\n",
        "\n",
        "    test_accuracy = test(test_loader_subset2, \"subset2\", modified_net, {i: 0 for i in range(5, 10)})\n",
        "    test_accuracies_lora.append(test_accuracy)\n",
        "\n",
        "    parameters_added = count_lora_params(modified_net)\n",
        "    parameters_added_lora.append(parameters_added)"
      ],
      "id": "xaQZYy5-NRu9"
    },
    {
      "cell_type": "code",
      "source": [
        "# Number of Parameters added\n",
        "print(\"Number of Parameters Added in each Rank\")\n",
        "for i in range(len(lora_ranks)):\n",
        "  print(f'Rank {lora_ranks[i]}: {parameters_added_lora[i]}')\n",
        "  print(\"---\")"
      ],
      "metadata": {
        "colab": {
          "base_uri": "https://localhost:8080/"
        },
        "id": "d9ImTjpN3sr6",
        "outputId": "ee8f6595-cc73-4b85-bd5d-1ee4946be977"
      },
      "id": "d9ImTjpN3sr6",
      "execution_count": 56,
      "outputs": [
        {
          "output_type": "stream",
          "name": "stdout",
          "text": [
            "Number of Parameters Added in each Rank\n",
            "Rank 1: 6789\n",
            "---\n",
            "Rank 2: 13578\n",
            "---\n",
            "Rank 4: 27156\n",
            "---\n",
            "Rank 8: 54312\n",
            "---\n",
            "Rank 16: 108624\n",
            "---\n",
            "Rank 32: 217248\n",
            "---\n",
            "Rank 64: 434496\n",
            "---\n"
          ]
        }
      ]
    },
    {
      "cell_type": "code",
      "source": [
        "plt.figure(figsize=(10, 6))\n",
        "plt.plot(lora_ranks, test_accuracies_lora, label='LoRA Fine-tuning', marker='o')\n",
        "plt.axhline(y=test_accuracy_finetuned_subset2, color='r', linestyle='-', label='Usual Fine-tuning')\n",
        "plt.xlabel('LoRA Rank')\n",
        "plt.ylabel('Test Accuracy')\n",
        "plt.title('Test Accuracy as a Function of LoRA Rank on MNIST 5...9')\n",
        "plt.legend()\n",
        "plt.xscale('log')\n",
        "plt.show()"
      ],
      "metadata": {
        "colab": {
          "base_uri": "https://localhost:8080/",
          "height": 569
        },
        "id": "-_QzL6p_1Or9",
        "outputId": "768674ce-6a52-4786-fe75-060f88bdb75a"
      },
      "id": "-_QzL6p_1Or9",
      "execution_count": 52,
      "outputs": [
        {
          "output_type": "display_data",
          "data": {
            "text/plain": [
              "<Figure size 1000x600 with 1 Axes>"
            ],
            "image/png": "[encoded data removed]"
          },
          "metadata": {}
        }
      ]
    },
    {
      "cell_type": "markdown",
      "source": [
        "**[Observation]**  \n",
        "As the LoRA rank increases, the test accuracy increases at the same time, along with an increase in the number of parameters added as well. But after certain rank, the increasing trend becomes flatter. We also observe that the LoRA approach can't really reach the same level of accuracy. However, it approaches this benchmark especially at higher ranks, suggesting that with fewer parameters, LoRA can come close to full model fine-tuning performance.\n",
        "\n",
        "---\n",
        "**[What are the pros of LoRA?]**  \n",
        "- *Computational Efficiency* : It only updates a small fraction of the model's parameters so that it is able to save computational resources and thus enables the adaptation of very large models without retraining all again.\n",
        "\n",
        "- *Flexibility* : Able to fine-tune models for new tasks without largely forgetting pre-trained model parameters.\n",
        "\n",
        "- *Scalability* : As models become larger, fine-tuning and retraining entirely become impossible. LoRA's method scales better because the number of parameters added does not grow proportionally with the model size.\n",
        "\n",
        "---\n",
        "**[What possible applications do you envision for LoRA?]**  \n",
        "- *Transfer Learning* : LoRA can be applied when adapting LLMs to specific domains or tasks, for example, legal document analysis or information extraction.\n",
        "\n",
        "- *Edge Computing* : For applications where the model needs to be deployed on devices with limited computational resources, LoRA fine-tuning allows the deployment of powerful models in a resource-constrained environment.\n",
        "\n",
        "- *Personalization* : In some cases, like product recommendation systems, the personalization is key. Therefore, LoRA can quickly adapt a general model to individual users' preferences without extensive retraining."
      ],
      "metadata": {
        "id": "F1aVj9kl4cWe"
      },
      "id": "F1aVj9kl4cWe"
    }
  ],
  "metadata": {
    "kernelspec": {
      "display_name": "Python 3",
      "name": "python3"
    },
    "kfiletag": "fQc1gnyBXDLz",
    "language_info": {
      "codemirror_mode": {
        "name": "ipython",
        "version": 3
      },
      "file_extension": ".py",
      "mimetype": "text/x-python",
      "name": "python",
      "nbconvert_exporter": "python",
      "pygments_lexer": "ipython3",
      "version": "3.7.6"
    },
    "colab": {
      "provenance": [],
      "gpuType": "T4"
    },
    "accelerator": "GPU"
  },
  "nbformat": 4,
  "nbformat_minor": 5
}